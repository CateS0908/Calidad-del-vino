{
  "nbformat": 4,
  "nbformat_minor": 0,
  "metadata": {
    "colab": {
      "provenance": []
    },
    "kernelspec": {
      "name": "python3",
      "display_name": "Python 3"
    },
    "language_info": {
      "name": "python"
    }
  },
  "cells": [
    {
      "cell_type": "markdown",
      "source": [
        " 1. Carga y Exploración de Datos:\n",
        "\n",
        "Cargar el dataset y revisar su estructura básica.\n",
        "\n",
        "\n",
        "Describir las variables y su distribución.\n",
        "\n",
        "\n",
        "Identificar y tratar valores nulos y outliers."
      ],
      "metadata": {
        "id": "BM_TL63e-GHP"
      }
    },
    {
      "cell_type": "code",
      "source": [
        "from sklearn.compose import ColumnTransformer\n",
        "from sklearn.pipeline import Pipeline\n",
        "from sklearn.impute import SimpleImputer\n",
        "from sklearn.preprocessing import StandardScaler\n",
        "from sklearn.model_selection import train_test_split"
      ],
      "metadata": {
        "id": "CJf2U35xFEFn"
      },
      "execution_count": 1,
      "outputs": []
    },
    {
      "cell_type": "code",
      "execution_count": 2,
      "metadata": {
        "colab": {
          "base_uri": "https://localhost:8080/",
          "height": 206
        },
        "id": "xFnAv4hG9Rjy",
        "outputId": "8c824b2c-2f50-48f1-b667-13c91a17b32c"
      },
      "outputs": [
        {
          "output_type": "execute_result",
          "data": {
            "text/plain": [
              "   fixed acidity  volatile acidity  citric acid  residual sugar  chlorides  \\\n",
              "0            7.4              0.70         0.00             1.9      0.076   \n",
              "1            7.8              0.88         0.00             2.6      0.098   \n",
              "2            7.8              0.76         0.04             2.3      0.092   \n",
              "3           11.2              0.28         0.56             1.9      0.075   \n",
              "4            7.4              0.70         0.00             1.9      0.076   \n",
              "\n",
              "   free sulfur dioxide  total sulfur dioxide  density    pH  sulphates  \\\n",
              "0                 11.0                  34.0   0.9978  3.51       0.56   \n",
              "1                 25.0                  67.0   0.9968  3.20       0.68   \n",
              "2                 15.0                  54.0   0.9970  3.26       0.65   \n",
              "3                 17.0                  60.0   0.9980  3.16       0.58   \n",
              "4                 11.0                  34.0   0.9978  3.51       0.56   \n",
              "\n",
              "   alcohol  quality  Id  \n",
              "0      9.4        5   0  \n",
              "1      9.8        5   1  \n",
              "2      9.8        5   2  \n",
              "3      9.8        6   3  \n",
              "4      9.4        5   4  "
            ],
            "text/html": [
              "\n",
              "  <div id=\"df-565d51ac-3f8a-4b7b-8759-adcfeffa5af0\" class=\"colab-df-container\">\n",
              "    <div>\n",
              "<style scoped>\n",
              "    .dataframe tbody tr th:only-of-type {\n",
              "        vertical-align: middle;\n",
              "    }\n",
              "\n",
              "    .dataframe tbody tr th {\n",
              "        vertical-align: top;\n",
              "    }\n",
              "\n",
              "    .dataframe thead th {\n",
              "        text-align: right;\n",
              "    }\n",
              "</style>\n",
              "<table border=\"1\" class=\"dataframe\">\n",
              "  <thead>\n",
              "    <tr style=\"text-align: right;\">\n",
              "      <th></th>\n",
              "      <th>fixed acidity</th>\n",
              "      <th>volatile acidity</th>\n",
              "      <th>citric acid</th>\n",
              "      <th>residual sugar</th>\n",
              "      <th>chlorides</th>\n",
              "      <th>free sulfur dioxide</th>\n",
              "      <th>total sulfur dioxide</th>\n",
              "      <th>density</th>\n",
              "      <th>pH</th>\n",
              "      <th>sulphates</th>\n",
              "      <th>alcohol</th>\n",
              "      <th>quality</th>\n",
              "      <th>Id</th>\n",
              "    </tr>\n",
              "  </thead>\n",
              "  <tbody>\n",
              "    <tr>\n",
              "      <th>0</th>\n",
              "      <td>7.4</td>\n",
              "      <td>0.70</td>\n",
              "      <td>0.00</td>\n",
              "      <td>1.9</td>\n",
              "      <td>0.076</td>\n",
              "      <td>11.0</td>\n",
              "      <td>34.0</td>\n",
              "      <td>0.9978</td>\n",
              "      <td>3.51</td>\n",
              "      <td>0.56</td>\n",
              "      <td>9.4</td>\n",
              "      <td>5</td>\n",
              "      <td>0</td>\n",
              "    </tr>\n",
              "    <tr>\n",
              "      <th>1</th>\n",
              "      <td>7.8</td>\n",
              "      <td>0.88</td>\n",
              "      <td>0.00</td>\n",
              "      <td>2.6</td>\n",
              "      <td>0.098</td>\n",
              "      <td>25.0</td>\n",
              "      <td>67.0</td>\n",
              "      <td>0.9968</td>\n",
              "      <td>3.20</td>\n",
              "      <td>0.68</td>\n",
              "      <td>9.8</td>\n",
              "      <td>5</td>\n",
              "      <td>1</td>\n",
              "    </tr>\n",
              "    <tr>\n",
              "      <th>2</th>\n",
              "      <td>7.8</td>\n",
              "      <td>0.76</td>\n",
              "      <td>0.04</td>\n",
              "      <td>2.3</td>\n",
              "      <td>0.092</td>\n",
              "      <td>15.0</td>\n",
              "      <td>54.0</td>\n",
              "      <td>0.9970</td>\n",
              "      <td>3.26</td>\n",
              "      <td>0.65</td>\n",
              "      <td>9.8</td>\n",
              "      <td>5</td>\n",
              "      <td>2</td>\n",
              "    </tr>\n",
              "    <tr>\n",
              "      <th>3</th>\n",
              "      <td>11.2</td>\n",
              "      <td>0.28</td>\n",
              "      <td>0.56</td>\n",
              "      <td>1.9</td>\n",
              "      <td>0.075</td>\n",
              "      <td>17.0</td>\n",
              "      <td>60.0</td>\n",
              "      <td>0.9980</td>\n",
              "      <td>3.16</td>\n",
              "      <td>0.58</td>\n",
              "      <td>9.8</td>\n",
              "      <td>6</td>\n",
              "      <td>3</td>\n",
              "    </tr>\n",
              "    <tr>\n",
              "      <th>4</th>\n",
              "      <td>7.4</td>\n",
              "      <td>0.70</td>\n",
              "      <td>0.00</td>\n",
              "      <td>1.9</td>\n",
              "      <td>0.076</td>\n",
              "      <td>11.0</td>\n",
              "      <td>34.0</td>\n",
              "      <td>0.9978</td>\n",
              "      <td>3.51</td>\n",
              "      <td>0.56</td>\n",
              "      <td>9.4</td>\n",
              "      <td>5</td>\n",
              "      <td>4</td>\n",
              "    </tr>\n",
              "  </tbody>\n",
              "</table>\n",
              "</div>\n",
              "    <div class=\"colab-df-buttons\">\n",
              "\n",
              "  <div class=\"colab-df-container\">\n",
              "    <button class=\"colab-df-convert\" onclick=\"convertToInteractive('df-565d51ac-3f8a-4b7b-8759-adcfeffa5af0')\"\n",
              "            title=\"Convert this dataframe to an interactive table.\"\n",
              "            style=\"display:none;\">\n",
              "\n",
              "  <svg xmlns=\"http://www.w3.org/2000/svg\" height=\"24px\" viewBox=\"0 -960 960 960\">\n",
              "    <path d=\"M120-120v-720h720v720H120Zm60-500h600v-160H180v160Zm220 220h160v-160H400v160Zm0 220h160v-160H400v160ZM180-400h160v-160H180v160Zm440 0h160v-160H620v160ZM180-180h160v-160H180v160Zm440 0h160v-160H620v160Z\"/>\n",
              "  </svg>\n",
              "    </button>\n",
              "\n",
              "  <style>\n",
              "    .colab-df-container {\n",
              "      display:flex;\n",
              "      gap: 12px;\n",
              "    }\n",
              "\n",
              "    .colab-df-convert {\n",
              "      background-color: #E8F0FE;\n",
              "      border: none;\n",
              "      border-radius: 50%;\n",
              "      cursor: pointer;\n",
              "      display: none;\n",
              "      fill: #1967D2;\n",
              "      height: 32px;\n",
              "      padding: 0 0 0 0;\n",
              "      width: 32px;\n",
              "    }\n",
              "\n",
              "    .colab-df-convert:hover {\n",
              "      background-color: #E2EBFA;\n",
              "      box-shadow: 0px 1px 2px rgba(60, 64, 67, 0.3), 0px 1px 3px 1px rgba(60, 64, 67, 0.15);\n",
              "      fill: #174EA6;\n",
              "    }\n",
              "\n",
              "    .colab-df-buttons div {\n",
              "      margin-bottom: 4px;\n",
              "    }\n",
              "\n",
              "    [theme=dark] .colab-df-convert {\n",
              "      background-color: #3B4455;\n",
              "      fill: #D2E3FC;\n",
              "    }\n",
              "\n",
              "    [theme=dark] .colab-df-convert:hover {\n",
              "      background-color: #434B5C;\n",
              "      box-shadow: 0px 1px 3px 1px rgba(0, 0, 0, 0.15);\n",
              "      filter: drop-shadow(0px 1px 2px rgba(0, 0, 0, 0.3));\n",
              "      fill: #FFFFFF;\n",
              "    }\n",
              "  </style>\n",
              "\n",
              "    <script>\n",
              "      const buttonEl =\n",
              "        document.querySelector('#df-565d51ac-3f8a-4b7b-8759-adcfeffa5af0 button.colab-df-convert');\n",
              "      buttonEl.style.display =\n",
              "        google.colab.kernel.accessAllowed ? 'block' : 'none';\n",
              "\n",
              "      async function convertToInteractive(key) {\n",
              "        const element = document.querySelector('#df-565d51ac-3f8a-4b7b-8759-adcfeffa5af0');\n",
              "        const dataTable =\n",
              "          await google.colab.kernel.invokeFunction('convertToInteractive',\n",
              "                                                    [key], {});\n",
              "        if (!dataTable) return;\n",
              "\n",
              "        const docLinkHtml = 'Like what you see? Visit the ' +\n",
              "          '<a target=\"_blank\" href=https://colab.research.google.com/notebooks/data_table.ipynb>data table notebook</a>'\n",
              "          + ' to learn more about interactive tables.';\n",
              "        element.innerHTML = '';\n",
              "        dataTable['output_type'] = 'display_data';\n",
              "        await google.colab.output.renderOutput(dataTable, element);\n",
              "        const docLink = document.createElement('div');\n",
              "        docLink.innerHTML = docLinkHtml;\n",
              "        element.appendChild(docLink);\n",
              "      }\n",
              "    </script>\n",
              "  </div>\n",
              "\n",
              "\n",
              "<div id=\"df-4ffb1696-0b65-4e0c-a26a-2379e8f1b997\">\n",
              "  <button class=\"colab-df-quickchart\" onclick=\"quickchart('df-4ffb1696-0b65-4e0c-a26a-2379e8f1b997')\"\n",
              "            title=\"Suggest charts\"\n",
              "            style=\"display:none;\">\n",
              "\n",
              "<svg xmlns=\"http://www.w3.org/2000/svg\" height=\"24px\"viewBox=\"0 0 24 24\"\n",
              "     width=\"24px\">\n",
              "    <g>\n",
              "        <path d=\"M19 3H5c-1.1 0-2 .9-2 2v14c0 1.1.9 2 2 2h14c1.1 0 2-.9 2-2V5c0-1.1-.9-2-2-2zM9 17H7v-7h2v7zm4 0h-2V7h2v10zm4 0h-2v-4h2v4z\"/>\n",
              "    </g>\n",
              "</svg>\n",
              "  </button>\n",
              "\n",
              "<style>\n",
              "  .colab-df-quickchart {\n",
              "      --bg-color: #E8F0FE;\n",
              "      --fill-color: #1967D2;\n",
              "      --hover-bg-color: #E2EBFA;\n",
              "      --hover-fill-color: #174EA6;\n",
              "      --disabled-fill-color: #AAA;\n",
              "      --disabled-bg-color: #DDD;\n",
              "  }\n",
              "\n",
              "  [theme=dark] .colab-df-quickchart {\n",
              "      --bg-color: #3B4455;\n",
              "      --fill-color: #D2E3FC;\n",
              "      --hover-bg-color: #434B5C;\n",
              "      --hover-fill-color: #FFFFFF;\n",
              "      --disabled-bg-color: #3B4455;\n",
              "      --disabled-fill-color: #666;\n",
              "  }\n",
              "\n",
              "  .colab-df-quickchart {\n",
              "    background-color: var(--bg-color);\n",
              "    border: none;\n",
              "    border-radius: 50%;\n",
              "    cursor: pointer;\n",
              "    display: none;\n",
              "    fill: var(--fill-color);\n",
              "    height: 32px;\n",
              "    padding: 0;\n",
              "    width: 32px;\n",
              "  }\n",
              "\n",
              "  .colab-df-quickchart:hover {\n",
              "    background-color: var(--hover-bg-color);\n",
              "    box-shadow: 0 1px 2px rgba(60, 64, 67, 0.3), 0 1px 3px 1px rgba(60, 64, 67, 0.15);\n",
              "    fill: var(--button-hover-fill-color);\n",
              "  }\n",
              "\n",
              "  .colab-df-quickchart-complete:disabled,\n",
              "  .colab-df-quickchart-complete:disabled:hover {\n",
              "    background-color: var(--disabled-bg-color);\n",
              "    fill: var(--disabled-fill-color);\n",
              "    box-shadow: none;\n",
              "  }\n",
              "\n",
              "  .colab-df-spinner {\n",
              "    border: 2px solid var(--fill-color);\n",
              "    border-color: transparent;\n",
              "    border-bottom-color: var(--fill-color);\n",
              "    animation:\n",
              "      spin 1s steps(1) infinite;\n",
              "  }\n",
              "\n",
              "  @keyframes spin {\n",
              "    0% {\n",
              "      border-color: transparent;\n",
              "      border-bottom-color: var(--fill-color);\n",
              "      border-left-color: var(--fill-color);\n",
              "    }\n",
              "    20% {\n",
              "      border-color: transparent;\n",
              "      border-left-color: var(--fill-color);\n",
              "      border-top-color: var(--fill-color);\n",
              "    }\n",
              "    30% {\n",
              "      border-color: transparent;\n",
              "      border-left-color: var(--fill-color);\n",
              "      border-top-color: var(--fill-color);\n",
              "      border-right-color: var(--fill-color);\n",
              "    }\n",
              "    40% {\n",
              "      border-color: transparent;\n",
              "      border-right-color: var(--fill-color);\n",
              "      border-top-color: var(--fill-color);\n",
              "    }\n",
              "    60% {\n",
              "      border-color: transparent;\n",
              "      border-right-color: var(--fill-color);\n",
              "    }\n",
              "    80% {\n",
              "      border-color: transparent;\n",
              "      border-right-color: var(--fill-color);\n",
              "      border-bottom-color: var(--fill-color);\n",
              "    }\n",
              "    90% {\n",
              "      border-color: transparent;\n",
              "      border-bottom-color: var(--fill-color);\n",
              "    }\n",
              "  }\n",
              "</style>\n",
              "\n",
              "  <script>\n",
              "    async function quickchart(key) {\n",
              "      const quickchartButtonEl =\n",
              "        document.querySelector('#' + key + ' button');\n",
              "      quickchartButtonEl.disabled = true;  // To prevent multiple clicks.\n",
              "      quickchartButtonEl.classList.add('colab-df-spinner');\n",
              "      try {\n",
              "        const charts = await google.colab.kernel.invokeFunction(\n",
              "            'suggestCharts', [key], {});\n",
              "      } catch (error) {\n",
              "        console.error('Error during call to suggestCharts:', error);\n",
              "      }\n",
              "      quickchartButtonEl.classList.remove('colab-df-spinner');\n",
              "      quickchartButtonEl.classList.add('colab-df-quickchart-complete');\n",
              "    }\n",
              "    (() => {\n",
              "      let quickchartButtonEl =\n",
              "        document.querySelector('#df-4ffb1696-0b65-4e0c-a26a-2379e8f1b997 button');\n",
              "      quickchartButtonEl.style.display =\n",
              "        google.colab.kernel.accessAllowed ? 'block' : 'none';\n",
              "    })();\n",
              "  </script>\n",
              "</div>\n",
              "\n",
              "    </div>\n",
              "  </div>\n"
            ],
            "application/vnd.google.colaboratory.intrinsic+json": {
              "type": "dataframe",
              "variable_name": "df",
              "summary": "{\n  \"name\": \"df\",\n  \"rows\": 1143,\n  \"fields\": [\n    {\n      \"column\": \"fixed acidity\",\n      \"properties\": {\n        \"dtype\": \"number\",\n        \"std\": 1.74759501716954,\n        \"min\": 4.6,\n        \"max\": 15.9,\n        \"num_unique_values\": 91,\n        \"samples\": [\n          9.7,\n          7.0,\n          9.0\n        ],\n        \"semantic_type\": \"\",\n        \"description\": \"\"\n      }\n    },\n    {\n      \"column\": \"volatile acidity\",\n      \"properties\": {\n        \"dtype\": \"number\",\n        \"std\": 0.1796331930225245,\n        \"min\": 0.12,\n        \"max\": 1.58,\n        \"num_unique_values\": 135,\n        \"samples\": [\n          0.715,\n          0.48,\n          0.92\n        ],\n        \"semantic_type\": \"\",\n        \"description\": \"\"\n      }\n    },\n    {\n      \"column\": \"citric acid\",\n      \"properties\": {\n        \"dtype\": \"number\",\n        \"std\": 0.19668585234821898,\n        \"min\": 0.0,\n        \"max\": 1.0,\n        \"num_unique_values\": 77,\n        \"samples\": [\n          0.02,\n          0.19,\n          0.11\n        ],\n        \"semantic_type\": \"\",\n        \"description\": \"\"\n      }\n    },\n    {\n      \"column\": \"residual sugar\",\n      \"properties\": {\n        \"dtype\": \"number\",\n        \"std\": 1.3559174666826799,\n        \"min\": 0.9,\n        \"max\": 15.5,\n        \"num_unique_values\": 80,\n        \"samples\": [\n          4.0,\n          1.9,\n          7.2\n        ],\n        \"semantic_type\": \"\",\n        \"description\": \"\"\n      }\n    },\n    {\n      \"column\": \"chlorides\",\n      \"properties\": {\n        \"dtype\": \"number\",\n        \"std\": 0.04726733795238057,\n        \"min\": 0.012,\n        \"max\": 0.611,\n        \"num_unique_values\": 131,\n        \"samples\": [\n          0.061,\n          0.119,\n          0.066\n        ],\n        \"semantic_type\": \"\",\n        \"description\": \"\"\n      }\n    },\n    {\n      \"column\": \"free sulfur dioxide\",\n      \"properties\": {\n        \"dtype\": \"number\",\n        \"std\": 10.250486123430822,\n        \"min\": 1.0,\n        \"max\": 68.0,\n        \"num_unique_values\": 53,\n        \"samples\": [\n          30.0,\n          46.0,\n          40.0\n        ],\n        \"semantic_type\": \"\",\n        \"description\": \"\"\n      }\n    },\n    {\n      \"column\": \"total sulfur dioxide\",\n      \"properties\": {\n        \"dtype\": \"number\",\n        \"std\": 32.78213030734311,\n        \"min\": 6.0,\n        \"max\": 289.0,\n        \"num_unique_values\": 138,\n        \"samples\": [\n          70.0,\n          91.0,\n          71.0\n        ],\n        \"semantic_type\": \"\",\n        \"description\": \"\"\n      }\n    },\n    {\n      \"column\": \"density\",\n      \"properties\": {\n        \"dtype\": \"number\",\n        \"std\": 0.0019250671302545696,\n        \"min\": 0.99007,\n        \"max\": 1.00369,\n        \"num_unique_values\": 388,\n        \"samples\": [\n          0.99434,\n          0.9927,\n          0.99528\n        ],\n        \"semantic_type\": \"\",\n        \"description\": \"\"\n      }\n    },\n    {\n      \"column\": \"pH\",\n      \"properties\": {\n        \"dtype\": \"number\",\n        \"std\": 0.15666405977275194,\n        \"min\": 2.74,\n        \"max\": 4.01,\n        \"num_unique_values\": 87,\n        \"samples\": [\n          2.92,\n          3.51,\n          3.44\n        ],\n        \"semantic_type\": \"\",\n        \"description\": \"\"\n      }\n    },\n    {\n      \"column\": \"sulphates\",\n      \"properties\": {\n        \"dtype\": \"number\",\n        \"std\": 0.1703987144670741,\n        \"min\": 0.33,\n        \"max\": 2.0,\n        \"num_unique_values\": 89,\n        \"samples\": [\n          0.72,\n          1.61,\n          1.12\n        ],\n        \"semantic_type\": \"\",\n        \"description\": \"\"\n      }\n    },\n    {\n      \"column\": \"alcohol\",\n      \"properties\": {\n        \"dtype\": \"number\",\n        \"std\": 1.0821956098764445,\n        \"min\": 8.4,\n        \"max\": 14.9,\n        \"num_unique_values\": 61,\n        \"samples\": [\n          9.4,\n          9.9,\n          12.7\n        ],\n        \"semantic_type\": \"\",\n        \"description\": \"\"\n      }\n    },\n    {\n      \"column\": \"quality\",\n      \"properties\": {\n        \"dtype\": \"number\",\n        \"std\": 0,\n        \"min\": 3,\n        \"max\": 8,\n        \"num_unique_values\": 6,\n        \"samples\": [\n          5,\n          6,\n          3\n        ],\n        \"semantic_type\": \"\",\n        \"description\": \"\"\n      }\n    },\n    {\n      \"column\": \"Id\",\n      \"properties\": {\n        \"dtype\": \"number\",\n        \"std\": 463,\n        \"min\": 0,\n        \"max\": 1597,\n        \"num_unique_values\": 1143,\n        \"samples\": [\n          222,\n          1514,\n          417\n        ],\n        \"semantic_type\": \"\",\n        \"description\": \"\"\n      }\n    }\n  ]\n}"
            }
          },
          "metadata": {},
          "execution_count": 2
        }
      ],
      "source": [
        "import pandas as pd\n",
        "import numpy as np\n",
        "import seaborn as sns\n",
        "import matplotlib.pyplot as plt\n",
        "\n",
        "url= ' https://drive.google.com/uc?id=12LnLdGb6LIrdZJZQhZHtok1-6kVYd6YH&export=download'\n",
        "df= pd.read_csv(url)\n",
        "df.head()\n"
      ]
    },
    {
      "cell_type": "code",
      "source": [
        "df.tail()"
      ],
      "metadata": {
        "colab": {
          "base_uri": "https://localhost:8080/",
          "height": 206
        },
        "id": "UPxmvnxdAC6O",
        "outputId": "73b14d0d-96e0-41c4-8484-098b1de271f8"
      },
      "execution_count": 3,
      "outputs": [
        {
          "output_type": "execute_result",
          "data": {
            "text/plain": [
              "      fixed acidity  volatile acidity  citric acid  residual sugar  chlorides  \\\n",
              "1138            6.3             0.510         0.13             2.3      0.076   \n",
              "1139            6.8             0.620         0.08             1.9      0.068   \n",
              "1140            6.2             0.600         0.08             2.0      0.090   \n",
              "1141            5.9             0.550         0.10             2.2      0.062   \n",
              "1142            5.9             0.645         0.12             2.0      0.075   \n",
              "\n",
              "      free sulfur dioxide  total sulfur dioxide  density    pH  sulphates  \\\n",
              "1138                 29.0                  40.0  0.99574  3.42       0.75   \n",
              "1139                 28.0                  38.0  0.99651  3.42       0.82   \n",
              "1140                 32.0                  44.0  0.99490  3.45       0.58   \n",
              "1141                 39.0                  51.0  0.99512  3.52       0.76   \n",
              "1142                 32.0                  44.0  0.99547  3.57       0.71   \n",
              "\n",
              "      alcohol  quality    Id  \n",
              "1138     11.0        6  1592  \n",
              "1139      9.5        6  1593  \n",
              "1140     10.5        5  1594  \n",
              "1141     11.2        6  1595  \n",
              "1142     10.2        5  1597  "
            ],
            "text/html": [
              "\n",
              "  <div id=\"df-a0bbd65a-fc34-461a-9d1b-60b9837f778c\" class=\"colab-df-container\">\n",
              "    <div>\n",
              "<style scoped>\n",
              "    .dataframe tbody tr th:only-of-type {\n",
              "        vertical-align: middle;\n",
              "    }\n",
              "\n",
              "    .dataframe tbody tr th {\n",
              "        vertical-align: top;\n",
              "    }\n",
              "\n",
              "    .dataframe thead th {\n",
              "        text-align: right;\n",
              "    }\n",
              "</style>\n",
              "<table border=\"1\" class=\"dataframe\">\n",
              "  <thead>\n",
              "    <tr style=\"text-align: right;\">\n",
              "      <th></th>\n",
              "      <th>fixed acidity</th>\n",
              "      <th>volatile acidity</th>\n",
              "      <th>citric acid</th>\n",
              "      <th>residual sugar</th>\n",
              "      <th>chlorides</th>\n",
              "      <th>free sulfur dioxide</th>\n",
              "      <th>total sulfur dioxide</th>\n",
              "      <th>density</th>\n",
              "      <th>pH</th>\n",
              "      <th>sulphates</th>\n",
              "      <th>alcohol</th>\n",
              "      <th>quality</th>\n",
              "      <th>Id</th>\n",
              "    </tr>\n",
              "  </thead>\n",
              "  <tbody>\n",
              "    <tr>\n",
              "      <th>1138</th>\n",
              "      <td>6.3</td>\n",
              "      <td>0.510</td>\n",
              "      <td>0.13</td>\n",
              "      <td>2.3</td>\n",
              "      <td>0.076</td>\n",
              "      <td>29.0</td>\n",
              "      <td>40.0</td>\n",
              "      <td>0.99574</td>\n",
              "      <td>3.42</td>\n",
              "      <td>0.75</td>\n",
              "      <td>11.0</td>\n",
              "      <td>6</td>\n",
              "      <td>1592</td>\n",
              "    </tr>\n",
              "    <tr>\n",
              "      <th>1139</th>\n",
              "      <td>6.8</td>\n",
              "      <td>0.620</td>\n",
              "      <td>0.08</td>\n",
              "      <td>1.9</td>\n",
              "      <td>0.068</td>\n",
              "      <td>28.0</td>\n",
              "      <td>38.0</td>\n",
              "      <td>0.99651</td>\n",
              "      <td>3.42</td>\n",
              "      <td>0.82</td>\n",
              "      <td>9.5</td>\n",
              "      <td>6</td>\n",
              "      <td>1593</td>\n",
              "    </tr>\n",
              "    <tr>\n",
              "      <th>1140</th>\n",
              "      <td>6.2</td>\n",
              "      <td>0.600</td>\n",
              "      <td>0.08</td>\n",
              "      <td>2.0</td>\n",
              "      <td>0.090</td>\n",
              "      <td>32.0</td>\n",
              "      <td>44.0</td>\n",
              "      <td>0.99490</td>\n",
              "      <td>3.45</td>\n",
              "      <td>0.58</td>\n",
              "      <td>10.5</td>\n",
              "      <td>5</td>\n",
              "      <td>1594</td>\n",
              "    </tr>\n",
              "    <tr>\n",
              "      <th>1141</th>\n",
              "      <td>5.9</td>\n",
              "      <td>0.550</td>\n",
              "      <td>0.10</td>\n",
              "      <td>2.2</td>\n",
              "      <td>0.062</td>\n",
              "      <td>39.0</td>\n",
              "      <td>51.0</td>\n",
              "      <td>0.99512</td>\n",
              "      <td>3.52</td>\n",
              "      <td>0.76</td>\n",
              "      <td>11.2</td>\n",
              "      <td>6</td>\n",
              "      <td>1595</td>\n",
              "    </tr>\n",
              "    <tr>\n",
              "      <th>1142</th>\n",
              "      <td>5.9</td>\n",
              "      <td>0.645</td>\n",
              "      <td>0.12</td>\n",
              "      <td>2.0</td>\n",
              "      <td>0.075</td>\n",
              "      <td>32.0</td>\n",
              "      <td>44.0</td>\n",
              "      <td>0.99547</td>\n",
              "      <td>3.57</td>\n",
              "      <td>0.71</td>\n",
              "      <td>10.2</td>\n",
              "      <td>5</td>\n",
              "      <td>1597</td>\n",
              "    </tr>\n",
              "  </tbody>\n",
              "</table>\n",
              "</div>\n",
              "    <div class=\"colab-df-buttons\">\n",
              "\n",
              "  <div class=\"colab-df-container\">\n",
              "    <button class=\"colab-df-convert\" onclick=\"convertToInteractive('df-a0bbd65a-fc34-461a-9d1b-60b9837f778c')\"\n",
              "            title=\"Convert this dataframe to an interactive table.\"\n",
              "            style=\"display:none;\">\n",
              "\n",
              "  <svg xmlns=\"http://www.w3.org/2000/svg\" height=\"24px\" viewBox=\"0 -960 960 960\">\n",
              "    <path d=\"M120-120v-720h720v720H120Zm60-500h600v-160H180v160Zm220 220h160v-160H400v160Zm0 220h160v-160H400v160ZM180-400h160v-160H180v160Zm440 0h160v-160H620v160ZM180-180h160v-160H180v160Zm440 0h160v-160H620v160Z\"/>\n",
              "  </svg>\n",
              "    </button>\n",
              "\n",
              "  <style>\n",
              "    .colab-df-container {\n",
              "      display:flex;\n",
              "      gap: 12px;\n",
              "    }\n",
              "\n",
              "    .colab-df-convert {\n",
              "      background-color: #E8F0FE;\n",
              "      border: none;\n",
              "      border-radius: 50%;\n",
              "      cursor: pointer;\n",
              "      display: none;\n",
              "      fill: #1967D2;\n",
              "      height: 32px;\n",
              "      padding: 0 0 0 0;\n",
              "      width: 32px;\n",
              "    }\n",
              "\n",
              "    .colab-df-convert:hover {\n",
              "      background-color: #E2EBFA;\n",
              "      box-shadow: 0px 1px 2px rgba(60, 64, 67, 0.3), 0px 1px 3px 1px rgba(60, 64, 67, 0.15);\n",
              "      fill: #174EA6;\n",
              "    }\n",
              "\n",
              "    .colab-df-buttons div {\n",
              "      margin-bottom: 4px;\n",
              "    }\n",
              "\n",
              "    [theme=dark] .colab-df-convert {\n",
              "      background-color: #3B4455;\n",
              "      fill: #D2E3FC;\n",
              "    }\n",
              "\n",
              "    [theme=dark] .colab-df-convert:hover {\n",
              "      background-color: #434B5C;\n",
              "      box-shadow: 0px 1px 3px 1px rgba(0, 0, 0, 0.15);\n",
              "      filter: drop-shadow(0px 1px 2px rgba(0, 0, 0, 0.3));\n",
              "      fill: #FFFFFF;\n",
              "    }\n",
              "  </style>\n",
              "\n",
              "    <script>\n",
              "      const buttonEl =\n",
              "        document.querySelector('#df-a0bbd65a-fc34-461a-9d1b-60b9837f778c button.colab-df-convert');\n",
              "      buttonEl.style.display =\n",
              "        google.colab.kernel.accessAllowed ? 'block' : 'none';\n",
              "\n",
              "      async function convertToInteractive(key) {\n",
              "        const element = document.querySelector('#df-a0bbd65a-fc34-461a-9d1b-60b9837f778c');\n",
              "        const dataTable =\n",
              "          await google.colab.kernel.invokeFunction('convertToInteractive',\n",
              "                                                    [key], {});\n",
              "        if (!dataTable) return;\n",
              "\n",
              "        const docLinkHtml = 'Like what you see? Visit the ' +\n",
              "          '<a target=\"_blank\" href=https://colab.research.google.com/notebooks/data_table.ipynb>data table notebook</a>'\n",
              "          + ' to learn more about interactive tables.';\n",
              "        element.innerHTML = '';\n",
              "        dataTable['output_type'] = 'display_data';\n",
              "        await google.colab.output.renderOutput(dataTable, element);\n",
              "        const docLink = document.createElement('div');\n",
              "        docLink.innerHTML = docLinkHtml;\n",
              "        element.appendChild(docLink);\n",
              "      }\n",
              "    </script>\n",
              "  </div>\n",
              "\n",
              "\n",
              "<div id=\"df-b38e740f-6f74-4c50-affc-db4af26a2643\">\n",
              "  <button class=\"colab-df-quickchart\" onclick=\"quickchart('df-b38e740f-6f74-4c50-affc-db4af26a2643')\"\n",
              "            title=\"Suggest charts\"\n",
              "            style=\"display:none;\">\n",
              "\n",
              "<svg xmlns=\"http://www.w3.org/2000/svg\" height=\"24px\"viewBox=\"0 0 24 24\"\n",
              "     width=\"24px\">\n",
              "    <g>\n",
              "        <path d=\"M19 3H5c-1.1 0-2 .9-2 2v14c0 1.1.9 2 2 2h14c1.1 0 2-.9 2-2V5c0-1.1-.9-2-2-2zM9 17H7v-7h2v7zm4 0h-2V7h2v10zm4 0h-2v-4h2v4z\"/>\n",
              "    </g>\n",
              "</svg>\n",
              "  </button>\n",
              "\n",
              "<style>\n",
              "  .colab-df-quickchart {\n",
              "      --bg-color: #E8F0FE;\n",
              "      --fill-color: #1967D2;\n",
              "      --hover-bg-color: #E2EBFA;\n",
              "      --hover-fill-color: #174EA6;\n",
              "      --disabled-fill-color: #AAA;\n",
              "      --disabled-bg-color: #DDD;\n",
              "  }\n",
              "\n",
              "  [theme=dark] .colab-df-quickchart {\n",
              "      --bg-color: #3B4455;\n",
              "      --fill-color: #D2E3FC;\n",
              "      --hover-bg-color: #434B5C;\n",
              "      --hover-fill-color: #FFFFFF;\n",
              "      --disabled-bg-color: #3B4455;\n",
              "      --disabled-fill-color: #666;\n",
              "  }\n",
              "\n",
              "  .colab-df-quickchart {\n",
              "    background-color: var(--bg-color);\n",
              "    border: none;\n",
              "    border-radius: 50%;\n",
              "    cursor: pointer;\n",
              "    display: none;\n",
              "    fill: var(--fill-color);\n",
              "    height: 32px;\n",
              "    padding: 0;\n",
              "    width: 32px;\n",
              "  }\n",
              "\n",
              "  .colab-df-quickchart:hover {\n",
              "    background-color: var(--hover-bg-color);\n",
              "    box-shadow: 0 1px 2px rgba(60, 64, 67, 0.3), 0 1px 3px 1px rgba(60, 64, 67, 0.15);\n",
              "    fill: var(--button-hover-fill-color);\n",
              "  }\n",
              "\n",
              "  .colab-df-quickchart-complete:disabled,\n",
              "  .colab-df-quickchart-complete:disabled:hover {\n",
              "    background-color: var(--disabled-bg-color);\n",
              "    fill: var(--disabled-fill-color);\n",
              "    box-shadow: none;\n",
              "  }\n",
              "\n",
              "  .colab-df-spinner {\n",
              "    border: 2px solid var(--fill-color);\n",
              "    border-color: transparent;\n",
              "    border-bottom-color: var(--fill-color);\n",
              "    animation:\n",
              "      spin 1s steps(1) infinite;\n",
              "  }\n",
              "\n",
              "  @keyframes spin {\n",
              "    0% {\n",
              "      border-color: transparent;\n",
              "      border-bottom-color: var(--fill-color);\n",
              "      border-left-color: var(--fill-color);\n",
              "    }\n",
              "    20% {\n",
              "      border-color: transparent;\n",
              "      border-left-color: var(--fill-color);\n",
              "      border-top-color: var(--fill-color);\n",
              "    }\n",
              "    30% {\n",
              "      border-color: transparent;\n",
              "      border-left-color: var(--fill-color);\n",
              "      border-top-color: var(--fill-color);\n",
              "      border-right-color: var(--fill-color);\n",
              "    }\n",
              "    40% {\n",
              "      border-color: transparent;\n",
              "      border-right-color: var(--fill-color);\n",
              "      border-top-color: var(--fill-color);\n",
              "    }\n",
              "    60% {\n",
              "      border-color: transparent;\n",
              "      border-right-color: var(--fill-color);\n",
              "    }\n",
              "    80% {\n",
              "      border-color: transparent;\n",
              "      border-right-color: var(--fill-color);\n",
              "      border-bottom-color: var(--fill-color);\n",
              "    }\n",
              "    90% {\n",
              "      border-color: transparent;\n",
              "      border-bottom-color: var(--fill-color);\n",
              "    }\n",
              "  }\n",
              "</style>\n",
              "\n",
              "  <script>\n",
              "    async function quickchart(key) {\n",
              "      const quickchartButtonEl =\n",
              "        document.querySelector('#' + key + ' button');\n",
              "      quickchartButtonEl.disabled = true;  // To prevent multiple clicks.\n",
              "      quickchartButtonEl.classList.add('colab-df-spinner');\n",
              "      try {\n",
              "        const charts = await google.colab.kernel.invokeFunction(\n",
              "            'suggestCharts', [key], {});\n",
              "      } catch (error) {\n",
              "        console.error('Error during call to suggestCharts:', error);\n",
              "      }\n",
              "      quickchartButtonEl.classList.remove('colab-df-spinner');\n",
              "      quickchartButtonEl.classList.add('colab-df-quickchart-complete');\n",
              "    }\n",
              "    (() => {\n",
              "      let quickchartButtonEl =\n",
              "        document.querySelector('#df-b38e740f-6f74-4c50-affc-db4af26a2643 button');\n",
              "      quickchartButtonEl.style.display =\n",
              "        google.colab.kernel.accessAllowed ? 'block' : 'none';\n",
              "    })();\n",
              "  </script>\n",
              "</div>\n",
              "\n",
              "    </div>\n",
              "  </div>\n"
            ],
            "application/vnd.google.colaboratory.intrinsic+json": {
              "type": "dataframe",
              "summary": "{\n  \"name\": \"df\",\n  \"rows\": 5,\n  \"fields\": [\n    {\n      \"column\": \"fixed acidity\",\n      \"properties\": {\n        \"dtype\": \"number\",\n        \"std\": 0.3701351104664347,\n        \"min\": 5.9,\n        \"max\": 6.8,\n        \"num_unique_values\": 4,\n        \"samples\": [\n          6.8,\n          5.9,\n          6.3\n        ],\n        \"semantic_type\": \"\",\n        \"description\": \"\"\n      }\n    },\n    {\n      \"column\": \"volatile acidity\",\n      \"properties\": {\n        \"dtype\": \"number\",\n        \"std\": 0.054543560573178565,\n        \"min\": 0.51,\n        \"max\": 0.645,\n        \"num_unique_values\": 5,\n        \"samples\": [\n          0.62,\n          0.645,\n          0.6\n        ],\n        \"semantic_type\": \"\",\n        \"description\": \"\"\n      }\n    },\n    {\n      \"column\": \"citric acid\",\n      \"properties\": {\n        \"dtype\": \"number\",\n        \"std\": 0.022803508501982758,\n        \"min\": 0.08,\n        \"max\": 0.13,\n        \"num_unique_values\": 4,\n        \"samples\": [\n          0.08,\n          0.12,\n          0.13\n        ],\n        \"semantic_type\": \"\",\n        \"description\": \"\"\n      }\n    },\n    {\n      \"column\": \"residual sugar\",\n      \"properties\": {\n        \"dtype\": \"number\",\n        \"std\": 0.1643167672515498,\n        \"min\": 1.9,\n        \"max\": 2.3,\n        \"num_unique_values\": 4,\n        \"samples\": [\n          1.9,\n          2.2,\n          2.3\n        ],\n        \"semantic_type\": \"\",\n        \"description\": \"\"\n      }\n    },\n    {\n      \"column\": \"chlorides\",\n      \"properties\": {\n        \"dtype\": \"number\",\n        \"std\": 0.010497618777608566,\n        \"min\": 0.062,\n        \"max\": 0.09,\n        \"num_unique_values\": 5,\n        \"samples\": [\n          0.068,\n          0.075,\n          0.09\n        ],\n        \"semantic_type\": \"\",\n        \"description\": \"\"\n      }\n    },\n    {\n      \"column\": \"free sulfur dioxide\",\n      \"properties\": {\n        \"dtype\": \"number\",\n        \"std\": 4.301162633521313,\n        \"min\": 28.0,\n        \"max\": 39.0,\n        \"num_unique_values\": 4,\n        \"samples\": [\n          28.0,\n          39.0,\n          29.0\n        ],\n        \"semantic_type\": \"\",\n        \"description\": \"\"\n      }\n    },\n    {\n      \"column\": \"total sulfur dioxide\",\n      \"properties\": {\n        \"dtype\": \"number\",\n        \"std\": 4.979959839195493,\n        \"min\": 38.0,\n        \"max\": 51.0,\n        \"num_unique_values\": 4,\n        \"samples\": [\n          38.0,\n          51.0,\n          40.0\n        ],\n        \"semantic_type\": \"\",\n        \"description\": \"\"\n      }\n    },\n    {\n      \"column\": \"density\",\n      \"properties\": {\n        \"dtype\": \"number\",\n        \"std\": 0.000626793426895973,\n        \"min\": 0.9949,\n        \"max\": 0.99651,\n        \"num_unique_values\": 5,\n        \"samples\": [\n          0.99651,\n          0.99547,\n          0.9949\n        ],\n        \"semantic_type\": \"\",\n        \"description\": \"\"\n      }\n    },\n    {\n      \"column\": \"pH\",\n      \"properties\": {\n        \"dtype\": \"number\",\n        \"std\": 0.06655824516917491,\n        \"min\": 3.42,\n        \"max\": 3.57,\n        \"num_unique_values\": 4,\n        \"samples\": [\n          3.45,\n          3.57,\n          3.42\n        ],\n        \"semantic_type\": \"\",\n        \"description\": \"\"\n      }\n    },\n    {\n      \"column\": \"sulphates\",\n      \"properties\": {\n        \"dtype\": \"number\",\n        \"std\": 0.08961026726887943,\n        \"min\": 0.58,\n        \"max\": 0.82,\n        \"num_unique_values\": 5,\n        \"samples\": [\n          0.82,\n          0.71,\n          0.58\n        ],\n        \"semantic_type\": \"\",\n        \"description\": \"\"\n      }\n    },\n    {\n      \"column\": \"alcohol\",\n      \"properties\": {\n        \"dtype\": \"number\",\n        \"std\": 0.6760177512462228,\n        \"min\": 9.5,\n        \"max\": 11.2,\n        \"num_unique_values\": 5,\n        \"samples\": [\n          9.5,\n          10.2,\n          10.5\n        ],\n        \"semantic_type\": \"\",\n        \"description\": \"\"\n      }\n    },\n    {\n      \"column\": \"quality\",\n      \"properties\": {\n        \"dtype\": \"number\",\n        \"std\": 0,\n        \"min\": 5,\n        \"max\": 6,\n        \"num_unique_values\": 2,\n        \"samples\": [\n          5,\n          6\n        ],\n        \"semantic_type\": \"\",\n        \"description\": \"\"\n      }\n    },\n    {\n      \"column\": \"Id\",\n      \"properties\": {\n        \"dtype\": \"number\",\n        \"std\": 1,\n        \"min\": 1592,\n        \"max\": 1597,\n        \"num_unique_values\": 5,\n        \"samples\": [\n          1593,\n          1597\n        ],\n        \"semantic_type\": \"\",\n        \"description\": \"\"\n      }\n    }\n  ]\n}"
            }
          },
          "metadata": {},
          "execution_count": 3
        }
      ]
    },
    {
      "cell_type": "code",
      "source": [
        "df.info()"
      ],
      "metadata": {
        "colab": {
          "base_uri": "https://localhost:8080/"
        },
        "id": "6jKOoEmBAGtm",
        "outputId": "8da91919-fe0c-4cb0-91b6-5b3ec3c2a2dd"
      },
      "execution_count": 4,
      "outputs": [
        {
          "output_type": "stream",
          "name": "stdout",
          "text": [
            "<class 'pandas.core.frame.DataFrame'>\n",
            "RangeIndex: 1143 entries, 0 to 1142\n",
            "Data columns (total 13 columns):\n",
            " #   Column                Non-Null Count  Dtype  \n",
            "---  ------                --------------  -----  \n",
            " 0   fixed acidity         1143 non-null   float64\n",
            " 1   volatile acidity      1143 non-null   float64\n",
            " 2   citric acid           1143 non-null   float64\n",
            " 3   residual sugar        1143 non-null   float64\n",
            " 4   chlorides             1143 non-null   float64\n",
            " 5   free sulfur dioxide   1143 non-null   float64\n",
            " 6   total sulfur dioxide  1143 non-null   float64\n",
            " 7   density               1143 non-null   float64\n",
            " 8   pH                    1143 non-null   float64\n",
            " 9   sulphates             1143 non-null   float64\n",
            " 10  alcohol               1143 non-null   float64\n",
            " 11  quality               1143 non-null   int64  \n",
            " 12  Id                    1143 non-null   int64  \n",
            "dtypes: float64(11), int64(2)\n",
            "memory usage: 116.2 KB\n"
          ]
        }
      ]
    },
    {
      "cell_type": "code",
      "source": [
        "df.describe().round(3)"
      ],
      "metadata": {
        "colab": {
          "base_uri": "https://localhost:8080/",
          "height": 300
        },
        "id": "6dghwqAVAGUf",
        "outputId": "69c5b284-e611-426c-8430-c282d651b36d"
      },
      "execution_count": 5,
      "outputs": [
        {
          "output_type": "execute_result",
          "data": {
            "text/plain": [
              "       fixed acidity  volatile acidity  citric acid  residual sugar  \\\n",
              "count       1143.000          1143.000     1143.000        1143.000   \n",
              "mean           8.311             0.531        0.268           2.532   \n",
              "std            1.748             0.180        0.197           1.356   \n",
              "min            4.600             0.120        0.000           0.900   \n",
              "25%            7.100             0.392        0.090           1.900   \n",
              "50%            7.900             0.520        0.250           2.200   \n",
              "75%            9.100             0.640        0.420           2.600   \n",
              "max           15.900             1.580        1.000          15.500   \n",
              "\n",
              "       chlorides  free sulfur dioxide  total sulfur dioxide   density  \\\n",
              "count   1143.000             1143.000              1143.000  1143.000   \n",
              "mean       0.087               15.615                45.915     0.997   \n",
              "std        0.047               10.250                32.782     0.002   \n",
              "min        0.012                1.000                 6.000     0.990   \n",
              "25%        0.070                7.000                21.000     0.996   \n",
              "50%        0.079               13.000                37.000     0.997   \n",
              "75%        0.090               21.000                61.000     0.998   \n",
              "max        0.611               68.000               289.000     1.004   \n",
              "\n",
              "             pH  sulphates   alcohol   quality        Id  \n",
              "count  1143.000   1143.000  1143.000  1143.000  1143.000  \n",
              "mean      3.311      0.658    10.442     5.657   804.969  \n",
              "std       0.157      0.170     1.082     0.806   463.997  \n",
              "min       2.740      0.330     8.400     3.000     0.000  \n",
              "25%       3.205      0.550     9.500     5.000   411.000  \n",
              "50%       3.310      0.620    10.200     6.000   794.000  \n",
              "75%       3.400      0.730    11.100     6.000  1209.500  \n",
              "max       4.010      2.000    14.900     8.000  1597.000  "
            ],
            "text/html": [
              "\n",
              "  <div id=\"df-a0c131c6-68d7-494b-bf43-d469edf26eb8\" class=\"colab-df-container\">\n",
              "    <div>\n",
              "<style scoped>\n",
              "    .dataframe tbody tr th:only-of-type {\n",
              "        vertical-align: middle;\n",
              "    }\n",
              "\n",
              "    .dataframe tbody tr th {\n",
              "        vertical-align: top;\n",
              "    }\n",
              "\n",
              "    .dataframe thead th {\n",
              "        text-align: right;\n",
              "    }\n",
              "</style>\n",
              "<table border=\"1\" class=\"dataframe\">\n",
              "  <thead>\n",
              "    <tr style=\"text-align: right;\">\n",
              "      <th></th>\n",
              "      <th>fixed acidity</th>\n",
              "      <th>volatile acidity</th>\n",
              "      <th>citric acid</th>\n",
              "      <th>residual sugar</th>\n",
              "      <th>chlorides</th>\n",
              "      <th>free sulfur dioxide</th>\n",
              "      <th>total sulfur dioxide</th>\n",
              "      <th>density</th>\n",
              "      <th>pH</th>\n",
              "      <th>sulphates</th>\n",
              "      <th>alcohol</th>\n",
              "      <th>quality</th>\n",
              "      <th>Id</th>\n",
              "    </tr>\n",
              "  </thead>\n",
              "  <tbody>\n",
              "    <tr>\n",
              "      <th>count</th>\n",
              "      <td>1143.000</td>\n",
              "      <td>1143.000</td>\n",
              "      <td>1143.000</td>\n",
              "      <td>1143.000</td>\n",
              "      <td>1143.000</td>\n",
              "      <td>1143.000</td>\n",
              "      <td>1143.000</td>\n",
              "      <td>1143.000</td>\n",
              "      <td>1143.000</td>\n",
              "      <td>1143.000</td>\n",
              "      <td>1143.000</td>\n",
              "      <td>1143.000</td>\n",
              "      <td>1143.000</td>\n",
              "    </tr>\n",
              "    <tr>\n",
              "      <th>mean</th>\n",
              "      <td>8.311</td>\n",
              "      <td>0.531</td>\n",
              "      <td>0.268</td>\n",
              "      <td>2.532</td>\n",
              "      <td>0.087</td>\n",
              "      <td>15.615</td>\n",
              "      <td>45.915</td>\n",
              "      <td>0.997</td>\n",
              "      <td>3.311</td>\n",
              "      <td>0.658</td>\n",
              "      <td>10.442</td>\n",
              "      <td>5.657</td>\n",
              "      <td>804.969</td>\n",
              "    </tr>\n",
              "    <tr>\n",
              "      <th>std</th>\n",
              "      <td>1.748</td>\n",
              "      <td>0.180</td>\n",
              "      <td>0.197</td>\n",
              "      <td>1.356</td>\n",
              "      <td>0.047</td>\n",
              "      <td>10.250</td>\n",
              "      <td>32.782</td>\n",
              "      <td>0.002</td>\n",
              "      <td>0.157</td>\n",
              "      <td>0.170</td>\n",
              "      <td>1.082</td>\n",
              "      <td>0.806</td>\n",
              "      <td>463.997</td>\n",
              "    </tr>\n",
              "    <tr>\n",
              "      <th>min</th>\n",
              "      <td>4.600</td>\n",
              "      <td>0.120</td>\n",
              "      <td>0.000</td>\n",
              "      <td>0.900</td>\n",
              "      <td>0.012</td>\n",
              "      <td>1.000</td>\n",
              "      <td>6.000</td>\n",
              "      <td>0.990</td>\n",
              "      <td>2.740</td>\n",
              "      <td>0.330</td>\n",
              "      <td>8.400</td>\n",
              "      <td>3.000</td>\n",
              "      <td>0.000</td>\n",
              "    </tr>\n",
              "    <tr>\n",
              "      <th>25%</th>\n",
              "      <td>7.100</td>\n",
              "      <td>0.392</td>\n",
              "      <td>0.090</td>\n",
              "      <td>1.900</td>\n",
              "      <td>0.070</td>\n",
              "      <td>7.000</td>\n",
              "      <td>21.000</td>\n",
              "      <td>0.996</td>\n",
              "      <td>3.205</td>\n",
              "      <td>0.550</td>\n",
              "      <td>9.500</td>\n",
              "      <td>5.000</td>\n",
              "      <td>411.000</td>\n",
              "    </tr>\n",
              "    <tr>\n",
              "      <th>50%</th>\n",
              "      <td>7.900</td>\n",
              "      <td>0.520</td>\n",
              "      <td>0.250</td>\n",
              "      <td>2.200</td>\n",
              "      <td>0.079</td>\n",
              "      <td>13.000</td>\n",
              "      <td>37.000</td>\n",
              "      <td>0.997</td>\n",
              "      <td>3.310</td>\n",
              "      <td>0.620</td>\n",
              "      <td>10.200</td>\n",
              "      <td>6.000</td>\n",
              "      <td>794.000</td>\n",
              "    </tr>\n",
              "    <tr>\n",
              "      <th>75%</th>\n",
              "      <td>9.100</td>\n",
              "      <td>0.640</td>\n",
              "      <td>0.420</td>\n",
              "      <td>2.600</td>\n",
              "      <td>0.090</td>\n",
              "      <td>21.000</td>\n",
              "      <td>61.000</td>\n",
              "      <td>0.998</td>\n",
              "      <td>3.400</td>\n",
              "      <td>0.730</td>\n",
              "      <td>11.100</td>\n",
              "      <td>6.000</td>\n",
              "      <td>1209.500</td>\n",
              "    </tr>\n",
              "    <tr>\n",
              "      <th>max</th>\n",
              "      <td>15.900</td>\n",
              "      <td>1.580</td>\n",
              "      <td>1.000</td>\n",
              "      <td>15.500</td>\n",
              "      <td>0.611</td>\n",
              "      <td>68.000</td>\n",
              "      <td>289.000</td>\n",
              "      <td>1.004</td>\n",
              "      <td>4.010</td>\n",
              "      <td>2.000</td>\n",
              "      <td>14.900</td>\n",
              "      <td>8.000</td>\n",
              "      <td>1597.000</td>\n",
              "    </tr>\n",
              "  </tbody>\n",
              "</table>\n",
              "</div>\n",
              "    <div class=\"colab-df-buttons\">\n",
              "\n",
              "  <div class=\"colab-df-container\">\n",
              "    <button class=\"colab-df-convert\" onclick=\"convertToInteractive('df-a0c131c6-68d7-494b-bf43-d469edf26eb8')\"\n",
              "            title=\"Convert this dataframe to an interactive table.\"\n",
              "            style=\"display:none;\">\n",
              "\n",
              "  <svg xmlns=\"http://www.w3.org/2000/svg\" height=\"24px\" viewBox=\"0 -960 960 960\">\n",
              "    <path d=\"M120-120v-720h720v720H120Zm60-500h600v-160H180v160Zm220 220h160v-160H400v160Zm0 220h160v-160H400v160ZM180-400h160v-160H180v160Zm440 0h160v-160H620v160ZM180-180h160v-160H180v160Zm440 0h160v-160H620v160Z\"/>\n",
              "  </svg>\n",
              "    </button>\n",
              "\n",
              "  <style>\n",
              "    .colab-df-container {\n",
              "      display:flex;\n",
              "      gap: 12px;\n",
              "    }\n",
              "\n",
              "    .colab-df-convert {\n",
              "      background-color: #E8F0FE;\n",
              "      border: none;\n",
              "      border-radius: 50%;\n",
              "      cursor: pointer;\n",
              "      display: none;\n",
              "      fill: #1967D2;\n",
              "      height: 32px;\n",
              "      padding: 0 0 0 0;\n",
              "      width: 32px;\n",
              "    }\n",
              "\n",
              "    .colab-df-convert:hover {\n",
              "      background-color: #E2EBFA;\n",
              "      box-shadow: 0px 1px 2px rgba(60, 64, 67, 0.3), 0px 1px 3px 1px rgba(60, 64, 67, 0.15);\n",
              "      fill: #174EA6;\n",
              "    }\n",
              "\n",
              "    .colab-df-buttons div {\n",
              "      margin-bottom: 4px;\n",
              "    }\n",
              "\n",
              "    [theme=dark] .colab-df-convert {\n",
              "      background-color: #3B4455;\n",
              "      fill: #D2E3FC;\n",
              "    }\n",
              "\n",
              "    [theme=dark] .colab-df-convert:hover {\n",
              "      background-color: #434B5C;\n",
              "      box-shadow: 0px 1px 3px 1px rgba(0, 0, 0, 0.15);\n",
              "      filter: drop-shadow(0px 1px 2px rgba(0, 0, 0, 0.3));\n",
              "      fill: #FFFFFF;\n",
              "    }\n",
              "  </style>\n",
              "\n",
              "    <script>\n",
              "      const buttonEl =\n",
              "        document.querySelector('#df-a0c131c6-68d7-494b-bf43-d469edf26eb8 button.colab-df-convert');\n",
              "      buttonEl.style.display =\n",
              "        google.colab.kernel.accessAllowed ? 'block' : 'none';\n",
              "\n",
              "      async function convertToInteractive(key) {\n",
              "        const element = document.querySelector('#df-a0c131c6-68d7-494b-bf43-d469edf26eb8');\n",
              "        const dataTable =\n",
              "          await google.colab.kernel.invokeFunction('convertToInteractive',\n",
              "                                                    [key], {});\n",
              "        if (!dataTable) return;\n",
              "\n",
              "        const docLinkHtml = 'Like what you see? Visit the ' +\n",
              "          '<a target=\"_blank\" href=https://colab.research.google.com/notebooks/data_table.ipynb>data table notebook</a>'\n",
              "          + ' to learn more about interactive tables.';\n",
              "        element.innerHTML = '';\n",
              "        dataTable['output_type'] = 'display_data';\n",
              "        await google.colab.output.renderOutput(dataTable, element);\n",
              "        const docLink = document.createElement('div');\n",
              "        docLink.innerHTML = docLinkHtml;\n",
              "        element.appendChild(docLink);\n",
              "      }\n",
              "    </script>\n",
              "  </div>\n",
              "\n",
              "\n",
              "<div id=\"df-0744ce03-9da5-425f-ba24-221e7743e635\">\n",
              "  <button class=\"colab-df-quickchart\" onclick=\"quickchart('df-0744ce03-9da5-425f-ba24-221e7743e635')\"\n",
              "            title=\"Suggest charts\"\n",
              "            style=\"display:none;\">\n",
              "\n",
              "<svg xmlns=\"http://www.w3.org/2000/svg\" height=\"24px\"viewBox=\"0 0 24 24\"\n",
              "     width=\"24px\">\n",
              "    <g>\n",
              "        <path d=\"M19 3H5c-1.1 0-2 .9-2 2v14c0 1.1.9 2 2 2h14c1.1 0 2-.9 2-2V5c0-1.1-.9-2-2-2zM9 17H7v-7h2v7zm4 0h-2V7h2v10zm4 0h-2v-4h2v4z\"/>\n",
              "    </g>\n",
              "</svg>\n",
              "  </button>\n",
              "\n",
              "<style>\n",
              "  .colab-df-quickchart {\n",
              "      --bg-color: #E8F0FE;\n",
              "      --fill-color: #1967D2;\n",
              "      --hover-bg-color: #E2EBFA;\n",
              "      --hover-fill-color: #174EA6;\n",
              "      --disabled-fill-color: #AAA;\n",
              "      --disabled-bg-color: #DDD;\n",
              "  }\n",
              "\n",
              "  [theme=dark] .colab-df-quickchart {\n",
              "      --bg-color: #3B4455;\n",
              "      --fill-color: #D2E3FC;\n",
              "      --hover-bg-color: #434B5C;\n",
              "      --hover-fill-color: #FFFFFF;\n",
              "      --disabled-bg-color: #3B4455;\n",
              "      --disabled-fill-color: #666;\n",
              "  }\n",
              "\n",
              "  .colab-df-quickchart {\n",
              "    background-color: var(--bg-color);\n",
              "    border: none;\n",
              "    border-radius: 50%;\n",
              "    cursor: pointer;\n",
              "    display: none;\n",
              "    fill: var(--fill-color);\n",
              "    height: 32px;\n",
              "    padding: 0;\n",
              "    width: 32px;\n",
              "  }\n",
              "\n",
              "  .colab-df-quickchart:hover {\n",
              "    background-color: var(--hover-bg-color);\n",
              "    box-shadow: 0 1px 2px rgba(60, 64, 67, 0.3), 0 1px 3px 1px rgba(60, 64, 67, 0.15);\n",
              "    fill: var(--button-hover-fill-color);\n",
              "  }\n",
              "\n",
              "  .colab-df-quickchart-complete:disabled,\n",
              "  .colab-df-quickchart-complete:disabled:hover {\n",
              "    background-color: var(--disabled-bg-color);\n",
              "    fill: var(--disabled-fill-color);\n",
              "    box-shadow: none;\n",
              "  }\n",
              "\n",
              "  .colab-df-spinner {\n",
              "    border: 2px solid var(--fill-color);\n",
              "    border-color: transparent;\n",
              "    border-bottom-color: var(--fill-color);\n",
              "    animation:\n",
              "      spin 1s steps(1) infinite;\n",
              "  }\n",
              "\n",
              "  @keyframes spin {\n",
              "    0% {\n",
              "      border-color: transparent;\n",
              "      border-bottom-color: var(--fill-color);\n",
              "      border-left-color: var(--fill-color);\n",
              "    }\n",
              "    20% {\n",
              "      border-color: transparent;\n",
              "      border-left-color: var(--fill-color);\n",
              "      border-top-color: var(--fill-color);\n",
              "    }\n",
              "    30% {\n",
              "      border-color: transparent;\n",
              "      border-left-color: var(--fill-color);\n",
              "      border-top-color: var(--fill-color);\n",
              "      border-right-color: var(--fill-color);\n",
              "    }\n",
              "    40% {\n",
              "      border-color: transparent;\n",
              "      border-right-color: var(--fill-color);\n",
              "      border-top-color: var(--fill-color);\n",
              "    }\n",
              "    60% {\n",
              "      border-color: transparent;\n",
              "      border-right-color: var(--fill-color);\n",
              "    }\n",
              "    80% {\n",
              "      border-color: transparent;\n",
              "      border-right-color: var(--fill-color);\n",
              "      border-bottom-color: var(--fill-color);\n",
              "    }\n",
              "    90% {\n",
              "      border-color: transparent;\n",
              "      border-bottom-color: var(--fill-color);\n",
              "    }\n",
              "  }\n",
              "</style>\n",
              "\n",
              "  <script>\n",
              "    async function quickchart(key) {\n",
              "      const quickchartButtonEl =\n",
              "        document.querySelector('#' + key + ' button');\n",
              "      quickchartButtonEl.disabled = true;  // To prevent multiple clicks.\n",
              "      quickchartButtonEl.classList.add('colab-df-spinner');\n",
              "      try {\n",
              "        const charts = await google.colab.kernel.invokeFunction(\n",
              "            'suggestCharts', [key], {});\n",
              "      } catch (error) {\n",
              "        console.error('Error during call to suggestCharts:', error);\n",
              "      }\n",
              "      quickchartButtonEl.classList.remove('colab-df-spinner');\n",
              "      quickchartButtonEl.classList.add('colab-df-quickchart-complete');\n",
              "    }\n",
              "    (() => {\n",
              "      let quickchartButtonEl =\n",
              "        document.querySelector('#df-0744ce03-9da5-425f-ba24-221e7743e635 button');\n",
              "      quickchartButtonEl.style.display =\n",
              "        google.colab.kernel.accessAllowed ? 'block' : 'none';\n",
              "    })();\n",
              "  </script>\n",
              "</div>\n",
              "\n",
              "    </div>\n",
              "  </div>\n"
            ],
            "application/vnd.google.colaboratory.intrinsic+json": {
              "type": "dataframe",
              "summary": "{\n  \"name\": \"df\",\n  \"rows\": 8,\n  \"fields\": [\n    {\n      \"column\": \"fixed acidity\",\n      \"properties\": {\n        \"dtype\": \"number\",\n        \"std\": 401.3712821939085,\n        \"min\": 1.748,\n        \"max\": 1143.0,\n        \"num_unique_values\": 8,\n        \"samples\": [\n          8.311,\n          7.9,\n          1143.0\n        ],\n        \"semantic_type\": \"\",\n        \"description\": \"\"\n      }\n    },\n    {\n      \"column\": \"volatile acidity\",\n      \"properties\": {\n        \"dtype\": \"number\",\n        \"std\": 403.91161398855485,\n        \"min\": 0.12,\n        \"max\": 1143.0,\n        \"num_unique_values\": 8,\n        \"samples\": [\n          0.531,\n          0.52,\n          1143.0\n        ],\n        \"semantic_type\": \"\",\n        \"description\": \"\"\n      }\n    },\n    {\n      \"column\": \"citric acid\",\n      \"properties\": {\n        \"dtype\": \"number\",\n        \"std\": 403.9992609708366,\n        \"min\": 0.0,\n        \"max\": 1143.0,\n        \"num_unique_values\": 8,\n        \"samples\": [\n          0.268,\n          0.25,\n          1143.0\n        ],\n        \"semantic_type\": \"\",\n        \"description\": \"\"\n      }\n    },\n    {\n      \"column\": \"residual sugar\",\n      \"properties\": {\n        \"dtype\": \"number\",\n        \"std\": 402.7768843101245,\n        \"min\": 0.9,\n        \"max\": 1143.0,\n        \"num_unique_values\": 8,\n        \"samples\": [\n          2.532,\n          2.2,\n          1143.0\n        ],\n        \"semantic_type\": \"\",\n        \"description\": \"\"\n      }\n    },\n    {\n      \"column\": \"chlorides\",\n      \"properties\": {\n        \"dtype\": \"number\",\n        \"std\": 404.0612659489718,\n        \"min\": 0.012,\n        \"max\": 1143.0,\n        \"num_unique_values\": 8,\n        \"samples\": [\n          0.087,\n          0.079,\n          1143.0\n        ],\n        \"semantic_type\": \"\",\n        \"description\": \"\"\n      }\n    },\n    {\n      \"column\": \"free sulfur dioxide\",\n      \"properties\": {\n        \"dtype\": \"number\",\n        \"std\": 397.7876191596421,\n        \"min\": 1.0,\n        \"max\": 1143.0,\n        \"num_unique_values\": 8,\n        \"samples\": [\n          15.615,\n          13.0,\n          1143.0\n        ],\n        \"semantic_type\": \"\",\n        \"description\": \"\"\n      }\n    },\n    {\n      \"column\": \"total sulfur dioxide\",\n      \"properties\": {\n        \"dtype\": \"number\",\n        \"std\": 389.92339215962386,\n        \"min\": 6.0,\n        \"max\": 1143.0,\n        \"num_unique_values\": 8,\n        \"samples\": [\n          45.915,\n          37.0,\n          1143.0\n        ],\n        \"semantic_type\": \"\",\n        \"description\": \"\"\n      }\n    },\n    {\n      \"column\": \"density\",\n      \"properties\": {\n        \"dtype\": \"number\",\n        \"std\": 403.80943792939894,\n        \"min\": 0.002,\n        \"max\": 1143.0,\n        \"num_unique_values\": 7,\n        \"samples\": [\n          1143.0,\n          0.997,\n          0.998\n        ],\n        \"semantic_type\": \"\",\n        \"description\": \"\"\n      }\n    },\n    {\n      \"column\": \"pH\",\n      \"properties\": {\n        \"dtype\": \"number\",\n        \"std\": 403.0963313143956,\n        \"min\": 0.157,\n        \"max\": 1143.0,\n        \"num_unique_values\": 8,\n        \"samples\": [\n          3.311,\n          3.31,\n          1143.0\n        ],\n        \"semantic_type\": \"\",\n        \"description\": \"\"\n      }\n    },\n    {\n      \"column\": \"sulphates\",\n      \"properties\": {\n        \"dtype\": \"number\",\n        \"std\": 403.8564356202939,\n        \"min\": 0.17,\n        \"max\": 1143.0,\n        \"num_unique_values\": 8,\n        \"samples\": [\n          0.658,\n          0.62,\n          1143.0\n        ],\n        \"semantic_type\": \"\",\n        \"description\": \"\"\n      }\n    },\n    {\n      \"column\": \"alcohol\",\n      \"properties\": {\n        \"dtype\": \"number\",\n        \"std\": 400.8157359713884,\n        \"min\": 1.082,\n        \"max\": 1143.0,\n        \"num_unique_values\": 8,\n        \"samples\": [\n          10.442,\n          10.2,\n          1143.0\n        ],\n        \"semantic_type\": \"\",\n        \"description\": \"\"\n      }\n    },\n    {\n      \"column\": \"quality\",\n      \"properties\": {\n        \"dtype\": \"number\",\n        \"std\": 402.37673564865537,\n        \"min\": 0.806,\n        \"max\": 1143.0,\n        \"num_unique_values\": 7,\n        \"samples\": [\n          1143.0,\n          5.657,\n          6.0\n        ],\n        \"semantic_type\": \"\",\n        \"description\": \"\"\n      }\n    },\n    {\n      \"column\": \"Id\",\n      \"properties\": {\n        \"dtype\": \"number\",\n        \"std\": 510.568188439605,\n        \"min\": 0.0,\n        \"max\": 1597.0,\n        \"num_unique_values\": 8,\n        \"samples\": [\n          804.969,\n          794.0,\n          1143.0\n        ],\n        \"semantic_type\": \"\",\n        \"description\": \"\"\n      }\n    }\n  ]\n}"
            }
          },
          "metadata": {},
          "execution_count": 5
        }
      ]
    },
    {
      "cell_type": "code",
      "source": [
        "df.duplicated().sum() # Verificación de datos duplicados"
      ],
      "metadata": {
        "colab": {
          "base_uri": "https://localhost:8080/"
        },
        "id": "FSqzPqeLAYeO",
        "outputId": "612a2711-4fea-41fd-b3a8-e18951e54665"
      },
      "execution_count": 6,
      "outputs": [
        {
          "output_type": "execute_result",
          "data": {
            "text/plain": [
              "0"
            ]
          },
          "metadata": {},
          "execution_count": 6
        }
      ]
    },
    {
      "cell_type": "code",
      "source": [
        "df.isnull().sum() # Verificación de datos nulos"
      ],
      "metadata": {
        "colab": {
          "base_uri": "https://localhost:8080/",
          "height": 492
        },
        "id": "K_Kp9HJGARoz",
        "outputId": "a88c6e92-b466-4065-b29d-9e605954eadf"
      },
      "execution_count": 7,
      "outputs": [
        {
          "output_type": "execute_result",
          "data": {
            "text/plain": [
              "fixed acidity           0\n",
              "volatile acidity        0\n",
              "citric acid             0\n",
              "residual sugar          0\n",
              "chlorides               0\n",
              "free sulfur dioxide     0\n",
              "total sulfur dioxide    0\n",
              "density                 0\n",
              "pH                      0\n",
              "sulphates               0\n",
              "alcohol                 0\n",
              "quality                 0\n",
              "Id                      0\n",
              "dtype: int64"
            ],
            "text/html": [
              "<div>\n",
              "<style scoped>\n",
              "    .dataframe tbody tr th:only-of-type {\n",
              "        vertical-align: middle;\n",
              "    }\n",
              "\n",
              "    .dataframe tbody tr th {\n",
              "        vertical-align: top;\n",
              "    }\n",
              "\n",
              "    .dataframe thead th {\n",
              "        text-align: right;\n",
              "    }\n",
              "</style>\n",
              "<table border=\"1\" class=\"dataframe\">\n",
              "  <thead>\n",
              "    <tr style=\"text-align: right;\">\n",
              "      <th></th>\n",
              "      <th>0</th>\n",
              "    </tr>\n",
              "  </thead>\n",
              "  <tbody>\n",
              "    <tr>\n",
              "      <th>fixed acidity</th>\n",
              "      <td>0</td>\n",
              "    </tr>\n",
              "    <tr>\n",
              "      <th>volatile acidity</th>\n",
              "      <td>0</td>\n",
              "    </tr>\n",
              "    <tr>\n",
              "      <th>citric acid</th>\n",
              "      <td>0</td>\n",
              "    </tr>\n",
              "    <tr>\n",
              "      <th>residual sugar</th>\n",
              "      <td>0</td>\n",
              "    </tr>\n",
              "    <tr>\n",
              "      <th>chlorides</th>\n",
              "      <td>0</td>\n",
              "    </tr>\n",
              "    <tr>\n",
              "      <th>free sulfur dioxide</th>\n",
              "      <td>0</td>\n",
              "    </tr>\n",
              "    <tr>\n",
              "      <th>total sulfur dioxide</th>\n",
              "      <td>0</td>\n",
              "    </tr>\n",
              "    <tr>\n",
              "      <th>density</th>\n",
              "      <td>0</td>\n",
              "    </tr>\n",
              "    <tr>\n",
              "      <th>pH</th>\n",
              "      <td>0</td>\n",
              "    </tr>\n",
              "    <tr>\n",
              "      <th>sulphates</th>\n",
              "      <td>0</td>\n",
              "    </tr>\n",
              "    <tr>\n",
              "      <th>alcohol</th>\n",
              "      <td>0</td>\n",
              "    </tr>\n",
              "    <tr>\n",
              "      <th>quality</th>\n",
              "      <td>0</td>\n",
              "    </tr>\n",
              "    <tr>\n",
              "      <th>Id</th>\n",
              "      <td>0</td>\n",
              "    </tr>\n",
              "  </tbody>\n",
              "</table>\n",
              "</div><br><label><b>dtype:</b> int64</label>"
            ]
          },
          "metadata": {},
          "execution_count": 7
        }
      ]
    },
    {
      "cell_type": "markdown",
      "source": [
        "Evaluación de varibales categóricas"
      ],
      "metadata": {
        "id": "2y-r1Q4xAoq_"
      }
    },
    {
      "cell_type": "code",
      "source": [
        "# Determinación de valores únicos\n",
        "for columna in df.columns:\n",
        "  print(f'Valores únicos en la columna {columna}:\\n{df[columna].unique()}\\n')"
      ],
      "metadata": {
        "colab": {
          "base_uri": "https://localhost:8080/"
        },
        "id": "H6mAuZphAkN0",
        "outputId": "3369da63-d547-4752-afb1-0ebc34cbf27c"
      },
      "execution_count": 8,
      "outputs": [
        {
          "output_type": "stream",
          "name": "stdout",
          "text": [
            "Valores únicos en la columna fixed acidity:\n",
            "[ 7.4  7.8 11.2  7.9  7.3  6.7  5.6  8.5  7.6  6.9  6.3  7.1  8.3  5.2\n",
            "  8.1  8.8  7.5  4.6  7.7  6.6  8.6 10.2  7.   7.2  8.   6.8  6.2  9.3\n",
            "  5.   8.4 10.1  9.4  8.2  5.8  9.2  8.9  6.4 11.5  9.6 12.8  9.7  8.7\n",
            " 12.  15.  10.8 11.1 10.  12.5 10.3 11.4  9.9 11.6 10.4 13.3 10.6  9.\n",
            "  9.8 13.4 11.9 10.9 13.8  9.1 13.5  6.1 10.5 12.6 13.7  9.5 12.2 12.3\n",
            " 15.6  5.3 11.3 13.   6.5 10.7 12.9 14.3 12.4 15.5 12.7 13.2 15.9  5.1\n",
            " 11.8  4.9  5.9 11.7  5.4  5.7  6. ]\n",
            "\n",
            "Valores únicos en la columna volatile acidity:\n",
            "[0.7   0.88  0.76  0.28  0.66  0.6   0.65  0.58  0.615 0.61  0.32  0.39\n",
            " 0.43  0.49  0.4   0.41  0.71  0.645 0.675 0.655 0.38  0.45  0.52  0.935\n",
            " 0.5   0.51  0.42  0.59  0.69  0.735 0.725 0.705 0.785 0.75  0.625 0.3\n",
            " 0.55  0.62  1.02  0.775 0.9   0.545 0.575 0.63  0.56  0.31  0.54  1.07\n",
            " 0.695 1.33  0.745 1.04  0.415 0.34  0.67  0.68  0.33  0.95  0.53  0.64\n",
            " 0.885 0.805 0.73  0.37  1.09  0.44  0.57  0.48  1.    0.635 0.21  0.35\n",
            " 0.975 0.87  0.18  0.26  0.27  0.36  0.83  0.46  0.47  0.77  0.795 0.665\n",
            " 0.24  0.85  0.765 0.84  0.96  0.78  0.685 0.23  0.315 0.82  0.29  0.25\n",
            " 0.22  0.825 0.715 0.595 0.585 0.835 0.845 0.8   0.98  0.92  1.035 1.025\n",
            " 0.565 0.74  0.72  0.865 0.875 0.965 0.91  0.89  0.12  0.86  0.295 1.005\n",
            " 0.605 0.19  0.2   0.915 0.955 0.815 0.395 1.58  0.79  1.18  0.475 0.755\n",
            " 0.81  0.855 0.16 ]\n",
            "\n",
            "Valores únicos en la columna citric acid:\n",
            "[0.   0.04 0.56 0.06 0.02 0.08 0.29 0.51 0.31 0.21 0.11 0.14 0.16 0.24\n",
            " 0.07 0.12 0.25 0.28 0.36 0.3  0.2  0.22 0.15 0.43 0.26 0.57 0.18 0.4\n",
            " 0.49 0.05 0.64 0.47 0.48 0.44 0.68 0.19 0.09 0.17 0.55 0.1  1.   0.03\n",
            " 0.42 0.33 0.35 0.6  0.74 0.37 0.5  0.23 0.76 0.46 0.45 0.32 0.53 0.52\n",
            " 0.39 0.66 0.62 0.01 0.54 0.67 0.79 0.63 0.61 0.59 0.34 0.73 0.72 0.69\n",
            " 0.65 0.41 0.75 0.58 0.13 0.27 0.38]\n",
            "\n",
            "Valores únicos en la columna residual sugar:\n",
            "[ 1.9   2.6   2.3   1.8   1.6   1.2   2.    2.4   1.4   5.5   2.1   5.9\n",
            "  2.8   2.2   1.7   3.    3.4   4.65  1.5   2.5   1.3   7.3   7.2   2.9\n",
            "  2.7   5.6   3.1   3.2   3.3   3.6   4.    6.4   3.5  11.    3.65  4.5\n",
            "  4.8   2.95  5.8   6.2   4.2   7.9   6.7   6.6   3.7   5.2  15.5   8.3\n",
            "  6.55  6.1   4.3   5.15  6.3   4.6   5.1   8.6   7.5   2.25  6.    3.9\n",
            "  2.85  3.45  3.8   9.    8.8   5.    4.1   1.65  2.05  0.9   8.1   4.7\n",
            "  1.75  2.15  5.4  15.4   3.75 13.8   5.7   4.4 ]\n",
            "\n",
            "Valores únicos en la columna chlorides:\n",
            "[0.076 0.098 0.092 0.075 0.069 0.065 0.073 0.097 0.089 0.114 0.341 0.082\n",
            " 0.106 0.084 0.085 0.08  0.083 0.103 0.086 0.066 0.074 0.088 0.332 0.054\n",
            " 0.068 0.081 0.11  0.07  0.079 0.115 0.093 0.104 0.062 0.107 0.045 0.102\n",
            " 0.077 0.467 0.09  0.178 0.119 0.118 0.049 0.05  0.117 0.087 0.61  0.095\n",
            " 0.071 0.072 0.1   0.058 0.067 0.27  0.111 0.061 0.056 0.039 0.06  0.101\n",
            " 0.057 0.337 0.078 0.263 0.063 0.611 0.064 0.096 0.358 0.091 0.105 0.094\n",
            " 0.112 0.213 0.214 0.121 0.128 0.052 0.12  0.116 0.109 0.099 0.122 0.059\n",
            " 0.047 0.127 0.152 0.053 0.055 0.051 0.125 0.2   0.226 0.25  0.108 0.124\n",
            " 0.222 0.157 0.422 0.034 0.387 0.415 0.241 0.19  0.132 0.126 0.038 0.044\n",
            " 0.041 0.165 0.048 0.147 0.012 0.194 0.161 0.123 0.046 0.414 0.171 0.043\n",
            " 0.042 0.166 0.136 0.403 0.137 0.168 0.153 0.169 0.205 0.235 0.23 ]\n",
            "\n",
            "Valores únicos en la columna free sulfur dioxide:\n",
            "[11.  25.  15.  17.  13.   9.  16.  35.  23.  10.  21.   4.  14.   8.\n",
            "  5.   3.  12.  22.   6.  30.  33.  19.  20.  18.  27.  34.  42.  41.\n",
            " 32.  28.  29.   7.  36.  24.  26.  40.5 68.  31.  38.  43.   1.  46.\n",
            " 45.  53.  52.  51.  37.5 40.  48.  39.  55.  37.  66. ]\n",
            "\n",
            "Valores únicos en la columna total sulfur dioxide:\n",
            "[ 34.   67.   54.   60.   40.   59.   21.   18.   65.   29.  103.   56.\n",
            "  71.   37.   23.   11.   35.   16.   82.  113.   50.   15.   30.   87.\n",
            "  46.   14.  114.  119.   73.   10.   52.  112.   19.   94.   43.   42.\n",
            "  80.   61.  136.   31.  125.   24.  140.   85.   36.   69.   64.   47.\n",
            " 108.   62.   89.   13.  102.   12.  134.   99.   63.   45.   20.  141.\n",
            " 128.  129.   22.   86.  121.   96.  101.   44.    8.   49.   38.  110.\n",
            " 143.  127.   28.   55.   27.   95.   41.   58.   72.   81.  106.  109.\n",
            "  51.   33.   53.   98.   48.   70.   90.  105.  135.   74.   32.   26.\n",
            "  77.  165.   25.   88.  124.  122.   66.   68.   17.   91.   76.  151.\n",
            " 142.  116.  111.   75.  149.   39.   57.  104.   84.  147.  145.  148.\n",
            " 152.    9.   93.  139.  144.   92.  130.    7.  100.   78.    6.   79.\n",
            " 278.  289.   77.5 133.  115.  131. ]\n",
            "\n",
            "Valores únicos en la columna density:\n",
            "[0.9978  0.9968  0.997   0.998   0.9964  0.9946  0.9959  0.9943  0.9974\n",
            " 0.9969  0.9982  0.9966  0.9955  0.9962  0.9972  0.9958  0.9957  0.9986\n",
            " 0.9975  0.9976  0.9934  0.9971  0.9956  0.9961  0.9938  0.9965  0.9967\n",
            " 0.996   0.9973  0.9988  0.9937  0.9916  0.9954  0.9944  0.9996  0.995\n",
            " 0.9981  0.9953  0.9948  0.99695 0.99615 0.9994  0.99585 0.99685 0.99525\n",
            " 0.99815 0.9927  0.99625 0.99675 0.99925 0.99565 1.00005 0.9983  0.9985\n",
            " 0.99965 0.99575 0.9963  0.9999  1.00025 0.9987  0.9991  1.00015 0.9997\n",
            " 1.001   1.0014  1.0001  0.99855 0.9993  0.99645 0.9989  0.99865 0.99975\n",
            " 1.0015  1.0002  0.9992  1.0006  0.9979  1.0018  0.9912  1.      1.0022\n",
            " 1.0003  0.9924  1.0004  0.9952  0.9949  0.9951  1.0032  0.9998  1.0008\n",
            " 0.9947  0.9995  0.9977  0.9984  1.0026  0.999   1.00315 1.0021  0.9917\n",
            " 0.9922  0.9921  0.99788 0.99768 0.99761 0.99803 0.99785 0.99656 0.99488\n",
            " 0.99823 0.99779 0.99738 0.99701 0.99888 0.99744 0.99668 0.99782 0.99586\n",
            " 0.99745 0.99676 0.99732 0.99746 0.99708 0.99818 0.99639 0.99531 0.99786\n",
            " 0.99526 0.99735 0.99264 0.99682 0.99386 0.99702 0.99693 0.99562 1.00012\n",
            " 0.99462 0.99939 0.99976 0.99606 0.99154 0.99624 0.99632 0.99376 0.99836\n",
            " 0.99064 0.99672 0.99629 0.99689 0.99652 0.99594 0.99686 0.99628 0.99748\n",
            " 0.99522 0.99576 0.99614 0.99371 0.99533 0.99536 0.99787 0.99824 0.99491\n",
            " 1.00289 0.99743 0.99774 0.99444 0.99736 0.99528 0.99577 0.99901 0.99674\n",
            " 0.99512 0.99395 0.99504 0.99516 0.99604 0.99468 0.99543 0.99425 0.99484\n",
            " 0.99834 0.99498 0.99408 0.99552 0.99458 0.99648 0.99568 0.99519 0.99518\n",
            " 0.99592 0.99654 0.99733 0.99724 0.99658 0.99801 0.99416 0.99712 0.99418\n",
            " 0.99596 0.99556 0.99694 0.99697 0.99554 0.99162 0.99495 0.99603 0.9928\n",
            " 0.99549 0.99354 0.99635 0.99454 0.99486 0.99007 0.99636 0.99642 0.99584\n",
            " 0.99506 0.99822 0.99364 0.99378 0.99854 0.99739 0.99683 0.99356 0.99692\n",
            " 0.99547 0.99294 0.99438 0.99612 0.99634 0.99704 0.99258 0.99426 0.99747\n",
            " 0.99784 0.99358 0.99572 0.99892 0.99534 0.99817 0.99316 0.99617 0.99529\n",
            " 0.994   0.99451 0.99546 0.99479 0.99655 0.99666 0.99392 0.99388 0.9936\n",
            " 0.99374 0.99523 0.99593 0.99471 0.99396 0.9902  0.99252 0.99256 0.99235\n",
            " 0.99394 0.99379 0.9933  0.99684 0.99524 0.99764 0.99588 0.99352 0.99616\n",
            " 0.99622 0.99434 0.99384 0.99502 0.99667 0.99649 0.99716 0.99541 0.99346\n",
            " 0.99599 0.99478 0.99538 0.99551 0.99439 0.99633 0.99419 0.99878 0.99752\n",
            " 0.99428 0.99677 0.99734 0.99922 0.99769 0.99157 0.99718 0.99621 0.99242\n",
            " 0.99659 0.99798 0.99494 0.99514 0.99627 0.99569 0.99499 0.99437 0.99726\n",
            " 0.99456 0.99564 0.99084 0.9935  0.99385 0.99688 0.99566 0.99619 0.99476\n",
            " 0.99914 0.99521 0.99638 0.99362 0.99558 0.99323 0.99191 0.99598 0.9929\n",
            " 0.99532 0.99581 0.99608 0.99387 0.99448 0.99852 0.99613 0.99472 0.99587\n",
            " 0.99332 0.99464 0.99725 0.99623 0.99609 0.99557 0.99292 0.9942  1.00369\n",
            " 0.99322 0.99713 0.99974 0.99467 0.99706 0.99664 0.99728 0.99705 0.99578\n",
            " 0.99334 0.99336 1.00242 0.99182 0.99808 0.99828 0.99542 0.99496 0.99344\n",
            " 0.99348 0.99459 0.99492 0.99508 0.99555 0.99605 0.99814 0.9941  0.99661\n",
            " 0.99842 0.99489 0.99647 0.99665 0.99553 0.99714 0.99631 0.99573 0.99717\n",
            " 0.99397 0.99646 0.99783 0.99765 0.99474 0.99483 0.99314 0.99402 0.99574\n",
            " 0.99651]\n",
            "\n",
            "Valores únicos en la columna pH:\n",
            "[3.51 3.2  3.26 3.16 3.3  3.39 3.36 3.28 3.58 3.04 3.52 3.17 3.43 3.34\n",
            " 3.47 3.38 3.35 3.4  3.42 3.23 3.33 3.21 3.9  3.25 3.15 3.41 3.44 3.31\n",
            " 3.54 2.93 3.14 3.48 3.75 3.45 3.29 3.08 3.46 3.19 3.32 3.07 3.49 3.53\n",
            " 3.24 3.63 3.22 3.68 2.74 3.59 3.37 3.12 3.57 3.11 3.   3.61 3.06 3.6\n",
            " 3.69 3.1  3.05 3.67 3.27 3.13 3.02 3.18 3.55 2.99 3.56 3.62 2.88 2.95\n",
            " 3.5  2.98 3.03 3.09 2.86 3.74 2.92 3.72 2.89 2.94 3.66 3.71 3.01 3.78\n",
            " 3.7  4.01 2.9 ]\n",
            "\n",
            "Valores únicos en la columna sulphates:\n",
            "[0.56 0.68 0.65 0.58 0.46 0.47 0.57 0.54 0.52 1.56 0.75 1.08 0.91 0.53\n",
            " 0.63 0.59 0.55 0.66 0.6  0.73 0.83 0.51 0.9  1.2  0.74 0.64 0.71 0.39\n",
            " 0.95 0.48 1.12 0.78 1.95 1.22 0.61 1.31 0.79 0.93 0.67 0.49 0.92 0.82\n",
            " 0.62 2.   0.72 0.5  0.33 1.02 0.97 0.43 0.77 0.86 0.76 1.61 0.7  1.09\n",
            " 0.84 0.96 1.26 0.8  0.87 0.81 0.69 1.36 0.88 0.85 1.13 1.04 1.11 0.99\n",
            " 1.07 0.44 0.89 1.06 0.42 1.05 1.14 1.17 1.62 1.18 0.94 1.34 0.4  1.15\n",
            " 0.45 1.33 1.03 1.1  1.01]\n",
            "\n",
            "Valores únicos en la columna alcohol:\n",
            "[ 9.4         9.8        10.          9.5         9.2         9.9\n",
            "  9.1        10.5         9.7         9.3        10.1         9.6\n",
            " 10.8        10.3        13.1        10.2        10.9        10.7\n",
            "  9.         13.         14.         10.4        11.5        11.4\n",
            " 12.4        11.         12.2        12.8        12.6        10.6\n",
            " 11.7        12.5        12.         11.9         8.7        13.3\n",
            " 12.9        12.3        11.2        11.1        13.4        11.3\n",
            " 11.6        12.1        11.8         8.4        12.7        14.9\n",
            " 13.2        13.6        10.03333333  9.55        8.5        11.06666667\n",
            "  8.8        13.56666667 11.95        9.95        9.23333333  9.25\n",
            " 10.55      ]\n",
            "\n",
            "Valores únicos en la columna quality:\n",
            "[5 6 7 4 8 3]\n",
            "\n",
            "Valores únicos en la columna Id:\n",
            "[   0    1    2 ... 1594 1595 1597]\n",
            "\n"
          ]
        }
      ]
    },
    {
      "cell_type": "code",
      "source": [
        "# Eliminación de la columna Id\n",
        "df = df.drop('Id', axis= 1)"
      ],
      "metadata": {
        "id": "cvVCxCTcCJwL"
      },
      "execution_count": 9,
      "outputs": []
    },
    {
      "cell_type": "markdown",
      "source": [
        "Manejo de datos atípicos"
      ],
      "metadata": {
        "id": "YgwiBvIzBKA7"
      }
    },
    {
      "cell_type": "code",
      "source": [
        "columnas = df.select_dtypes([np.number]).columns\n",
        "n = 1\n",
        "plt.figure(figsize=(15,10), dpi=100)\n",
        "for columna in columnas:\n",
        "  plt.subplot(3,4,n)\n",
        "  n = n+1\n",
        "  plt.ylabel(columna)\n",
        "  plt.boxplot(df[columna])\n",
        "  plt.grid(True)\n",
        "  plt.tight_layout()"
      ],
      "metadata": {
        "colab": {
          "base_uri": "https://localhost:8080/",
          "height": 1000
        },
        "id": "B4oUTFmHBQwJ",
        "outputId": "f941366d-2148-45ca-b570-c7edd99a7dc7"
      },
      "execution_count": 10,
      "outputs": [
        {
          "output_type": "display_data",
          "data": {
            "text/plain": [
              "<Figure size 1500x1000 with 12 Axes>"
            ],
            "image/png": "[encoded data removed]"
          },
          "metadata": {}
        }
      ]
    },
    {
      "cell_type": "markdown",
      "source": [],
      "metadata": {
        "id": "qTqfLs35BrW5"
      }
    },
    {
      "cell_type": "code",
      "source": [
        "columnas = ['fixed acidity', 'volatile acidity', 'residual sugar', 'chlorides', 'free sulfur dioxide', 'total sulfur dioxide', 'density', 'pH']\n",
        "for columna in columnas:\n",
        "  Q1 = df[columna].quantile(0.25)\n",
        "  Q3 = df[columna].quantile(0.75)\n",
        "  IQR = Q3 - Q1\n",
        "  filtroOutlierAbajo = df[columna] < (Q1 - 1.5 * IQR)\n",
        "  filtroOutlierArriba = df[columna] > (Q3 + 1.5 * IQR)\n",
        "  print(f\"\\nLímite inferior: {Q1 - 1.5 * IQR}\")\n",
        "  print(f\"Límite Superior: {Q3 + 1.5 * IQR}\")\n",
        "  indicesALimpiarAbajo = df.loc[filtroOutlierAbajo].index\n",
        "  indicesALimpiarArriba = df.loc[filtroOutlierArriba].index\n",
        "  df.loc[indicesALimpiarAbajo, columna] = Q1 - 1.5 * IQR\n",
        "  df.loc[indicesALimpiarArriba, columna] = Q3 + 1.5 * IQR\n",
        "\n",
        "df.describe().round(3)"
      ],
      "metadata": {
        "colab": {
          "base_uri": "https://localhost:8080/",
          "height": 717
        },
        "id": "-iczmJH3CugX",
        "outputId": "f48bdd7d-13b4-4d83-867e-0dc09e4789c2"
      },
      "execution_count": 11,
      "outputs": [
        {
          "output_type": "stream",
          "name": "stdout",
          "text": [
            "\n",
            "Límite inferior: 4.1\n",
            "Límite Superior: 12.1\n",
            "\n",
            "Límite inferior: 0.021250000000000047\n",
            "Límite Superior: 1.01125\n",
            "\n",
            "Límite inferior: 0.8499999999999996\n",
            "Límite Superior: 3.6500000000000004\n",
            "\n",
            "Límite inferior: 0.04000000000000002\n",
            "Límite Superior: 0.11999999999999998\n",
            "\n",
            "Límite inferior: -14.0\n",
            "Límite Superior: 42.0\n",
            "\n",
            "Límite inferior: -39.0\n",
            "Límite Superior: 121.0\n",
            "\n",
            "Límite inferior: 0.9921574999999999\n",
            "Límite Superior: 1.0012575\n",
            "\n",
            "Límite inferior: 2.9125000000000005\n",
            "Límite Superior: 3.6925\n"
          ]
        },
        {
          "output_type": "execute_result",
          "data": {
            "text/plain": [
              "       fixed acidity  volatile acidity  citric acid  residual sugar  \\\n",
              "count        1143.00          1143.000     1143.000        1143.000   \n",
              "mean            8.27             0.530        0.268           2.323   \n",
              "std             1.63             0.174        0.197           0.610   \n",
              "min             4.60             0.120        0.000           0.900   \n",
              "25%             7.10             0.392        0.090           1.900   \n",
              "50%             7.90             0.520        0.250           2.200   \n",
              "75%             9.10             0.640        0.420           2.600   \n",
              "max            12.10             1.011        1.000           3.650   \n",
              "\n",
              "       chlorides  free sulfur dioxide  total sulfur dioxide   density  \\\n",
              "count   1143.000             1143.000              1143.000  1143.000   \n",
              "mean       0.081               15.463                45.127     0.997   \n",
              "std        0.018                9.726                29.975     0.002   \n",
              "min        0.040                1.000                 6.000     0.992   \n",
              "25%        0.070                7.000                21.000     0.996   \n",
              "50%        0.079               13.000                37.000     0.997   \n",
              "75%        0.090               21.000                61.000     0.998   \n",
              "max        0.120               42.000               121.000     1.001   \n",
              "\n",
              "             pH  sulphates   alcohol   quality  \n",
              "count  1143.000   1143.000  1143.000  1143.000  \n",
              "mean      3.310      0.658    10.442     5.657  \n",
              "std       0.152      0.170     1.082     0.806  \n",
              "min       2.913      0.330     8.400     3.000  \n",
              "25%       3.205      0.550     9.500     5.000  \n",
              "50%       3.310      0.620    10.200     6.000  \n",
              "75%       3.400      0.730    11.100     6.000  \n",
              "max       3.692      2.000    14.900     8.000  "
            ],
            "text/html": [
              "\n",
              "  <div id=\"df-d94f4d27-50af-4555-8bd9-516495ee284d\" class=\"colab-df-container\">\n",
              "    <div>\n",
              "<style scoped>\n",
              "    .dataframe tbody tr th:only-of-type {\n",
              "        vertical-align: middle;\n",
              "    }\n",
              "\n",
              "    .dataframe tbody tr th {\n",
              "        vertical-align: top;\n",
              "    }\n",
              "\n",
              "    .dataframe thead th {\n",
              "        text-align: right;\n",
              "    }\n",
              "</style>\n",
              "<table border=\"1\" class=\"dataframe\">\n",
              "  <thead>\n",
              "    <tr style=\"text-align: right;\">\n",
              "      <th></th>\n",
              "      <th>fixed acidity</th>\n",
              "      <th>volatile acidity</th>\n",
              "      <th>citric acid</th>\n",
              "      <th>residual sugar</th>\n",
              "      <th>chlorides</th>\n",
              "      <th>free sulfur dioxide</th>\n",
              "      <th>total sulfur dioxide</th>\n",
              "      <th>density</th>\n",
              "      <th>pH</th>\n",
              "      <th>sulphates</th>\n",
              "      <th>alcohol</th>\n",
              "      <th>quality</th>\n",
              "    </tr>\n",
              "  </thead>\n",
              "  <tbody>\n",
              "    <tr>\n",
              "      <th>count</th>\n",
              "      <td>1143.00</td>\n",
              "      <td>1143.000</td>\n",
              "      <td>1143.000</td>\n",
              "      <td>1143.000</td>\n",
              "      <td>1143.000</td>\n",
              "      <td>1143.000</td>\n",
              "      <td>1143.000</td>\n",
              "      <td>1143.000</td>\n",
              "      <td>1143.000</td>\n",
              "      <td>1143.000</td>\n",
              "      <td>1143.000</td>\n",
              "      <td>1143.000</td>\n",
              "    </tr>\n",
              "    <tr>\n",
              "      <th>mean</th>\n",
              "      <td>8.27</td>\n",
              "      <td>0.530</td>\n",
              "      <td>0.268</td>\n",
              "      <td>2.323</td>\n",
              "      <td>0.081</td>\n",
              "      <td>15.463</td>\n",
              "      <td>45.127</td>\n",
              "      <td>0.997</td>\n",
              "      <td>3.310</td>\n",
              "      <td>0.658</td>\n",
              "      <td>10.442</td>\n",
              "      <td>5.657</td>\n",
              "    </tr>\n",
              "    <tr>\n",
              "      <th>std</th>\n",
              "      <td>1.63</td>\n",
              "      <td>0.174</td>\n",
              "      <td>0.197</td>\n",
              "      <td>0.610</td>\n",
              "      <td>0.018</td>\n",
              "      <td>9.726</td>\n",
              "      <td>29.975</td>\n",
              "      <td>0.002</td>\n",
              "      <td>0.152</td>\n",
              "      <td>0.170</td>\n",
              "      <td>1.082</td>\n",
              "      <td>0.806</td>\n",
              "    </tr>\n",
              "    <tr>\n",
              "      <th>min</th>\n",
              "      <td>4.60</td>\n",
              "      <td>0.120</td>\n",
              "      <td>0.000</td>\n",
              "      <td>0.900</td>\n",
              "      <td>0.040</td>\n",
              "      <td>1.000</td>\n",
              "      <td>6.000</td>\n",
              "      <td>0.992</td>\n",
              "      <td>2.913</td>\n",
              "      <td>0.330</td>\n",
              "      <td>8.400</td>\n",
              "      <td>3.000</td>\n",
              "    </tr>\n",
              "    <tr>\n",
              "      <th>25%</th>\n",
              "      <td>7.10</td>\n",
              "      <td>0.392</td>\n",
              "      <td>0.090</td>\n",
              "      <td>1.900</td>\n",
              "      <td>0.070</td>\n",
              "      <td>7.000</td>\n",
              "      <td>21.000</td>\n",
              "      <td>0.996</td>\n",
              "      <td>3.205</td>\n",
              "      <td>0.550</td>\n",
              "      <td>9.500</td>\n",
              "      <td>5.000</td>\n",
              "    </tr>\n",
              "    <tr>\n",
              "      <th>50%</th>\n",
              "      <td>7.90</td>\n",
              "      <td>0.520</td>\n",
              "      <td>0.250</td>\n",
              "      <td>2.200</td>\n",
              "      <td>0.079</td>\n",
              "      <td>13.000</td>\n",
              "      <td>37.000</td>\n",
              "      <td>0.997</td>\n",
              "      <td>3.310</td>\n",
              "      <td>0.620</td>\n",
              "      <td>10.200</td>\n",
              "      <td>6.000</td>\n",
              "    </tr>\n",
              "    <tr>\n",
              "      <th>75%</th>\n",
              "      <td>9.10</td>\n",
              "      <td>0.640</td>\n",
              "      <td>0.420</td>\n",
              "      <td>2.600</td>\n",
              "      <td>0.090</td>\n",
              "      <td>21.000</td>\n",
              "      <td>61.000</td>\n",
              "      <td>0.998</td>\n",
              "      <td>3.400</td>\n",
              "      <td>0.730</td>\n",
              "      <td>11.100</td>\n",
              "      <td>6.000</td>\n",
              "    </tr>\n",
              "    <tr>\n",
              "      <th>max</th>\n",
              "      <td>12.10</td>\n",
              "      <td>1.011</td>\n",
              "      <td>1.000</td>\n",
              "      <td>3.650</td>\n",
              "      <td>0.120</td>\n",
              "      <td>42.000</td>\n",
              "      <td>121.000</td>\n",
              "      <td>1.001</td>\n",
              "      <td>3.692</td>\n",
              "      <td>2.000</td>\n",
              "      <td>14.900</td>\n",
              "      <td>8.000</td>\n",
              "    </tr>\n",
              "  </tbody>\n",
              "</table>\n",
              "</div>\n",
              "    <div class=\"colab-df-buttons\">\n",
              "\n",
              "  <div class=\"colab-df-container\">\n",
              "    <button class=\"colab-df-convert\" onclick=\"convertToInteractive('df-d94f4d27-50af-4555-8bd9-516495ee284d')\"\n",
              "            title=\"Convert this dataframe to an interactive table.\"\n",
              "            style=\"display:none;\">\n",
              "\n",
              "  <svg xmlns=\"http://www.w3.org/2000/svg\" height=\"24px\" viewBox=\"0 -960 960 960\">\n",
              "    <path d=\"M120-120v-720h720v720H120Zm60-500h600v-160H180v160Zm220 220h160v-160H400v160Zm0 220h160v-160H400v160ZM180-400h160v-160H180v160Zm440 0h160v-160H620v160ZM180-180h160v-160H180v160Zm440 0h160v-160H620v160Z\"/>\n",
              "  </svg>\n",
              "    </button>\n",
              "\n",
              "  <style>\n",
              "    .colab-df-container {\n",
              "      display:flex;\n",
              "      gap: 12px;\n",
              "    }\n",
              "\n",
              "    .colab-df-convert {\n",
              "      background-color: #E8F0FE;\n",
              "      border: none;\n",
              "      border-radius: 50%;\n",
              "      cursor: pointer;\n",
              "      display: none;\n",
              "      fill: #1967D2;\n",
              "      height: 32px;\n",
              "      padding: 0 0 0 0;\n",
              "      width: 32px;\n",
              "    }\n",
              "\n",
              "    .colab-df-convert:hover {\n",
              "      background-color: #E2EBFA;\n",
              "      box-shadow: 0px 1px 2px rgba(60, 64, 67, 0.3), 0px 1px 3px 1px rgba(60, 64, 67, 0.15);\n",
              "      fill: #174EA6;\n",
              "    }\n",
              "\n",
              "    .colab-df-buttons div {\n",
              "      margin-bottom: 4px;\n",
              "    }\n",
              "\n",
              "    [theme=dark] .colab-df-convert {\n",
              "      background-color: #3B4455;\n",
              "      fill: #D2E3FC;\n",
              "    }\n",
              "\n",
              "    [theme=dark] .colab-df-convert:hover {\n",
              "      background-color: #434B5C;\n",
              "      box-shadow: 0px 1px 3px 1px rgba(0, 0, 0, 0.15);\n",
              "      filter: drop-shadow(0px 1px 2px rgba(0, 0, 0, 0.3));\n",
              "      fill: #FFFFFF;\n",
              "    }\n",
              "  </style>\n",
              "\n",
              "    <script>\n",
              "      const buttonEl =\n",
              "        document.querySelector('#df-d94f4d27-50af-4555-8bd9-516495ee284d button.colab-df-convert');\n",
              "      buttonEl.style.display =\n",
              "        google.colab.kernel.accessAllowed ? 'block' : 'none';\n",
              "\n",
              "      async function convertToInteractive(key) {\n",
              "        const element = document.querySelector('#df-d94f4d27-50af-4555-8bd9-516495ee284d');\n",
              "        const dataTable =\n",
              "          await google.colab.kernel.invokeFunction('convertToInteractive',\n",
              "                                                    [key], {});\n",
              "        if (!dataTable) return;\n",
              "\n",
              "        const docLinkHtml = 'Like what you see? Visit the ' +\n",
              "          '<a target=\"_blank\" href=https://colab.research.google.com/notebooks/data_table.ipynb>data table notebook</a>'\n",
              "          + ' to learn more about interactive tables.';\n",
              "        element.innerHTML = '';\n",
              "        dataTable['output_type'] = 'display_data';\n",
              "        await google.colab.output.renderOutput(dataTable, element);\n",
              "        const docLink = document.createElement('div');\n",
              "        docLink.innerHTML = docLinkHtml;\n",
              "        element.appendChild(docLink);\n",
              "      }\n",
              "    </script>\n",
              "  </div>\n",
              "\n",
              "\n",
              "<div id=\"df-369e4d71-0eef-42d4-b0d5-2f1c85d62996\">\n",
              "  <button class=\"colab-df-quickchart\" onclick=\"quickchart('df-369e4d71-0eef-42d4-b0d5-2f1c85d62996')\"\n",
              "            title=\"Suggest charts\"\n",
              "            style=\"display:none;\">\n",
              "\n",
              "<svg xmlns=\"http://www.w3.org/2000/svg\" height=\"24px\"viewBox=\"0 0 24 24\"\n",
              "     width=\"24px\">\n",
              "    <g>\n",
              "        <path d=\"M19 3H5c-1.1 0-2 .9-2 2v14c0 1.1.9 2 2 2h14c1.1 0 2-.9 2-2V5c0-1.1-.9-2-2-2zM9 17H7v-7h2v7zm4 0h-2V7h2v10zm4 0h-2v-4h2v4z\"/>\n",
              "    </g>\n",
              "</svg>\n",
              "  </button>\n",
              "\n",
              "<style>\n",
              "  .colab-df-quickchart {\n",
              "      --bg-color: #E8F0FE;\n",
              "      --fill-color: #1967D2;\n",
              "      --hover-bg-color: #E2EBFA;\n",
              "      --hover-fill-color: #174EA6;\n",
              "      --disabled-fill-color: #AAA;\n",
              "      --disabled-bg-color: #DDD;\n",
              "  }\n",
              "\n",
              "  [theme=dark] .colab-df-quickchart {\n",
              "      --bg-color: #3B4455;\n",
              "      --fill-color: #D2E3FC;\n",
              "      --hover-bg-color: #434B5C;\n",
              "      --hover-fill-color: #FFFFFF;\n",
              "      --disabled-bg-color: #3B4455;\n",
              "      --disabled-fill-color: #666;\n",
              "  }\n",
              "\n",
              "  .colab-df-quickchart {\n",
              "    background-color: var(--bg-color);\n",
              "    border: none;\n",
              "    border-radius: 50%;\n",
              "    cursor: pointer;\n",
              "    display: none;\n",
              "    fill: var(--fill-color);\n",
              "    height: 32px;\n",
              "    padding: 0;\n",
              "    width: 32px;\n",
              "  }\n",
              "\n",
              "  .colab-df-quickchart:hover {\n",
              "    background-color: var(--hover-bg-color);\n",
              "    box-shadow: 0 1px 2px rgba(60, 64, 67, 0.3), 0 1px 3px 1px rgba(60, 64, 67, 0.15);\n",
              "    fill: var(--button-hover-fill-color);\n",
              "  }\n",
              "\n",
              "  .colab-df-quickchart-complete:disabled,\n",
              "  .colab-df-quickchart-complete:disabled:hover {\n",
              "    background-color: var(--disabled-bg-color);\n",
              "    fill: var(--disabled-fill-color);\n",
              "    box-shadow: none;\n",
              "  }\n",
              "\n",
              "  .colab-df-spinner {\n",
              "    border: 2px solid var(--fill-color);\n",
              "    border-color: transparent;\n",
              "    border-bottom-color: var(--fill-color);\n",
              "    animation:\n",
              "      spin 1s steps(1) infinite;\n",
              "  }\n",
              "\n",
              "  @keyframes spin {\n",
              "    0% {\n",
              "      border-color: transparent;\n",
              "      border-bottom-color: var(--fill-color);\n",
              "      border-left-color: var(--fill-color);\n",
              "    }\n",
              "    20% {\n",
              "      border-color: transparent;\n",
              "      border-left-color: var(--fill-color);\n",
              "      border-top-color: var(--fill-color);\n",
              "    }\n",
              "    30% {\n",
              "      border-color: transparent;\n",
              "      border-left-color: var(--fill-color);\n",
              "      border-top-color: var(--fill-color);\n",
              "      border-right-color: var(--fill-color);\n",
              "    }\n",
              "    40% {\n",
              "      border-color: transparent;\n",
              "      border-right-color: var(--fill-color);\n",
              "      border-top-color: var(--fill-color);\n",
              "    }\n",
              "    60% {\n",
              "      border-color: transparent;\n",
              "      border-right-color: var(--fill-color);\n",
              "    }\n",
              "    80% {\n",
              "      border-color: transparent;\n",
              "      border-right-color: var(--fill-color);\n",
              "      border-bottom-color: var(--fill-color);\n",
              "    }\n",
              "    90% {\n",
              "      border-color: transparent;\n",
              "      border-bottom-color: var(--fill-color);\n",
              "    }\n",
              "  }\n",
              "</style>\n",
              "\n",
              "  <script>\n",
              "    async function quickchart(key) {\n",
              "      const quickchartButtonEl =\n",
              "        document.querySelector('#' + key + ' button');\n",
              "      quickchartButtonEl.disabled = true;  // To prevent multiple clicks.\n",
              "      quickchartButtonEl.classList.add('colab-df-spinner');\n",
              "      try {\n",
              "        const charts = await google.colab.kernel.invokeFunction(\n",
              "            'suggestCharts', [key], {});\n",
              "      } catch (error) {\n",
              "        console.error('Error during call to suggestCharts:', error);\n",
              "      }\n",
              "      quickchartButtonEl.classList.remove('colab-df-spinner');\n",
              "      quickchartButtonEl.classList.add('colab-df-quickchart-complete');\n",
              "    }\n",
              "    (() => {\n",
              "      let quickchartButtonEl =\n",
              "        document.querySelector('#df-369e4d71-0eef-42d4-b0d5-2f1c85d62996 button');\n",
              "      quickchartButtonEl.style.display =\n",
              "        google.colab.kernel.accessAllowed ? 'block' : 'none';\n",
              "    })();\n",
              "  </script>\n",
              "</div>\n",
              "\n",
              "    </div>\n",
              "  </div>\n"
            ],
            "application/vnd.google.colaboratory.intrinsic+json": {
              "type": "dataframe",
              "summary": "{\n  \"name\": \"df\",\n  \"rows\": 8,\n  \"fields\": [\n    {\n      \"column\": \"fixed acidity\",\n      \"properties\": {\n        \"dtype\": \"number\",\n        \"std\": 401.5627132217333,\n        \"min\": 1.63,\n        \"max\": 1143.0,\n        \"num_unique_values\": 8,\n        \"samples\": [\n          8.27,\n          7.9,\n          1143.0\n        ],\n        \"semantic_type\": \"\",\n        \"description\": \"\"\n      }\n    },\n    {\n      \"column\": \"volatile acidity\",\n      \"properties\": {\n        \"dtype\": \"number\",\n        \"std\": 403.9405520511783,\n        \"min\": 0.12,\n        \"max\": 1143.0,\n        \"num_unique_values\": 8,\n        \"samples\": [\n          0.53,\n          0.52,\n          1143.0\n        ],\n        \"semantic_type\": \"\",\n        \"description\": \"\"\n      }\n    },\n    {\n      \"column\": \"citric acid\",\n      \"properties\": {\n        \"dtype\": \"number\",\n        \"std\": 403.9992609708366,\n        \"min\": 0.0,\n        \"max\": 1143.0,\n        \"num_unique_values\": 8,\n        \"samples\": [\n          0.268,\n          0.25,\n          1143.0\n        ],\n        \"semantic_type\": \"\",\n        \"description\": \"\"\n      }\n    },\n    {\n      \"column\": \"residual sugar\",\n      \"properties\": {\n        \"dtype\": \"number\",\n        \"std\": 403.3963044297178,\n        \"min\": 0.61,\n        \"max\": 1143.0,\n        \"num_unique_values\": 8,\n        \"samples\": [\n          2.323,\n          2.2,\n          1143.0\n        ],\n        \"semantic_type\": \"\",\n        \"description\": \"\"\n      }\n    },\n    {\n      \"column\": \"chlorides\",\n      \"properties\": {\n        \"dtype\": \"number\",\n        \"std\": 404.0863738335265,\n        \"min\": 0.018,\n        \"max\": 1143.0,\n        \"num_unique_values\": 8,\n        \"samples\": [\n          0.081,\n          0.079,\n          1143.0\n        ],\n        \"semantic_type\": \"\",\n        \"description\": \"\"\n      }\n    },\n    {\n      \"column\": \"free sulfur dioxide\",\n      \"properties\": {\n        \"dtype\": \"number\",\n        \"std\": 398.7855739581423,\n        \"min\": 1.0,\n        \"max\": 1143.0,\n        \"num_unique_values\": 8,\n        \"samples\": [\n          15.463,\n          13.0,\n          1143.0\n        ],\n        \"semantic_type\": \"\",\n        \"description\": \"\"\n      }\n    },\n    {\n      \"column\": \"total sulfur dioxide\",\n      \"properties\": {\n        \"dtype\": \"number\",\n        \"std\": 389.43963652067714,\n        \"min\": 6.0,\n        \"max\": 1143.0,\n        \"num_unique_values\": 8,\n        \"samples\": [\n          45.127,\n          37.0,\n          1143.0\n        ],\n        \"semantic_type\": \"\",\n        \"description\": \"\"\n      }\n    },\n    {\n      \"column\": \"density\",\n      \"properties\": {\n        \"dtype\": \"number\",\n        \"std\": 403.8094883766132,\n        \"min\": 0.002,\n        \"max\": 1143.0,\n        \"num_unique_values\": 7,\n        \"samples\": [\n          1143.0,\n          0.997,\n          0.998\n        ],\n        \"semantic_type\": \"\",\n        \"description\": \"\"\n      }\n    },\n    {\n      \"column\": \"pH\",\n      \"properties\": {\n        \"dtype\": \"number\",\n        \"std\": 403.1038491189336,\n        \"min\": 0.152,\n        \"max\": 1143.0,\n        \"num_unique_values\": 7,\n        \"samples\": [\n          1143.0,\n          3.31,\n          3.4\n        ],\n        \"semantic_type\": \"\",\n        \"description\": \"\"\n      }\n    },\n    {\n      \"column\": \"sulphates\",\n      \"properties\": {\n        \"dtype\": \"number\",\n        \"std\": 403.8564356202939,\n        \"min\": 0.17,\n        \"max\": 1143.0,\n        \"num_unique_values\": 8,\n        \"samples\": [\n          0.658,\n          0.62,\n          1143.0\n        ],\n        \"semantic_type\": \"\",\n        \"description\": \"\"\n      }\n    },\n    {\n      \"column\": \"alcohol\",\n      \"properties\": {\n        \"dtype\": \"number\",\n        \"std\": 400.8157359713884,\n        \"min\": 1.082,\n        \"max\": 1143.0,\n        \"num_unique_values\": 8,\n        \"samples\": [\n          10.442,\n          10.2,\n          1143.0\n        ],\n        \"semantic_type\": \"\",\n        \"description\": \"\"\n      }\n    },\n    {\n      \"column\": \"quality\",\n      \"properties\": {\n        \"dtype\": \"number\",\n        \"std\": 402.37673564865537,\n        \"min\": 0.806,\n        \"max\": 1143.0,\n        \"num_unique_values\": 7,\n        \"samples\": [\n          1143.0,\n          5.657,\n          6.0\n        ],\n        \"semantic_type\": \"\",\n        \"description\": \"\"\n      }\n    }\n  ]\n}"
            }
          },
          "metadata": {},
          "execution_count": 11
        }
      ]
    },
    {
      "cell_type": "markdown",
      "source": [
        "Visualización de los datos luego de limpieza de outliers"
      ],
      "metadata": {
        "id": "G3zLZLeZIf7B"
      }
    },
    {
      "cell_type": "code",
      "source": [
        "#https://interactivechaos.com/es/manual/tutorial-de-matplotlib/la-funcion-subplots\n",
        "# Creación de variables que contiene del DataFrame valores numéricos\n",
        "columnas = df.select_dtypes([np.number]).columns\n",
        "n = 1\n",
        "#Creación del gráfico\n",
        "plt.figure(figsize=(15,10), dpi=100)\n",
        "# Bucle for para que se realice un gráfico en cada columna y se genere un boxplot\n",
        "for columna in columnas:\n",
        "  plt.subplot(3,4,n)\n",
        "  n = n+1\n",
        "  plt.ylabel(columna)\n",
        "  plt.boxplot(df[columna])\n",
        "  plt.grid(True)\n",
        "  plt.tight_layout()"
      ],
      "metadata": {
        "colab": {
          "base_uri": "https://localhost:8080/",
          "height": 1000
        },
        "id": "dEi-HVW1ImBf",
        "outputId": "dd82aa57-dafd-48c0-f10a-da564e68fc67"
      },
      "execution_count": 12,
      "outputs": [
        {
          "output_type": "display_data",
          "data": {
            "text/plain": [
              "<Figure size 1500x1000 with 12 Axes>"
            ],
            "image/png": "[encoded data removed]"
          },
          "metadata": {}
        }
      ]
    },
    {
      "cell_type": "markdown",
      "source": [
        " 2. Preprocesamiento de Datos:\n",
        "\n",
        "Seleccionar características importantes para la clasificación.\n",
        "\n",
        "\n",
        "Transformar variables categóricas en variables numéricas si es necesario.\n",
        "\n",
        "\n",
        "Dividir los datos en conjuntos de entrenamiento y prueba.\n",
        "\n",
        "\n",
        "Escalar las características."
      ],
      "metadata": {
        "id": "k0c3ojM7EoWq"
      }
    },
    {
      "cell_type": "code",
      "source": [
        "# Se determina el target 'quality'\n",
        "X = df.drop(columns= 'quality')\n",
        "y = df['quality']\n",
        "# División de la data en conjuntos de entrenamiento y de prueba\n",
        "X_train, X_test, y_train, y_test= train_test_split(X,y,test_size=0.3, random_state=77)"
      ],
      "metadata": {
        "id": "DHmNcQFMEn85"
      },
      "execution_count": 13,
      "outputs": []
    },
    {
      "cell_type": "code",
      "source": [
        "#Definición de las categorías numérica ya que el Dataset no tiene características categóricas\n",
        "\n",
        "numeric_features = ['fixed acidity', 'volatile acidity', 'citric acid', 'residual sugar', 'chlorides', 'free sulfur dioxide', 'total sulfur dioxide', 'density', 'pH', 'sulphates', 'alcohol']\n"
      ],
      "metadata": {
        "id": "PNVj8VbxEU2n"
      },
      "execution_count": 14,
      "outputs": []
    },
    {
      "cell_type": "code",
      "source": [
        "# Crear transformadores para el subconjunto de columnas\n",
        "\n",
        "numeric_transformer = Pipeline(steps= [\n",
        "    ('imputer', SimpleImputer(strategy='mean')),  #Refuerzo de relleno de nulos, si es que los hay\n",
        "    ('scaler', StandardScaler()) # Escalado de categorías numéricas\n",
        "])"
      ],
      "metadata": {
        "id": "oMVHsMuJGGYv"
      },
      "execution_count": 15,
      "outputs": []
    },
    {
      "cell_type": "code",
      "source": [
        "# Crear un ColumnTransformer, es decir transformación de las columnas.\n",
        "preprocessor = ColumnTransformer(transformers=[\n",
        "    ('numericas', numeric_transformer, numeric_features)\n",
        "])"
      ],
      "metadata": {
        "id": "XdZiHs4TGW7c"
      },
      "execution_count": 16,
      "outputs": []
    },
    {
      "cell_type": "markdown",
      "source": [
        "3. Entrenamiento de Modelos de Clasificación:\n",
        "\n",
        "Entrenar al menos tres modelos de clasificación diferentes (por ejemplo, KNN, RandomForest, y Regresión Logística).\n",
        "\n",
        "\n",
        "Utilizar validación cruzada para seleccionar los mejores hiperparámetros."
      ],
      "metadata": {
        "id": "xMe6wN1EHv4H"
      }
    },
    {
      "cell_type": "markdown",
      "source": [
        "Distribución de las clases de la columna 'target' quality"
      ],
      "metadata": {
        "id": "LislPG6dJKlE"
      }
    },
    {
      "cell_type": "code",
      "source": [
        "# Ejemplo de visualización de distribución de las clases.\n",
        "target = df['quality'].value_counts()\n",
        "\n",
        "# Visualización del conteo de cada categoría\n",
        "\n",
        "Proporciones = target/ len(df)\n",
        "\n",
        "# Visualizar del conteo de las categorías\n",
        "# Generación de código para crear la figura\n",
        "plt.figure(figsize=(8,8))\n",
        "sns.barplot(x=target.index, y=target.values, color= 'indigo', edgecolor= 'black', alpha= 0.7)\n",
        "plt.title(\"Distribución de las Clases del Target\")\n",
        "plt.grid(True,  linestyle='--', alpha=0.7)\n",
        "plt.show()"
      ],
      "metadata": {
        "colab": {
          "base_uri": "https://localhost:8080/",
          "height": 719
        },
        "id": "Qtrltr_sJK6B",
        "outputId": "3950bd8a-9acd-4eeb-a58c-2c82c8dca400"
      },
      "execution_count": 17,
      "outputs": [
        {
          "output_type": "display_data",
          "data": {
            "text/plain": [
              "<Figure size 800x800 with 1 Axes>"
            ],
            "image/png": "[encoded data removed]"
          },
          "metadata": {}
        }
      ]
    },
    {
      "cell_type": "markdown",
      "source": [
        "En la distribución de 'quality' se puede apreciar que las clases no están distribuidas en similares proporciones, si no que se evidencia mayor presencia de las categorías '5' y '6'."
      ],
      "metadata": {
        "id": "kI-oRZxeJ3-L"
      }
    },
    {
      "cell_type": "code",
      "source": [
        "from sklearn.ensemble import RandomForestClassifier\n",
        "from sklearn.linear_model import LogisticRegression\n",
        "from sklearn.neighbors import KNeighborsClassifier\n",
        "from sklearn.metrics import classification_report, confusion_matrix, ConfusionMatrixDisplay, accuracy_score, roc_curve, roc_auc_score\n",
        "\n",
        "# Crear un pipeline que primero preprocesa los datos y luego ajusta el modelo para KNN\n",
        "modelo_KNN = Pipeline(steps=[\n",
        "    ('preprocessor', preprocessor),\n",
        "    ('classifier', KNeighborsClassifier(n_neighbors=2))\n",
        "])"
      ],
      "metadata": {
        "id": "7xqp2LydGQp0"
      },
      "execution_count": 18,
      "outputs": []
    },
    {
      "cell_type": "code",
      "source": [
        "# Ajuste del modelo KNN\n",
        "modelo_KNN.fit(X_train, y_train)"
      ],
      "metadata": {
        "colab": {
          "base_uri": "https://localhost:8080/",
          "height": 227
        },
        "id": "OGZqvn-oHBTB",
        "outputId": "fabfa21c-530f-4d60-8232-e53c758c0183"
      },
      "execution_count": 19,
      "outputs": [
        {
          "output_type": "execute_result",
          "data": {
            "text/plain": [
              "Pipeline(steps=[('preprocessor',\n",
              "                 ColumnTransformer(transformers=[('numericas',\n",
              "                                                  Pipeline(steps=[('imputer',\n",
              "                                                                   SimpleImputer()),\n",
              "                                                                  ('scaler',\n",
              "                                                                   StandardScaler())]),\n",
              "                                                  ['fixed acidity',\n",
              "                                                   'volatile acidity',\n",
              "                                                   'citric acid',\n",
              "                                                   'residual sugar',\n",
              "                                                   'chlorides',\n",
              "                                                   'free sulfur dioxide',\n",
              "                                                   'total sulfur dioxide',\n",
              "                                                   'density', 'pH', 'sulphates',\n",
              "                                                   'alcohol'])])),\n",
              "                ('classifier', KNeighborsClassifier(n_neighbors=2))])"
            ],
            "text/html": [
              "<style>#sk-container-id-1 {color: black;}#sk-container-id-1 pre{padding: 0;}#sk-container-id-1 div.sk-toggleable {background-color: white;}#sk-container-id-1 label.sk-toggleable__label {cursor: pointer;display: block;width: 100%;margin-bottom: 0;padding: 0.3em;box-sizing: border-box;text-align: center;}#sk-container-id-1 label.sk-toggleable__label-arrow:before {content: \"▸\";float: left;margin-right: 0.25em;color: #696969;}#sk-container-id-1 label.sk-toggleable__label-arrow:hover:before {color: black;}#sk-container-id-1 div.sk-estimator:hover label.sk-toggleable__label-arrow:before {color: black;}#sk-container-id-1 div.sk-toggleable__content {max-height: 0;max-width: 0;overflow: hidden;text-align: left;background-color: #f0f8ff;}#sk-container-id-1 div.sk-toggleable__content pre {margin: 0.2em;color: black;border-radius: 0.25em;background-color: #f0f8ff;}#sk-container-id-1 input.sk-toggleable__control:checked~div.sk-toggleable__content {max-height: 200px;max-width: 100%;overflow: auto;}#sk-container-id-1 input.sk-toggleable__control:checked~label.sk-toggleable__label-arrow:before {content: \"▾\";}#sk-container-id-1 div.sk-estimator input.sk-toggleable__control:checked~label.sk-toggleable__label {background-color: #d4ebff;}#sk-container-id-1 div.sk-label input.sk-toggleable__control:checked~label.sk-toggleable__label {background-color: #d4ebff;}#sk-container-id-1 input.sk-hidden--visually {border: 0;clip: rect(1px 1px 1px 1px);clip: rect(1px, 1px, 1px, 1px);height: 1px;margin: -1px;overflow: hidden;padding: 0;position: absolute;width: 1px;}#sk-container-id-1 div.sk-estimator {font-family: monospace;background-color: #f0f8ff;border: 1px dotted black;border-radius: 0.25em;box-sizing: border-box;margin-bottom: 0.5em;}#sk-container-id-1 div.sk-estimator:hover {background-color: #d4ebff;}#sk-container-id-1 div.sk-parallel-item::after {content: \"\";width: 100%;border-bottom: 1px solid gray;flex-grow: 1;}#sk-container-id-1 div.sk-label:hover label.sk-toggleable__label {background-color: #d4ebff;}#sk-container-id-1 div.sk-serial::before {content: \"\";position: absolute;border-left: 1px solid gray;box-sizing: border-box;top: 0;bottom: 0;left: 50%;z-index: 0;}#sk-container-id-1 div.sk-serial {display: flex;flex-direction: column;align-items: center;background-color: white;padding-right: 0.2em;padding-left: 0.2em;position: relative;}#sk-container-id-1 div.sk-item {position: relative;z-index: 1;}#sk-container-id-1 div.sk-parallel {display: flex;align-items: stretch;justify-content: center;background-color: white;position: relative;}#sk-container-id-1 div.sk-item::before, #sk-container-id-1 div.sk-parallel-item::before {content: \"\";position: absolute;border-left: 1px solid gray;box-sizing: border-box;top: 0;bottom: 0;left: 50%;z-index: -1;}#sk-container-id-1 div.sk-parallel-item {display: flex;flex-direction: column;z-index: 1;position: relative;background-color: white;}#sk-container-id-1 div.sk-parallel-item:first-child::after {align-self: flex-end;width: 50%;}#sk-container-id-1 div.sk-parallel-item:last-child::after {align-self: flex-start;width: 50%;}#sk-container-id-1 div.sk-parallel-item:only-child::after {width: 0;}#sk-container-id-1 div.sk-dashed-wrapped {border: 1px dashed gray;margin: 0 0.4em 0.5em 0.4em;box-sizing: border-box;padding-bottom: 0.4em;background-color: white;}#sk-container-id-1 div.sk-label label {font-family: monospace;font-weight: bold;display: inline-block;line-height: 1.2em;}#sk-container-id-1 div.sk-label-container {text-align: center;}#sk-container-id-1 div.sk-container {/* jupyter's `normalize.less` sets `[hidden] { display: none; }` but bootstrap.min.css set `[hidden] { display: none !important; }` so we also need the `!important` here to be able to override the default hidden behavior on the sphinx rendered scikit-learn.org. See: https://github.com/scikit-learn/scikit-learn/issues/21755 */display: inline-block !important;position: relative;}#sk-container-id-1 div.sk-text-repr-fallback {display: none;}</style><div id=\"sk-container-id-1\" class=\"sk-top-container\"><div class=\"sk-text-repr-fallback\"><pre>Pipeline(steps=[(&#x27;preprocessor&#x27;,\n",
              "                 ColumnTransformer(transformers=[(&#x27;numericas&#x27;,\n",
              "                                                  Pipeline(steps=[(&#x27;imputer&#x27;,\n",
              "                                                                   SimpleImputer()),\n",
              "                                                                  (&#x27;scaler&#x27;,\n",
              "                                                                   StandardScaler())]),\n",
              "                                                  [&#x27;fixed acidity&#x27;,\n",
              "                                                   &#x27;volatile acidity&#x27;,\n",
              "                                                   &#x27;citric acid&#x27;,\n",
              "                                                   &#x27;residual sugar&#x27;,\n",
              "                                                   &#x27;chlorides&#x27;,\n",
              "                                                   &#x27;free sulfur dioxide&#x27;,\n",
              "                                                   &#x27;total sulfur dioxide&#x27;,\n",
              "                                                   &#x27;density&#x27;, &#x27;pH&#x27;, &#x27;sulphates&#x27;,\n",
              "                                                   &#x27;alcohol&#x27;])])),\n",
              "                (&#x27;classifier&#x27;, KNeighborsClassifier(n_neighbors=2))])</pre><b>In a Jupyter environment, please rerun this cell to show the HTML representation or trust the notebook. <br />On GitHub, the HTML representation is unable to render, please try loading this page with nbviewer.org.</b></div><div class=\"sk-container\" hidden><div class=\"sk-item sk-dashed-wrapped\"><div class=\"sk-label-container\"><div class=\"sk-label sk-toggleable\"><input class=\"sk-toggleable__control sk-hidden--visually\" id=\"sk-estimator-id-1\" type=\"checkbox\" ><label for=\"sk-estimator-id-1\" class=\"sk-toggleable__label sk-toggleable__label-arrow\">Pipeline</label><div class=\"sk-toggleable__content\"><pre>Pipeline(steps=[(&#x27;preprocessor&#x27;,\n",
              "                 ColumnTransformer(transformers=[(&#x27;numericas&#x27;,\n",
              "                                                  Pipeline(steps=[(&#x27;imputer&#x27;,\n",
              "                                                                   SimpleImputer()),\n",
              "                                                                  (&#x27;scaler&#x27;,\n",
              "                                                                   StandardScaler())]),\n",
              "                                                  [&#x27;fixed acidity&#x27;,\n",
              "                                                   &#x27;volatile acidity&#x27;,\n",
              "                                                   &#x27;citric acid&#x27;,\n",
              "                                                   &#x27;residual sugar&#x27;,\n",
              "                                                   &#x27;chlorides&#x27;,\n",
              "                                                   &#x27;free sulfur dioxide&#x27;,\n",
              "                                                   &#x27;total sulfur dioxide&#x27;,\n",
              "                                                   &#x27;density&#x27;, &#x27;pH&#x27;, &#x27;sulphates&#x27;,\n",
              "                                                   &#x27;alcohol&#x27;])])),\n",
              "                (&#x27;classifier&#x27;, KNeighborsClassifier(n_neighbors=2))])</pre></div></div></div><div class=\"sk-serial\"><div class=\"sk-item sk-dashed-wrapped\"><div class=\"sk-label-container\"><div class=\"sk-label sk-toggleable\"><input class=\"sk-toggleable__control sk-hidden--visually\" id=\"sk-estimator-id-2\" type=\"checkbox\" ><label for=\"sk-estimator-id-2\" class=\"sk-toggleable__label sk-toggleable__label-arrow\">preprocessor: ColumnTransformer</label><div class=\"sk-toggleable__content\"><pre>ColumnTransformer(transformers=[(&#x27;numericas&#x27;,\n",
              "                                 Pipeline(steps=[(&#x27;imputer&#x27;, SimpleImputer()),\n",
              "                                                 (&#x27;scaler&#x27;, StandardScaler())]),\n",
              "                                 [&#x27;fixed acidity&#x27;, &#x27;volatile acidity&#x27;,\n",
              "                                  &#x27;citric acid&#x27;, &#x27;residual sugar&#x27;, &#x27;chlorides&#x27;,\n",
              "                                  &#x27;free sulfur dioxide&#x27;, &#x27;total sulfur dioxide&#x27;,\n",
              "                                  &#x27;density&#x27;, &#x27;pH&#x27;, &#x27;sulphates&#x27;, &#x27;alcohol&#x27;])])</pre></div></div></div><div class=\"sk-parallel\"><div class=\"sk-parallel-item\"><div class=\"sk-item\"><div class=\"sk-label-container\"><div class=\"sk-label sk-toggleable\"><input class=\"sk-toggleable__control sk-hidden--visually\" id=\"sk-estimator-id-3\" type=\"checkbox\" ><label for=\"sk-estimator-id-3\" class=\"sk-toggleable__label sk-toggleable__label-arrow\">numericas</label><div class=\"sk-toggleable__content\"><pre>[&#x27;fixed acidity&#x27;, &#x27;volatile acidity&#x27;, &#x27;citric acid&#x27;, &#x27;residual sugar&#x27;, &#x27;chlorides&#x27;, &#x27;free sulfur dioxide&#x27;, &#x27;total sulfur dioxide&#x27;, &#x27;density&#x27;, &#x27;pH&#x27;, &#x27;sulphates&#x27;, &#x27;alcohol&#x27;]</pre></div></div></div><div class=\"sk-serial\"><div class=\"sk-item\"><div class=\"sk-serial\"><div class=\"sk-item\"><div class=\"sk-estimator sk-toggleable\"><input class=\"sk-toggleable__control sk-hidden--visually\" id=\"sk-estimator-id-4\" type=\"checkbox\" ><label for=\"sk-estimator-id-4\" class=\"sk-toggleable__label sk-toggleable__label-arrow\">SimpleImputer</label><div class=\"sk-toggleable__content\"><pre>SimpleImputer()</pre></div></div></div><div class=\"sk-item\"><div class=\"sk-estimator sk-toggleable\"><input class=\"sk-toggleable__control sk-hidden--visually\" id=\"sk-estimator-id-5\" type=\"checkbox\" ><label for=\"sk-estimator-id-5\" class=\"sk-toggleable__label sk-toggleable__label-arrow\">StandardScaler</label><div class=\"sk-toggleable__content\"><pre>StandardScaler()</pre></div></div></div></div></div></div></div></div></div></div><div class=\"sk-item\"><div class=\"sk-estimator sk-toggleable\"><input class=\"sk-toggleable__control sk-hidden--visually\" id=\"sk-estimator-id-6\" type=\"checkbox\" ><label for=\"sk-estimator-id-6\" class=\"sk-toggleable__label sk-toggleable__label-arrow\">KNeighborsClassifier</label><div class=\"sk-toggleable__content\"><pre>KNeighborsClassifier(n_neighbors=2)</pre></div></div></div></div></div></div></div>"
            ]
          },
          "metadata": {},
          "execution_count": 19
        }
      ]
    },
    {
      "cell_type": "code",
      "source": [
        "y_predKNN = modelo_KNN.predict(X_test)\n",
        "y_predKNN"
      ],
      "metadata": {
        "colab": {
          "base_uri": "https://localhost:8080/"
        },
        "id": "t2w93U1pMA1q",
        "outputId": "7e6df6c6-3896-4f82-bb4c-b2726af7f6e8"
      },
      "execution_count": 20,
      "outputs": [
        {
          "output_type": "execute_result",
          "data": {
            "text/plain": [
              "array([5, 6, 5, 6, 6, 6, 4, 6, 6, 5, 5, 5, 5, 6, 5, 6, 5, 6, 6, 5, 4, 6,\n",
              "       4, 4, 5, 5, 5, 5, 5, 5, 7, 5, 6, 5, 4, 5, 5, 5, 6, 5, 6, 5, 5, 5,\n",
              "       5, 5, 5, 5, 6, 5, 5, 7, 3, 6, 6, 5, 6, 5, 6, 6, 5, 5, 6, 6, 5, 5,\n",
              "       6, 6, 5, 5, 6, 3, 6, 5, 6, 6, 5, 4, 6, 5, 4, 5, 5, 5, 5, 6, 5, 5,\n",
              "       6, 6, 5, 5, 5, 5, 5, 5, 5, 5, 5, 5, 5, 5, 6, 5, 6, 7, 5, 6, 6, 5,\n",
              "       5, 5, 6, 6, 6, 5, 6, 6, 6, 5, 6, 5, 6, 4, 5, 5, 5, 5, 6, 6, 6, 5,\n",
              "       5, 6, 5, 5, 5, 5, 6, 5, 5, 6, 6, 5, 6, 7, 6, 5, 6, 5, 5, 5, 6, 5,\n",
              "       5, 5, 7, 6, 4, 6, 4, 5, 5, 5, 6, 5, 5, 5, 6, 6, 5, 5, 5, 5, 5, 5,\n",
              "       4, 5, 5, 5, 5, 6, 5, 6, 5, 6, 6, 5, 5, 6, 5, 6, 6, 7, 5, 5, 5, 6,\n",
              "       6, 6, 6, 5, 6, 6, 6, 5, 6, 5, 6, 6, 5, 5, 5, 5, 6, 6, 7, 7, 6, 7,\n",
              "       6, 6, 5, 6, 6, 5, 5, 6, 5, 5, 6, 5, 7, 6, 4, 5, 6, 5, 6, 5, 5, 7,\n",
              "       3, 5, 5, 5, 6, 6, 7, 5, 5, 6, 5, 6, 5, 5, 5, 7, 5, 5, 6, 5, 5, 5,\n",
              "       5, 6, 6, 4, 5, 5, 5, 5, 8, 5, 6, 6, 5, 5, 5, 7, 5, 5, 5, 6, 5, 5,\n",
              "       5, 5, 6, 5, 6, 5, 5, 5, 5, 5, 6, 6, 6, 5, 4, 5, 5, 5, 5, 4, 7, 5,\n",
              "       6, 6, 6, 5, 6, 5, 6, 5, 5, 6, 5, 4, 6, 6, 5, 6, 5, 5, 6, 5, 5, 6,\n",
              "       6, 5, 5, 6, 6, 6, 5, 4, 6, 6, 6, 5, 5])"
            ]
          },
          "metadata": {},
          "execution_count": 20
        }
      ]
    },
    {
      "cell_type": "code",
      "source": [
        "exactitudKNN = accuracy_score(y_test, y_predKNN)\n",
        "\n",
        "print(f'Exactitud: {exactitudKNN}')\n",
        "print('Informe de Clasificación:')\n",
        "print(classification_report(y_test, y_predKNN))"
      ],
      "metadata": {
        "colab": {
          "base_uri": "https://localhost:8080/"
        },
        "id": "64IyNp2PK5oD",
        "outputId": "51d55fa7-67f6-4764-b15b-ae76c6e29e97"
      },
      "execution_count": 21,
      "outputs": [
        {
          "output_type": "stream",
          "name": "stdout",
          "text": [
            "Exactitud: 0.5014577259475219\n",
            "Informe de Clasificación:\n",
            "              precision    recall  f1-score   support\n",
            "\n",
            "           3       0.00      0.00      0.00         1\n",
            "           4       0.12      0.22      0.15         9\n",
            "           5       0.52      0.70      0.60       138\n",
            "           6       0.52      0.46      0.49       140\n",
            "           7       0.60      0.18      0.28        50\n",
            "           8       0.00      0.00      0.00         5\n",
            "\n",
            "    accuracy                           0.50       343\n",
            "   macro avg       0.29      0.26      0.25       343\n",
            "weighted avg       0.52      0.50      0.49       343\n",
            "\n"
          ]
        }
      ]
    },
    {
      "cell_type": "markdown",
      "source": [
        "KNN tiene menor rendimiento que Random Forest con una exactitud  de 0.5015 es decir que el 50.15% de los casos son clasificados correctamente, el modelo no está aprendiendo lo suficiente de los datos ya que la data está desbalanceada.\n",
        "\n",
        "En especial tiene grandes problemas con las clases menos representada como '3', '4', '7' y '8'. Se puede identificar que el modelo está obtendiendo una precisión baja lo cual indica que cuando predice por ejemplo '4' solamente el 12% de esas predicciones son correctas (Precisión) y el recall de 0.70 o sea el 70% de los ejemplos de la clase está idenfiticada bien.\n",
        "\n",
        "F1-score y recall es poco para ciertas clases mientras que el rendimiento es aceptable para clases que tienen mayor soporte.\n"
      ],
      "metadata": {
        "id": "w3z4y_ZFtXzI"
      }
    },
    {
      "cell_type": "code",
      "source": [
        "matrix_confusionKNN = confusion_matrix(y_test, y_predKNN)\n",
        "\n",
        "print('Matriz de Confusión:')\n",
        "print(matrix_confusionKNN)"
      ],
      "metadata": {
        "colab": {
          "base_uri": "https://localhost:8080/"
        },
        "id": "UeyxN8dcMXlZ",
        "outputId": "f3f84cfc-72f7-43d8-9f9b-e2fd61555d78"
      },
      "execution_count": 22,
      "outputs": [
        {
          "output_type": "stream",
          "name": "stdout",
          "text": [
            "Matriz de Confusión:\n",
            "[[ 0  0  1  0  0  0]\n",
            " [ 0  2  5  2  0  0]\n",
            " [ 3  9 97 28  1  0]\n",
            " [ 0  5 66 64  5  0]\n",
            " [ 0  1 14 25  9  1]\n",
            " [ 0  0  2  3  0  0]]\n"
          ]
        }
      ]
    },
    {
      "cell_type": "markdown",
      "source": [
        "Gráfico de matriz de confusión"
      ],
      "metadata": {
        "id": "qMJSetyIMdWH"
      }
    },
    {
      "cell_type": "code",
      "source": [
        "matriz_cKNN = ConfusionMatrixDisplay(confusion_matrix= matrix_confusionKNN, display_labels=[3, 4, 5, 6, 7, 8])\n",
        "fig, ax=plt.subplots(figsize=(8,6))\n",
        "matriz_cKNN.plot(ax=ax)\n",
        "plt.title('Matriz de confusion modelo KNN Regresor')\n",
        "plt.show()"
      ],
      "metadata": {
        "colab": {
          "base_uri": "https://localhost:8080/",
          "height": 564
        },
        "id": "BSabxLExMhbG",
        "outputId": "8b17ccc2-81af-4b60-c576-87158beee6bc"
      },
      "execution_count": 23,
      "outputs": [
        {
          "output_type": "display_data",
          "data": {
            "text/plain": [
              "<Figure size 800x600 with 2 Axes>"
            ],
            "image/png": "[encoded data removed]"
          },
          "metadata": {}
        }
      ]
    },
    {
      "cell_type": "markdown",
      "source": [
        "Utilizar validación cruzada para seleccionar los mejores hiperparámetros."
      ],
      "metadata": {
        "id": "_9AlGnOoy1e8"
      }
    },
    {
      "cell_type": "code",
      "source": [
        "# Selección del mejor K\n",
        "from sklearn.model_selection import cross_val_score\n",
        "\n",
        "# Probar diferentes valores de K\n",
        "valores_k = range(1, 26)\n",
        "cv_scores = []\n",
        "\n",
        "for k in valores_k:\n",
        "    modelo_KNN = KNeighborsClassifier(n_neighbors=k)\n",
        "    scores = cross_val_score(modelo_KNN, X_train, y_train, cv=10, scoring='accuracy')\n",
        "    cv_scores.append(scores.mean())\n",
        "\n",
        "# Seleccionar el K con la mayor exactitud\n",
        "optimal_k = valores_k[cv_scores.index(max(cv_scores))]\n",
        "print(f'Mejor valor de K: {optimal_k}')\n",
        "\n",
        "# Gráfico de la exactitud en función de K\n",
        "plt.plot(valores_k, cv_scores, color= 'indigo')\n",
        "plt.xlabel('Número de Vecinos K')\n",
        "plt.ylabel('Exactitud de Validación Cruzada')\n",
        "plt.title('Selección del Mejor K')\n",
        "plt.grid(True)\n",
        "plt.show()"
      ],
      "metadata": {
        "colab": {
          "base_uri": "https://localhost:8080/",
          "height": 1000
        },
        "id": "xyd5Ocbiy023",
        "outputId": "b31880c0-552c-48bf-a432-e63809239d0d"
      },
      "execution_count": 24,
      "outputs": [
        {
          "output_type": "stream",
          "name": "stderr",
          "text": [
            "/usr/local/lib/python3.10/dist-packages/sklearn/model_selection/_split.py:737: UserWarning: The least populated class in y has only 5 members, which is less than n_splits=10.\n",
            "  warnings.warn(\n",
            "/usr/local/lib/python3.10/dist-packages/sklearn/model_selection/_split.py:737: UserWarning: The least populated class in y has only 5 members, which is less than n_splits=10.\n",
            "  warnings.warn(\n",
            "/usr/local/lib/python3.10/dist-packages/sklearn/model_selection/_split.py:737: UserWarning: The least populated class in y has only 5 members, which is less than n_splits=10.\n",
            "  warnings.warn(\n",
            "/usr/local/lib/python3.10/dist-packages/sklearn/model_selection/_split.py:737: UserWarning: The least populated class in y has only 5 members, which is less than n_splits=10.\n",
            "  warnings.warn(\n",
            "/usr/local/lib/python3.10/dist-packages/sklearn/model_selection/_split.py:737: UserWarning: The least populated class in y has only 5 members, which is less than n_splits=10.\n",
            "  warnings.warn(\n",
            "/usr/local/lib/python3.10/dist-packages/sklearn/model_selection/_split.py:737: UserWarning: The least populated class in y has only 5 members, which is less than n_splits=10.\n",
            "  warnings.warn(\n",
            "/usr/local/lib/python3.10/dist-packages/sklearn/model_selection/_split.py:737: UserWarning: The least populated class in y has only 5 members, which is less than n_splits=10.\n",
            "  warnings.warn(\n",
            "/usr/local/lib/python3.10/dist-packages/sklearn/model_selection/_split.py:737: UserWarning: The least populated class in y has only 5 members, which is less than n_splits=10.\n",
            "  warnings.warn(\n",
            "/usr/local/lib/python3.10/dist-packages/sklearn/model_selection/_split.py:737: UserWarning: The least populated class in y has only 5 members, which is less than n_splits=10.\n",
            "  warnings.warn(\n",
            "/usr/local/lib/python3.10/dist-packages/sklearn/model_selection/_split.py:737: UserWarning: The least populated class in y has only 5 members, which is less than n_splits=10.\n",
            "  warnings.warn(\n",
            "/usr/local/lib/python3.10/dist-packages/sklearn/model_selection/_split.py:737: UserWarning: The least populated class in y has only 5 members, which is less than n_splits=10.\n",
            "  warnings.warn(\n",
            "/usr/local/lib/python3.10/dist-packages/sklearn/model_selection/_split.py:737: UserWarning: The least populated class in y has only 5 members, which is less than n_splits=10.\n",
            "  warnings.warn(\n",
            "/usr/local/lib/python3.10/dist-packages/sklearn/model_selection/_split.py:737: UserWarning: The least populated class in y has only 5 members, which is less than n_splits=10.\n",
            "  warnings.warn(\n",
            "/usr/local/lib/python3.10/dist-packages/sklearn/model_selection/_split.py:737: UserWarning: The least populated class in y has only 5 members, which is less than n_splits=10.\n",
            "  warnings.warn(\n",
            "/usr/local/lib/python3.10/dist-packages/sklearn/model_selection/_split.py:737: UserWarning: The least populated class in y has only 5 members, which is less than n_splits=10.\n",
            "  warnings.warn(\n",
            "/usr/local/lib/python3.10/dist-packages/sklearn/model_selection/_split.py:737: UserWarning: The least populated class in y has only 5 members, which is less than n_splits=10.\n",
            "  warnings.warn(\n",
            "/usr/local/lib/python3.10/dist-packages/sklearn/model_selection/_split.py:737: UserWarning: The least populated class in y has only 5 members, which is less than n_splits=10.\n",
            "  warnings.warn(\n",
            "/usr/local/lib/python3.10/dist-packages/sklearn/model_selection/_split.py:737: UserWarning: The least populated class in y has only 5 members, which is less than n_splits=10.\n",
            "  warnings.warn(\n",
            "/usr/local/lib/python3.10/dist-packages/sklearn/model_selection/_split.py:737: UserWarning: The least populated class in y has only 5 members, which is less than n_splits=10.\n",
            "  warnings.warn(\n",
            "/usr/local/lib/python3.10/dist-packages/sklearn/model_selection/_split.py:737: UserWarning: The least populated class in y has only 5 members, which is less than n_splits=10.\n",
            "  warnings.warn(\n",
            "/usr/local/lib/python3.10/dist-packages/sklearn/model_selection/_split.py:737: UserWarning: The least populated class in y has only 5 members, which is less than n_splits=10.\n",
            "  warnings.warn(\n",
            "/usr/local/lib/python3.10/dist-packages/sklearn/model_selection/_split.py:737: UserWarning: The least populated class in y has only 5 members, which is less than n_splits=10.\n",
            "  warnings.warn(\n",
            "/usr/local/lib/python3.10/dist-packages/sklearn/model_selection/_split.py:737: UserWarning: The least populated class in y has only 5 members, which is less than n_splits=10.\n",
            "  warnings.warn(\n",
            "/usr/local/lib/python3.10/dist-packages/sklearn/model_selection/_split.py:737: UserWarning: The least populated class in y has only 5 members, which is less than n_splits=10.\n",
            "  warnings.warn(\n",
            "/usr/local/lib/python3.10/dist-packages/sklearn/model_selection/_split.py:737: UserWarning: The least populated class in y has only 5 members, which is less than n_splits=10.\n",
            "  warnings.warn(\n"
          ]
        },
        {
          "output_type": "stream",
          "name": "stdout",
          "text": [
            "Mejor valor de K: 1\n"
          ]
        },
        {
          "output_type": "display_data",
          "data": {
            "text/plain": [
              "<Figure size 640x480 with 1 Axes>"
            ],
            "image/png": "[encoded data removed]"
          },
          "metadata": {}
        }
      ]
    },
    {
      "cell_type": "markdown",
      "source": [
        "Modelo Desicion Random Forest"
      ],
      "metadata": {
        "id": "TxDhMddeHM6x"
      }
    },
    {
      "cell_type": "code",
      "source": [
        "# Crear un pipeline que primero preprocesa los datos y luego ajusta el modelo para Random Forest\n",
        "modelo_RF = Pipeline(steps=[\n",
        "    ('preprocessor', preprocessor),\n",
        "    ('classifier', RandomForestClassifier(max_depth=15, n_estimators=100))\n",
        "])"
      ],
      "metadata": {
        "id": "-7LepGJDHUaa"
      },
      "execution_count": 25,
      "outputs": []
    },
    {
      "cell_type": "code",
      "source": [
        "# Ajuste del modelo Random Forest\n",
        "modelo_RF.fit(X_train, y_train)"
      ],
      "metadata": {
        "colab": {
          "base_uri": "https://localhost:8080/",
          "height": 227
        },
        "id": "5Ql8gqSEKn9v",
        "outputId": "6a78c4de-07ae-4a2a-cc11-7310e47543a1"
      },
      "execution_count": 26,
      "outputs": [
        {
          "output_type": "execute_result",
          "data": {
            "text/plain": [
              "Pipeline(steps=[('preprocessor',\n",
              "                 ColumnTransformer(transformers=[('numericas',\n",
              "                                                  Pipeline(steps=[('imputer',\n",
              "                                                                   SimpleImputer()),\n",
              "                                                                  ('scaler',\n",
              "                                                                   StandardScaler())]),\n",
              "                                                  ['fixed acidity',\n",
              "                                                   'volatile acidity',\n",
              "                                                   'citric acid',\n",
              "                                                   'residual sugar',\n",
              "                                                   'chlorides',\n",
              "                                                   'free sulfur dioxide',\n",
              "                                                   'total sulfur dioxide',\n",
              "                                                   'density', 'pH', 'sulphates',\n",
              "                                                   'alcohol'])])),\n",
              "                ('classifier', RandomForestClassifier(max_depth=15))])"
            ],
            "text/html": [
              "<style>#sk-container-id-2 {color: black;}#sk-container-id-2 pre{padding: 0;}#sk-container-id-2 div.sk-toggleable {background-color: white;}#sk-container-id-2 label.sk-toggleable__label {cursor: pointer;display: block;width: 100%;margin-bottom: 0;padding: 0.3em;box-sizing: border-box;text-align: center;}#sk-container-id-2 label.sk-toggleable__label-arrow:before {content: \"▸\";float: left;margin-right: 0.25em;color: #696969;}#sk-container-id-2 label.sk-toggleable__label-arrow:hover:before {color: black;}#sk-container-id-2 div.sk-estimator:hover label.sk-toggleable__label-arrow:before {color: black;}#sk-container-id-2 div.sk-toggleable__content {max-height: 0;max-width: 0;overflow: hidden;text-align: left;background-color: #f0f8ff;}#sk-container-id-2 div.sk-toggleable__content pre {margin: 0.2em;color: black;border-radius: 0.25em;background-color: #f0f8ff;}#sk-container-id-2 input.sk-toggleable__control:checked~div.sk-toggleable__content {max-height: 200px;max-width: 100%;overflow: auto;}#sk-container-id-2 input.sk-toggleable__control:checked~label.sk-toggleable__label-arrow:before {content: \"▾\";}#sk-container-id-2 div.sk-estimator input.sk-toggleable__control:checked~label.sk-toggleable__label {background-color: #d4ebff;}#sk-container-id-2 div.sk-label input.sk-toggleable__control:checked~label.sk-toggleable__label {background-color: #d4ebff;}#sk-container-id-2 input.sk-hidden--visually {border: 0;clip: rect(1px 1px 1px 1px);clip: rect(1px, 1px, 1px, 1px);height: 1px;margin: -1px;overflow: hidden;padding: 0;position: absolute;width: 1px;}#sk-container-id-2 div.sk-estimator {font-family: monospace;background-color: #f0f8ff;border: 1px dotted black;border-radius: 0.25em;box-sizing: border-box;margin-bottom: 0.5em;}#sk-container-id-2 div.sk-estimator:hover {background-color: #d4ebff;}#sk-container-id-2 div.sk-parallel-item::after {content: \"\";width: 100%;border-bottom: 1px solid gray;flex-grow: 1;}#sk-container-id-2 div.sk-label:hover label.sk-toggleable__label {background-color: #d4ebff;}#sk-container-id-2 div.sk-serial::before {content: \"\";position: absolute;border-left: 1px solid gray;box-sizing: border-box;top: 0;bottom: 0;left: 50%;z-index: 0;}#sk-container-id-2 div.sk-serial {display: flex;flex-direction: column;align-items: center;background-color: white;padding-right: 0.2em;padding-left: 0.2em;position: relative;}#sk-container-id-2 div.sk-item {position: relative;z-index: 1;}#sk-container-id-2 div.sk-parallel {display: flex;align-items: stretch;justify-content: center;background-color: white;position: relative;}#sk-container-id-2 div.sk-item::before, #sk-container-id-2 div.sk-parallel-item::before {content: \"\";position: absolute;border-left: 1px solid gray;box-sizing: border-box;top: 0;bottom: 0;left: 50%;z-index: -1;}#sk-container-id-2 div.sk-parallel-item {display: flex;flex-direction: column;z-index: 1;position: relative;background-color: white;}#sk-container-id-2 div.sk-parallel-item:first-child::after {align-self: flex-end;width: 50%;}#sk-container-id-2 div.sk-parallel-item:last-child::after {align-self: flex-start;width: 50%;}#sk-container-id-2 div.sk-parallel-item:only-child::after {width: 0;}#sk-container-id-2 div.sk-dashed-wrapped {border: 1px dashed gray;margin: 0 0.4em 0.5em 0.4em;box-sizing: border-box;padding-bottom: 0.4em;background-color: white;}#sk-container-id-2 div.sk-label label {font-family: monospace;font-weight: bold;display: inline-block;line-height: 1.2em;}#sk-container-id-2 div.sk-label-container {text-align: center;}#sk-container-id-2 div.sk-container {/* jupyter's `normalize.less` sets `[hidden] { display: none; }` but bootstrap.min.css set `[hidden] { display: none !important; }` so we also need the `!important` here to be able to override the default hidden behavior on the sphinx rendered scikit-learn.org. See: https://github.com/scikit-learn/scikit-learn/issues/21755 */display: inline-block !important;position: relative;}#sk-container-id-2 div.sk-text-repr-fallback {display: none;}</style><div id=\"sk-container-id-2\" class=\"sk-top-container\"><div class=\"sk-text-repr-fallback\"><pre>Pipeline(steps=[(&#x27;preprocessor&#x27;,\n",
              "                 ColumnTransformer(transformers=[(&#x27;numericas&#x27;,\n",
              "                                                  Pipeline(steps=[(&#x27;imputer&#x27;,\n",
              "                                                                   SimpleImputer()),\n",
              "                                                                  (&#x27;scaler&#x27;,\n",
              "                                                                   StandardScaler())]),\n",
              "                                                  [&#x27;fixed acidity&#x27;,\n",
              "                                                   &#x27;volatile acidity&#x27;,\n",
              "                                                   &#x27;citric acid&#x27;,\n",
              "                                                   &#x27;residual sugar&#x27;,\n",
              "                                                   &#x27;chlorides&#x27;,\n",
              "                                                   &#x27;free sulfur dioxide&#x27;,\n",
              "                                                   &#x27;total sulfur dioxide&#x27;,\n",
              "                                                   &#x27;density&#x27;, &#x27;pH&#x27;, &#x27;sulphates&#x27;,\n",
              "                                                   &#x27;alcohol&#x27;])])),\n",
              "                (&#x27;classifier&#x27;, RandomForestClassifier(max_depth=15))])</pre><b>In a Jupyter environment, please rerun this cell to show the HTML representation or trust the notebook. <br />On GitHub, the HTML representation is unable to render, please try loading this page with nbviewer.org.</b></div><div class=\"sk-container\" hidden><div class=\"sk-item sk-dashed-wrapped\"><div class=\"sk-label-container\"><div class=\"sk-label sk-toggleable\"><input class=\"sk-toggleable__control sk-hidden--visually\" id=\"sk-estimator-id-7\" type=\"checkbox\" ><label for=\"sk-estimator-id-7\" class=\"sk-toggleable__label sk-toggleable__label-arrow\">Pipeline</label><div class=\"sk-toggleable__content\"><pre>Pipeline(steps=[(&#x27;preprocessor&#x27;,\n",
              "                 ColumnTransformer(transformers=[(&#x27;numericas&#x27;,\n",
              "                                                  Pipeline(steps=[(&#x27;imputer&#x27;,\n",
              "                                                                   SimpleImputer()),\n",
              "                                                                  (&#x27;scaler&#x27;,\n",
              "                                                                   StandardScaler())]),\n",
              "                                                  [&#x27;fixed acidity&#x27;,\n",
              "                                                   &#x27;volatile acidity&#x27;,\n",
              "                                                   &#x27;citric acid&#x27;,\n",
              "                                                   &#x27;residual sugar&#x27;,\n",
              "                                                   &#x27;chlorides&#x27;,\n",
              "                                                   &#x27;free sulfur dioxide&#x27;,\n",
              "                                                   &#x27;total sulfur dioxide&#x27;,\n",
              "                                                   &#x27;density&#x27;, &#x27;pH&#x27;, &#x27;sulphates&#x27;,\n",
              "                                                   &#x27;alcohol&#x27;])])),\n",
              "                (&#x27;classifier&#x27;, RandomForestClassifier(max_depth=15))])</pre></div></div></div><div class=\"sk-serial\"><div class=\"sk-item sk-dashed-wrapped\"><div class=\"sk-label-container\"><div class=\"sk-label sk-toggleable\"><input class=\"sk-toggleable__control sk-hidden--visually\" id=\"sk-estimator-id-8\" type=\"checkbox\" ><label for=\"sk-estimator-id-8\" class=\"sk-toggleable__label sk-toggleable__label-arrow\">preprocessor: ColumnTransformer</label><div class=\"sk-toggleable__content\"><pre>ColumnTransformer(transformers=[(&#x27;numericas&#x27;,\n",
              "                                 Pipeline(steps=[(&#x27;imputer&#x27;, SimpleImputer()),\n",
              "                                                 (&#x27;scaler&#x27;, StandardScaler())]),\n",
              "                                 [&#x27;fixed acidity&#x27;, &#x27;volatile acidity&#x27;,\n",
              "                                  &#x27;citric acid&#x27;, &#x27;residual sugar&#x27;, &#x27;chlorides&#x27;,\n",
              "                                  &#x27;free sulfur dioxide&#x27;, &#x27;total sulfur dioxide&#x27;,\n",
              "                                  &#x27;density&#x27;, &#x27;pH&#x27;, &#x27;sulphates&#x27;, &#x27;alcohol&#x27;])])</pre></div></div></div><div class=\"sk-parallel\"><div class=\"sk-parallel-item\"><div class=\"sk-item\"><div class=\"sk-label-container\"><div class=\"sk-label sk-toggleable\"><input class=\"sk-toggleable__control sk-hidden--visually\" id=\"sk-estimator-id-9\" type=\"checkbox\" ><label for=\"sk-estimator-id-9\" class=\"sk-toggleable__label sk-toggleable__label-arrow\">numericas</label><div class=\"sk-toggleable__content\"><pre>[&#x27;fixed acidity&#x27;, &#x27;volatile acidity&#x27;, &#x27;citric acid&#x27;, &#x27;residual sugar&#x27;, &#x27;chlorides&#x27;, &#x27;free sulfur dioxide&#x27;, &#x27;total sulfur dioxide&#x27;, &#x27;density&#x27;, &#x27;pH&#x27;, &#x27;sulphates&#x27;, &#x27;alcohol&#x27;]</pre></div></div></div><div class=\"sk-serial\"><div class=\"sk-item\"><div class=\"sk-serial\"><div class=\"sk-item\"><div class=\"sk-estimator sk-toggleable\"><input class=\"sk-toggleable__control sk-hidden--visually\" id=\"sk-estimator-id-10\" type=\"checkbox\" ><label for=\"sk-estimator-id-10\" class=\"sk-toggleable__label sk-toggleable__label-arrow\">SimpleImputer</label><div class=\"sk-toggleable__content\"><pre>SimpleImputer()</pre></div></div></div><div class=\"sk-item\"><div class=\"sk-estimator sk-toggleable\"><input class=\"sk-toggleable__control sk-hidden--visually\" id=\"sk-estimator-id-11\" type=\"checkbox\" ><label for=\"sk-estimator-id-11\" class=\"sk-toggleable__label sk-toggleable__label-arrow\">StandardScaler</label><div class=\"sk-toggleable__content\"><pre>StandardScaler()</pre></div></div></div></div></div></div></div></div></div></div><div class=\"sk-item\"><div class=\"sk-estimator sk-toggleable\"><input class=\"sk-toggleable__control sk-hidden--visually\" id=\"sk-estimator-id-12\" type=\"checkbox\" ><label for=\"sk-estimator-id-12\" class=\"sk-toggleable__label sk-toggleable__label-arrow\">RandomForestClassifier</label><div class=\"sk-toggleable__content\"><pre>RandomForestClassifier(max_depth=15)</pre></div></div></div></div></div></div></div>"
            ]
          },
          "metadata": {},
          "execution_count": 26
        }
      ]
    },
    {
      "cell_type": "code",
      "source": [
        "y_predRF = modelo_RF.predict(X_test)\n",
        "y_predRF"
      ],
      "metadata": {
        "colab": {
          "base_uri": "https://localhost:8080/"
        },
        "id": "Yqpq5vXgMOpE",
        "outputId": "efc2b0bd-15ed-4a3c-b535-278ba25f8f9c"
      },
      "execution_count": 27,
      "outputs": [
        {
          "output_type": "execute_result",
          "data": {
            "text/plain": [
              "array([5, 7, 5, 6, 6, 7, 6, 6, 6, 5, 5, 6, 5, 6, 6, 6, 5, 6, 6, 5, 5, 6,\n",
              "       6, 6, 5, 5, 6, 5, 6, 5, 7, 5, 6, 5, 5, 5, 5, 6, 6, 5, 6, 5, 5, 5,\n",
              "       5, 5, 5, 5, 6, 5, 6, 7, 5, 6, 5, 6, 5, 5, 6, 6, 5, 6, 6, 6, 7, 6,\n",
              "       6, 6, 5, 5, 5, 6, 6, 6, 6, 6, 6, 5, 6, 6, 5, 5, 5, 5, 5, 6, 5, 6,\n",
              "       6, 7, 5, 5, 5, 6, 5, 6, 6, 6, 5, 6, 6, 5, 6, 6, 6, 6, 5, 5, 6, 5,\n",
              "       5, 6, 6, 6, 6, 5, 6, 6, 6, 7, 6, 5, 6, 6, 5, 6, 6, 5, 7, 6, 6, 7,\n",
              "       6, 6, 6, 6, 5, 6, 6, 6, 5, 6, 6, 6, 6, 6, 6, 6, 6, 7, 5, 5, 6, 5,\n",
              "       5, 6, 7, 6, 6, 5, 5, 5, 5, 5, 6, 5, 5, 5, 6, 6, 6, 5, 6, 5, 5, 5,\n",
              "       5, 6, 5, 5, 6, 6, 5, 6, 5, 6, 6, 6, 5, 6, 5, 5, 6, 6, 5, 5, 5, 5,\n",
              "       7, 6, 6, 5, 6, 6, 6, 5, 5, 5, 7, 6, 5, 6, 5, 6, 6, 6, 6, 7, 6, 7,\n",
              "       6, 6, 5, 6, 6, 6, 5, 6, 6, 5, 6, 5, 7, 6, 6, 5, 6, 6, 7, 6, 5, 7,\n",
              "       5, 6, 5, 6, 7, 6, 7, 6, 6, 6, 5, 5, 6, 5, 6, 6, 6, 5, 6, 6, 6, 5,\n",
              "       6, 5, 6, 6, 6, 6, 7, 5, 8, 6, 5, 6, 5, 5, 6, 6, 6, 6, 5, 6, 5, 5,\n",
              "       6, 5, 6, 5, 7, 5, 5, 5, 5, 5, 6, 6, 6, 6, 6, 5, 5, 6, 5, 6, 7, 5,\n",
              "       6, 6, 6, 5, 6, 5, 6, 5, 5, 6, 6, 5, 5, 6, 5, 6, 5, 5, 6, 6, 6, 6,\n",
              "       6, 5, 6, 6, 6, 6, 5, 5, 6, 6, 7, 5, 6])"
            ]
          },
          "metadata": {},
          "execution_count": 27
        }
      ]
    },
    {
      "cell_type": "markdown",
      "source": [
        "- Evaluar los modelos utilizando métricas como exactitud, precisión, recall, F1-Score y matriz de confusión."
      ],
      "metadata": {
        "id": "UMxvct1XySNF"
      }
    },
    {
      "cell_type": "markdown",
      "source": [
        "Evaluación del modelo Random Forest"
      ],
      "metadata": {
        "id": "zvfNIcdrLJGv"
      }
    },
    {
      "cell_type": "code",
      "source": [
        "exactitudRF = accuracy_score(y_test, y_predRF)\n",
        "\n",
        "print(f'Exactitud: {exactitudRF}')\n",
        "print('Informe de Clasificación:')\n",
        "print(classification_report(y_test, y_predRF))"
      ],
      "metadata": {
        "colab": {
          "base_uri": "https://localhost:8080/"
        },
        "id": "eQYo3JmPLJ-z",
        "outputId": "806d943d-aeb1-41b4-b84a-43955e5441c2"
      },
      "execution_count": 28,
      "outputs": [
        {
          "output_type": "stream",
          "name": "stdout",
          "text": [
            "Exactitud: 0.6180758017492711\n",
            "Informe de Clasificación:\n",
            "              precision    recall  f1-score   support\n",
            "\n",
            "           3       0.00      0.00      0.00         1\n",
            "           4       0.00      0.00      0.00         9\n",
            "           5       0.71      0.70      0.70       138\n",
            "           6       0.55      0.71      0.62       140\n",
            "           7       0.67      0.32      0.43        50\n",
            "           8       0.00      0.00      0.00         5\n",
            "\n",
            "    accuracy                           0.62       343\n",
            "   macro avg       0.32      0.29      0.29       343\n",
            "weighted avg       0.61      0.62      0.60       343\n",
            "\n"
          ]
        },
        {
          "output_type": "stream",
          "name": "stderr",
          "text": [
            "/usr/local/lib/python3.10/dist-packages/sklearn/metrics/_classification.py:1471: UndefinedMetricWarning: Precision and F-score are ill-defined and being set to 0.0 in labels with no predicted samples. Use `zero_division` parameter to control this behavior.\n",
            "  _warn_prf(average, modifier, msg_start, len(result))\n",
            "/usr/local/lib/python3.10/dist-packages/sklearn/metrics/_classification.py:1471: UndefinedMetricWarning: Precision and F-score are ill-defined and being set to 0.0 in labels with no predicted samples. Use `zero_division` parameter to control this behavior.\n",
            "  _warn_prf(average, modifier, msg_start, len(result))\n",
            "/usr/local/lib/python3.10/dist-packages/sklearn/metrics/_classification.py:1471: UndefinedMetricWarning: Precision and F-score are ill-defined and being set to 0.0 in labels with no predicted samples. Use `zero_division` parameter to control this behavior.\n",
            "  _warn_prf(average, modifier, msg_start, len(result))\n"
          ]
        }
      ]
    },
    {
      "cell_type": "markdown",
      "source": [
        "Se puede ver que la Exactitud (accuracy) tiene un porcentaje de 62.39% con predicciones correctas, la precisión para la clase '5' es 70% en el que el modelo predijo la clase correctamente, mientras que en ''3', '4' y '8' no tuvo precisión, recall el modelo detecta correctamente la clase '6' pero en las las otras obtiene un bajo nivel, F1-score se evidencia que no hay una buena media armónica entre la precision y recall ya que sólo da resultados para '5', '6' y '7' en las otras no tiene buen resultado y Support se puede apreciar que no hay un buen soporte de datos en el conjunto de prueba.\n",
        "\n",
        "En términos generales el modelo presenta dificultades para predecir adecuadamente las clases que se encuentran en menor proporción."
      ],
      "metadata": {
        "id": "r1bmWxNCrIjj"
      }
    },
    {
      "cell_type": "markdown",
      "source": [
        "Matriz de confusión modelo Random Forest"
      ],
      "metadata": {
        "id": "bC4Nm-01Oaz-"
      }
    },
    {
      "cell_type": "code",
      "source": [
        "matrix_confusionRF = confusion_matrix(y_test, y_predRF)\n",
        "\n",
        "print('Matriz de Confusión:')\n",
        "print(matrix_confusionRF)"
      ],
      "metadata": {
        "colab": {
          "base_uri": "https://localhost:8080/"
        },
        "id": "hkJzhUjmOUVy",
        "outputId": "d0fcb08c-6241-417b-a958-711b0ca6af5e"
      },
      "execution_count": 29,
      "outputs": [
        {
          "output_type": "stream",
          "name": "stdout",
          "text": [
            "Matriz de Confusión:\n",
            "[[  0   0   0   1   0   0]\n",
            " [  0   0   5   4   0   0]\n",
            " [  0   0  96  42   0   0]\n",
            " [  0   0  32 100   8   0]\n",
            " [  0   0   3  30  16   1]\n",
            " [  0   0   0   5   0   0]]\n"
          ]
        }
      ]
    },
    {
      "cell_type": "markdown",
      "source": [
        "Gráfico matriz de confusión modelo Random Forest"
      ],
      "metadata": {
        "id": "Ax4cI6-4OrJn"
      }
    },
    {
      "cell_type": "code",
      "source": [
        "matriz_cRF = ConfusionMatrixDisplay(confusion_matrix= matrix_confusionRF, display_labels=[3, 4, 5, 6, 7, 8])\n",
        "fig, ax=plt.subplots(figsize=(8,6))\n",
        "matriz_cRF.plot(ax=ax)\n",
        "plt.title('Matriz de confusion modelo Random Forest')\n",
        "plt.show()"
      ],
      "metadata": {
        "colab": {
          "base_uri": "https://localhost:8080/",
          "height": 564
        },
        "id": "4EGW7qAbOr-N",
        "outputId": "4ec10e01-c3fb-4e8f-a275-41f94f8ab6df"
      },
      "execution_count": 30,
      "outputs": [
        {
          "output_type": "display_data",
          "data": {
            "text/plain": [
              "<Figure size 800x600 with 2 Axes>"
            ],
            "image/png": "[encoded data removed]"
          },
          "metadata": {}
        }
      ]
    },
    {
      "cell_type": "markdown",
      "source": [
        "Crear y visualizar la curva ROC y calcular el AUC para el mejor modelo."
      ],
      "metadata": {
        "id": "Z3KEGb_LJgaJ"
      }
    },
    {
      "cell_type": "code",
      "source": [
        "from sklearn.preprocessing import label_binarize\n",
        "from sklearn.metrics import roc_curve, roc_auc_score\n",
        "\n",
        "# Definir los nombres de las clases\n",
        "clases = [3, 4, 5, 6, 7, 8]\n",
        "\n",
        "# Binarizar las etiquetas de prueba\n",
        "y_test_bin = label_binarize(y_test, classes=clases)\n",
        "\n",
        "# Calcular las probabilidades de predicción\n",
        "\n",
        "y_probRF = modelo_RF.predict_proba(X_test)\n",
        "\n",
        "# Calcular la curva ROC\n",
        "# Calcular y plotear la curva ROC para cada clase\n",
        "for i in range(y_test_bin.shape[1]):\n",
        "    fpr, tpr, _ = roc_curve(y_test_bin[:, i], y_probRF[:, i])\n",
        "    auc = roc_auc_score(y_test_bin[:, i], y_probRF[:, i])\n",
        "    plt.plot(fpr, tpr, label=f'Class {clases[i]} (area = %0.2f)' % auc)\n",
        "\n",
        "# Plotear la curva ROC\n",
        "plt.plot([0, 1], [0, 1], 'k--')\n",
        "plt.xlim([0.0, 1.0])\n",
        "plt.ylim([0.0, 1.05])\n",
        "plt.xlabel('False Positive Rate')\n",
        "plt.ylabel('True Positive Rate')\n",
        "plt.title('Curva ROC para el modelo Random Forest')\n",
        "plt.legend(loc=\"lower right\")\n",
        "plt.show()"
      ],
      "metadata": {
        "colab": {
          "base_uri": "https://localhost:8080/",
          "height": 472
        },
        "id": "DdsC-nsRJi4A",
        "outputId": "531b44e7-a86b-4c95-f430-bd25f2c28cbf"
      },
      "execution_count": 31,
      "outputs": [
        {
          "output_type": "display_data",
          "data": {
            "text/plain": [
              "<Figure size 640x480 with 1 Axes>"
            ],
            "image/png": "[encoded data removed]"
          },
          "metadata": {}
        }
      ]
    },
    {
      "cell_type": "markdown",
      "source": [
        "La curva anterior enfrenta lo que es falsa alarma contra la tasa de éxito, el área bajo la curva representa el rendimiento de cada una de las clases; clase '3' tiene un 0.93 lo que indica que el modelo tiene un rendimiento perfecto, clase '4' disminuye comparado con la clase anterior, clase '5' de 0.83 un rendimiento casi perfecto, clase '6' similar al rendimiento de la clase '4' es decir que es bueno pero que tiene ciertas fallas para la predicción de estos al igual que sucede con la clase '8' y por último la clase '7' es el segundo valor con mejor rendimiento, como conclusión en términos generales el modelo funciona con valores muy cercanos a 1 lo que indica un buen rendimiento para predecir el tipo de clase."
      ],
      "metadata": {
        "id": "Gw5wRXWM_OMw"
      }
    },
    {
      "cell_type": "markdown",
      "source": [
        "Utilizar validación cruzada para seleccionar los mejores hiperparámetros."
      ],
      "metadata": {
        "id": "y0D3bXY9xuGV"
      }
    },
    {
      "cell_type": "code",
      "source": [
        "# Optimización del modelo Random Forest\n",
        "\n",
        "from sklearn.model_selection import GridSearchCV\n",
        "\n",
        "# Crear un pipeline que primero preprocesa los datos y luego ajusta el modelo para Random Forest\n",
        "modelo_RF1 =  Pipeline(steps=[\n",
        "    ('preprocessor', preprocessor),\n",
        "    ('classifier', RandomForestClassifier(random_state=42))\n",
        "])\n",
        "\n",
        "# Definir el grid de hiperparámetros para encontrar el que mejor modele el RF\n",
        "param_RF = {\n",
        "    'classifier__n_estimators': [50, 100, 200],  # Número de árboles\n",
        "    'classifier__max_depth': [5, 10, 15],  # Profundidad máxima\n",
        "}\n"
      ],
      "metadata": {
        "id": "CeATuE2XxtwB"
      },
      "execution_count": 49,
      "outputs": []
    },
    {
      "cell_type": "code",
      "source": [
        "# Definir el GridSearchCV para el modelo RF\n",
        "grid_RF = GridSearchCV(estimator= modelo_RF1, param_grid=param_RF, cv=5, n_jobs=-1, verbose=2)\n",
        "\n",
        "# Ajustar el grid search a los datos de entrenamiento\n",
        "grid_RF.fit(X_train, y_train)"
      ],
      "metadata": {
        "colab": {
          "base_uri": "https://localhost:8080/",
          "height": 270
        },
        "id": "422rn9AtrHXQ",
        "outputId": "fcd53f0b-4f3b-4465-d07f-e30d99fb23fe"
      },
      "execution_count": 50,
      "outputs": [
        {
          "output_type": "stream",
          "name": "stdout",
          "text": [
            "Fitting 5 folds for each of 9 candidates, totalling 45 fits\n"
          ]
        },
        {
          "output_type": "execute_result",
          "data": {
            "text/plain": [
              "GridSearchCV(cv=5,\n",
              "             estimator=Pipeline(steps=[('preprocessor',\n",
              "                                        ColumnTransformer(transformers=[('numericas',\n",
              "                                                                         Pipeline(steps=[('imputer',\n",
              "                                                                                          SimpleImputer()),\n",
              "                                                                                         ('scaler',\n",
              "                                                                                          StandardScaler())]),\n",
              "                                                                         ['fixed '\n",
              "                                                                          'acidity',\n",
              "                                                                          'volatile '\n",
              "                                                                          'acidity',\n",
              "                                                                          'citric '\n",
              "                                                                          'acid',\n",
              "                                                                          'residual '\n",
              "                                                                          'sugar',\n",
              "                                                                          'chlorides',\n",
              "                                                                          'free '\n",
              "                                                                          'sulfur '\n",
              "                                                                          'dioxide',\n",
              "                                                                          'total '\n",
              "                                                                          'sulfur '\n",
              "                                                                          'dioxide',\n",
              "                                                                          'density',\n",
              "                                                                          'pH',\n",
              "                                                                          'sulphates',\n",
              "                                                                          'alcohol'])])),\n",
              "                                       ('classifier',\n",
              "                                        RandomForestClassifier(random_state=42))]),\n",
              "             n_jobs=-1,\n",
              "             param_grid={'classifier__max_depth': [5, 10, 15],\n",
              "                         'classifier__n_estimators': [50, 100, 200]},\n",
              "             verbose=2)"
            ],
            "text/html": [
              "<style>#sk-container-id-5 {color: black;}#sk-container-id-5 pre{padding: 0;}#sk-container-id-5 div.sk-toggleable {background-color: white;}#sk-container-id-5 label.sk-toggleable__label {cursor: pointer;display: block;width: 100%;margin-bottom: 0;padding: 0.3em;box-sizing: border-box;text-align: center;}#sk-container-id-5 label.sk-toggleable__label-arrow:before {content: \"▸\";float: left;margin-right: 0.25em;color: #696969;}#sk-container-id-5 label.sk-toggleable__label-arrow:hover:before {color: black;}#sk-container-id-5 div.sk-estimator:hover label.sk-toggleable__label-arrow:before {color: black;}#sk-container-id-5 div.sk-toggleable__content {max-height: 0;max-width: 0;overflow: hidden;text-align: left;background-color: #f0f8ff;}#sk-container-id-5 div.sk-toggleable__content pre {margin: 0.2em;color: black;border-radius: 0.25em;background-color: #f0f8ff;}#sk-container-id-5 input.sk-toggleable__control:checked~div.sk-toggleable__content {max-height: 200px;max-width: 100%;overflow: auto;}#sk-container-id-5 input.sk-toggleable__control:checked~label.sk-toggleable__label-arrow:before {content: \"▾\";}#sk-container-id-5 div.sk-estimator input.sk-toggleable__control:checked~label.sk-toggleable__label {background-color: #d4ebff;}#sk-container-id-5 div.sk-label input.sk-toggleable__control:checked~label.sk-toggleable__label {background-color: #d4ebff;}#sk-container-id-5 input.sk-hidden--visually {border: 0;clip: rect(1px 1px 1px 1px);clip: rect(1px, 1px, 1px, 1px);height: 1px;margin: -1px;overflow: hidden;padding: 0;position: absolute;width: 1px;}#sk-container-id-5 div.sk-estimator {font-family: monospace;background-color: #f0f8ff;border: 1px dotted black;border-radius: 0.25em;box-sizing: border-box;margin-bottom: 0.5em;}#sk-container-id-5 div.sk-estimator:hover {background-color: #d4ebff;}#sk-container-id-5 div.sk-parallel-item::after {content: \"\";width: 100%;border-bottom: 1px solid gray;flex-grow: 1;}#sk-container-id-5 div.sk-label:hover label.sk-toggleable__label {background-color: #d4ebff;}#sk-container-id-5 div.sk-serial::before {content: \"\";position: absolute;border-left: 1px solid gray;box-sizing: border-box;top: 0;bottom: 0;left: 50%;z-index: 0;}#sk-container-id-5 div.sk-serial {display: flex;flex-direction: column;align-items: center;background-color: white;padding-right: 0.2em;padding-left: 0.2em;position: relative;}#sk-container-id-5 div.sk-item {position: relative;z-index: 1;}#sk-container-id-5 div.sk-parallel {display: flex;align-items: stretch;justify-content: center;background-color: white;position: relative;}#sk-container-id-5 div.sk-item::before, #sk-container-id-5 div.sk-parallel-item::before {content: \"\";position: absolute;border-left: 1px solid gray;box-sizing: border-box;top: 0;bottom: 0;left: 50%;z-index: -1;}#sk-container-id-5 div.sk-parallel-item {display: flex;flex-direction: column;z-index: 1;position: relative;background-color: white;}#sk-container-id-5 div.sk-parallel-item:first-child::after {align-self: flex-end;width: 50%;}#sk-container-id-5 div.sk-parallel-item:last-child::after {align-self: flex-start;width: 50%;}#sk-container-id-5 div.sk-parallel-item:only-child::after {width: 0;}#sk-container-id-5 div.sk-dashed-wrapped {border: 1px dashed gray;margin: 0 0.4em 0.5em 0.4em;box-sizing: border-box;padding-bottom: 0.4em;background-color: white;}#sk-container-id-5 div.sk-label label {font-family: monospace;font-weight: bold;display: inline-block;line-height: 1.2em;}#sk-container-id-5 div.sk-label-container {text-align: center;}#sk-container-id-5 div.sk-container {/* jupyter's `normalize.less` sets `[hidden] { display: none; }` but bootstrap.min.css set `[hidden] { display: none !important; }` so we also need the `!important` here to be able to override the default hidden behavior on the sphinx rendered scikit-learn.org. See: https://github.com/scikit-learn/scikit-learn/issues/21755 */display: inline-block !important;position: relative;}#sk-container-id-5 div.sk-text-repr-fallback {display: none;}</style><div id=\"sk-container-id-5\" class=\"sk-top-container\"><div class=\"sk-text-repr-fallback\"><pre>GridSearchCV(cv=5,\n",
              "             estimator=Pipeline(steps=[(&#x27;preprocessor&#x27;,\n",
              "                                        ColumnTransformer(transformers=[(&#x27;numericas&#x27;,\n",
              "                                                                         Pipeline(steps=[(&#x27;imputer&#x27;,\n",
              "                                                                                          SimpleImputer()),\n",
              "                                                                                         (&#x27;scaler&#x27;,\n",
              "                                                                                          StandardScaler())]),\n",
              "                                                                         [&#x27;fixed &#x27;\n",
              "                                                                          &#x27;acidity&#x27;,\n",
              "                                                                          &#x27;volatile &#x27;\n",
              "                                                                          &#x27;acidity&#x27;,\n",
              "                                                                          &#x27;citric &#x27;\n",
              "                                                                          &#x27;acid&#x27;,\n",
              "                                                                          &#x27;residual &#x27;\n",
              "                                                                          &#x27;sugar&#x27;,\n",
              "                                                                          &#x27;chlorides&#x27;,\n",
              "                                                                          &#x27;free &#x27;\n",
              "                                                                          &#x27;sulfur &#x27;\n",
              "                                                                          &#x27;dioxide&#x27;,\n",
              "                                                                          &#x27;total &#x27;\n",
              "                                                                          &#x27;sulfur &#x27;\n",
              "                                                                          &#x27;dioxide&#x27;,\n",
              "                                                                          &#x27;density&#x27;,\n",
              "                                                                          &#x27;pH&#x27;,\n",
              "                                                                          &#x27;sulphates&#x27;,\n",
              "                                                                          &#x27;alcohol&#x27;])])),\n",
              "                                       (&#x27;classifier&#x27;,\n",
              "                                        RandomForestClassifier(random_state=42))]),\n",
              "             n_jobs=-1,\n",
              "             param_grid={&#x27;classifier__max_depth&#x27;: [5, 10, 15],\n",
              "                         &#x27;classifier__n_estimators&#x27;: [50, 100, 200]},\n",
              "             verbose=2)</pre><b>In a Jupyter environment, please rerun this cell to show the HTML representation or trust the notebook. <br />On GitHub, the HTML representation is unable to render, please try loading this page with nbviewer.org.</b></div><div class=\"sk-container\" hidden><div class=\"sk-item sk-dashed-wrapped\"><div class=\"sk-label-container\"><div class=\"sk-label sk-toggleable\"><input class=\"sk-toggleable__control sk-hidden--visually\" id=\"sk-estimator-id-26\" type=\"checkbox\" ><label for=\"sk-estimator-id-26\" class=\"sk-toggleable__label sk-toggleable__label-arrow\">GridSearchCV</label><div class=\"sk-toggleable__content\"><pre>GridSearchCV(cv=5,\n",
              "             estimator=Pipeline(steps=[(&#x27;preprocessor&#x27;,\n",
              "                                        ColumnTransformer(transformers=[(&#x27;numericas&#x27;,\n",
              "                                                                         Pipeline(steps=[(&#x27;imputer&#x27;,\n",
              "                                                                                          SimpleImputer()),\n",
              "                                                                                         (&#x27;scaler&#x27;,\n",
              "                                                                                          StandardScaler())]),\n",
              "                                                                         [&#x27;fixed &#x27;\n",
              "                                                                          &#x27;acidity&#x27;,\n",
              "                                                                          &#x27;volatile &#x27;\n",
              "                                                                          &#x27;acidity&#x27;,\n",
              "                                                                          &#x27;citric &#x27;\n",
              "                                                                          &#x27;acid&#x27;,\n",
              "                                                                          &#x27;residual &#x27;\n",
              "                                                                          &#x27;sugar&#x27;,\n",
              "                                                                          &#x27;chlorides&#x27;,\n",
              "                                                                          &#x27;free &#x27;\n",
              "                                                                          &#x27;sulfur &#x27;\n",
              "                                                                          &#x27;dioxide&#x27;,\n",
              "                                                                          &#x27;total &#x27;\n",
              "                                                                          &#x27;sulfur &#x27;\n",
              "                                                                          &#x27;dioxide&#x27;,\n",
              "                                                                          &#x27;density&#x27;,\n",
              "                                                                          &#x27;pH&#x27;,\n",
              "                                                                          &#x27;sulphates&#x27;,\n",
              "                                                                          &#x27;alcohol&#x27;])])),\n",
              "                                       (&#x27;classifier&#x27;,\n",
              "                                        RandomForestClassifier(random_state=42))]),\n",
              "             n_jobs=-1,\n",
              "             param_grid={&#x27;classifier__max_depth&#x27;: [5, 10, 15],\n",
              "                         &#x27;classifier__n_estimators&#x27;: [50, 100, 200]},\n",
              "             verbose=2)</pre></div></div></div><div class=\"sk-parallel\"><div class=\"sk-parallel-item\"><div class=\"sk-item\"><div class=\"sk-label-container\"><div class=\"sk-label sk-toggleable\"><input class=\"sk-toggleable__control sk-hidden--visually\" id=\"sk-estimator-id-27\" type=\"checkbox\" ><label for=\"sk-estimator-id-27\" class=\"sk-toggleable__label sk-toggleable__label-arrow\">estimator: Pipeline</label><div class=\"sk-toggleable__content\"><pre>Pipeline(steps=[(&#x27;preprocessor&#x27;,\n",
              "                 ColumnTransformer(transformers=[(&#x27;numericas&#x27;,\n",
              "                                                  Pipeline(steps=[(&#x27;imputer&#x27;,\n",
              "                                                                   SimpleImputer()),\n",
              "                                                                  (&#x27;scaler&#x27;,\n",
              "                                                                   StandardScaler())]),\n",
              "                                                  [&#x27;fixed acidity&#x27;,\n",
              "                                                   &#x27;volatile acidity&#x27;,\n",
              "                                                   &#x27;citric acid&#x27;,\n",
              "                                                   &#x27;residual sugar&#x27;,\n",
              "                                                   &#x27;chlorides&#x27;,\n",
              "                                                   &#x27;free sulfur dioxide&#x27;,\n",
              "                                                   &#x27;total sulfur dioxide&#x27;,\n",
              "                                                   &#x27;density&#x27;, &#x27;pH&#x27;, &#x27;sulphates&#x27;,\n",
              "                                                   &#x27;alcohol&#x27;])])),\n",
              "                (&#x27;classifier&#x27;, RandomForestClassifier(random_state=42))])</pre></div></div></div><div class=\"sk-serial\"><div class=\"sk-item\"><div class=\"sk-serial\"><div class=\"sk-item sk-dashed-wrapped\"><div class=\"sk-label-container\"><div class=\"sk-label sk-toggleable\"><input class=\"sk-toggleable__control sk-hidden--visually\" id=\"sk-estimator-id-28\" type=\"checkbox\" ><label for=\"sk-estimator-id-28\" class=\"sk-toggleable__label sk-toggleable__label-arrow\">preprocessor: ColumnTransformer</label><div class=\"sk-toggleable__content\"><pre>ColumnTransformer(transformers=[(&#x27;numericas&#x27;,\n",
              "                                 Pipeline(steps=[(&#x27;imputer&#x27;, SimpleImputer()),\n",
              "                                                 (&#x27;scaler&#x27;, StandardScaler())]),\n",
              "                                 [&#x27;fixed acidity&#x27;, &#x27;volatile acidity&#x27;,\n",
              "                                  &#x27;citric acid&#x27;, &#x27;residual sugar&#x27;, &#x27;chlorides&#x27;,\n",
              "                                  &#x27;free sulfur dioxide&#x27;, &#x27;total sulfur dioxide&#x27;,\n",
              "                                  &#x27;density&#x27;, &#x27;pH&#x27;, &#x27;sulphates&#x27;, &#x27;alcohol&#x27;])])</pre></div></div></div><div class=\"sk-parallel\"><div class=\"sk-parallel-item\"><div class=\"sk-item\"><div class=\"sk-label-container\"><div class=\"sk-label sk-toggleable\"><input class=\"sk-toggleable__control sk-hidden--visually\" id=\"sk-estimator-id-29\" type=\"checkbox\" ><label for=\"sk-estimator-id-29\" class=\"sk-toggleable__label sk-toggleable__label-arrow\">numericas</label><div class=\"sk-toggleable__content\"><pre>[&#x27;fixed acidity&#x27;, &#x27;volatile acidity&#x27;, &#x27;citric acid&#x27;, &#x27;residual sugar&#x27;, &#x27;chlorides&#x27;, &#x27;free sulfur dioxide&#x27;, &#x27;total sulfur dioxide&#x27;, &#x27;density&#x27;, &#x27;pH&#x27;, &#x27;sulphates&#x27;, &#x27;alcohol&#x27;]</pre></div></div></div><div class=\"sk-serial\"><div class=\"sk-item\"><div class=\"sk-serial\"><div class=\"sk-item\"><div class=\"sk-estimator sk-toggleable\"><input class=\"sk-toggleable__control sk-hidden--visually\" id=\"sk-estimator-id-30\" type=\"checkbox\" ><label for=\"sk-estimator-id-30\" class=\"sk-toggleable__label sk-toggleable__label-arrow\">SimpleImputer</label><div class=\"sk-toggleable__content\"><pre>SimpleImputer()</pre></div></div></div><div class=\"sk-item\"><div class=\"sk-estimator sk-toggleable\"><input class=\"sk-toggleable__control sk-hidden--visually\" id=\"sk-estimator-id-31\" type=\"checkbox\" ><label for=\"sk-estimator-id-31\" class=\"sk-toggleable__label sk-toggleable__label-arrow\">StandardScaler</label><div class=\"sk-toggleable__content\"><pre>StandardScaler()</pre></div></div></div></div></div></div></div></div></div></div><div class=\"sk-item\"><div class=\"sk-estimator sk-toggleable\"><input class=\"sk-toggleable__control sk-hidden--visually\" id=\"sk-estimator-id-32\" type=\"checkbox\" ><label for=\"sk-estimator-id-32\" class=\"sk-toggleable__label sk-toggleable__label-arrow\">RandomForestClassifier</label><div class=\"sk-toggleable__content\"><pre>RandomForestClassifier(random_state=42)</pre></div></div></div></div></div></div></div></div></div></div></div></div>"
            ]
          },
          "metadata": {},
          "execution_count": 50
        }
      ]
    },
    {
      "cell_type": "code",
      "source": [
        "# Mostrar los mejores hiperparámetros encontrados\n",
        "print(\"Mejores hiperparámetros:\", grid_RF.best_params_)\n",
        "\n",
        "# Usar el mejor modelo para hacer predicciones del modelo\n",
        "best_rf = grid_RF.best_estimator_\n",
        "y_pred_RFop = best_rf.predict(X_test)\n",
        "\n",
        "# Evaluar el rendimiento del modelo RF\n",
        "print(classification_report(y_test, y_pred_RFop))"
      ],
      "metadata": {
        "colab": {
          "base_uri": "https://localhost:8080/"
        },
        "id": "Wj0s3us2xe6D",
        "outputId": "0980d87d-a033-4803-f4b4-a84b50664485"
      },
      "execution_count": 42,
      "outputs": [
        {
          "output_type": "stream",
          "name": "stdout",
          "text": [
            "Mejores hiperparámetros: {'classifier__max_depth': 10, 'classifier__n_estimators': 50}\n",
            "              precision    recall  f1-score   support\n",
            "\n",
            "           3       0.00      0.00      0.00         1\n",
            "           4       0.00      0.00      0.00         9\n",
            "           5       0.73      0.72      0.72       138\n",
            "           6       0.55      0.72      0.63       140\n",
            "           7       0.67      0.32      0.43        50\n",
            "           8       0.00      0.00      0.00         5\n",
            "\n",
            "    accuracy                           0.63       343\n",
            "   macro avg       0.32      0.29      0.30       343\n",
            "weighted avg       0.62      0.63      0.61       343\n",
            "\n"
          ]
        },
        {
          "output_type": "stream",
          "name": "stderr",
          "text": [
            "/usr/local/lib/python3.10/dist-packages/sklearn/metrics/_classification.py:1471: UndefinedMetricWarning: Precision and F-score are ill-defined and being set to 0.0 in labels with no predicted samples. Use `zero_division` parameter to control this behavior.\n",
            "  _warn_prf(average, modifier, msg_start, len(result))\n",
            "/usr/local/lib/python3.10/dist-packages/sklearn/metrics/_classification.py:1471: UndefinedMetricWarning: Precision and F-score are ill-defined and being set to 0.0 in labels with no predicted samples. Use `zero_division` parameter to control this behavior.\n",
            "  _warn_prf(average, modifier, msg_start, len(result))\n",
            "/usr/local/lib/python3.10/dist-packages/sklearn/metrics/_classification.py:1471: UndefinedMetricWarning: Precision and F-score are ill-defined and being set to 0.0 in labels with no predicted samples. Use `zero_division` parameter to control this behavior.\n",
            "  _warn_prf(average, modifier, msg_start, len(result))\n"
          ]
        }
      ]
    },
    {
      "cell_type": "markdown",
      "source": [
        "Se puede ver reflejada la mejora que se tiene al optimizar los parámetros del modelo, se aprecian métricas de rendimiento con valores más altos. Este modelo presenta optimización con la búsqueda de lo mejores parámetros y se puede evidenciar en ambos casos, sin optimizar y optimizado."
      ],
      "metadata": {
        "id": "Kl_T_wlg4NXK"
      }
    },
    {
      "cell_type": "markdown",
      "source": [
        "Conclusión:"
      ],
      "metadata": {
        "id": "KghBGSIdyauE"
      }
    },
    {
      "cell_type": "markdown",
      "source": [
        "Modelo Regresión Logística"
      ],
      "metadata": {
        "id": "4w41BjRkQydR"
      }
    },
    {
      "cell_type": "code",
      "source": [
        "# Crear un pipeline que primero preprocesa los datos y luego ajusta el modelo Regresión Logística\n",
        "modelo_Lo = Pipeline(steps=[\n",
        "    ('preprocessor', preprocessor),\n",
        "    ('classifier', LogisticRegression(penalty='l2',           # Tipo de regularización L2 (Ridge)\n",
        "C=1.0,                   # Inverso de la fuerza de regularización\n",
        "solver='lbfgs',          # Algoritmo para la optimización\n",
        "max_iter=100,            # Número máximo de iteraciones\n",
        "tol=1e-4,                # Tolerancia para el criterio de parada\n",
        "random_state=42))         # Semilla para la reproducibilidad\n",
        "])"
      ],
      "metadata": {
        "id": "vLu49ff6PXXJ"
      },
      "execution_count": 43,
      "outputs": []
    },
    {
      "cell_type": "code",
      "source": [
        "# Ajuste del modelo Regresión Logística\n",
        "modelo_Lo.fit(X_train, y_train)"
      ],
      "metadata": {
        "colab": {
          "base_uri": "https://localhost:8080/",
          "height": 227
        },
        "id": "jf5iUMpWnLke",
        "outputId": "38b25cf1-9f89-41c9-b814-5cc46b3b5642"
      },
      "execution_count": 44,
      "outputs": [
        {
          "output_type": "execute_result",
          "data": {
            "text/plain": [
              "Pipeline(steps=[('preprocessor',\n",
              "                 ColumnTransformer(transformers=[('numericas',\n",
              "                                                  Pipeline(steps=[('imputer',\n",
              "                                                                   SimpleImputer()),\n",
              "                                                                  ('scaler',\n",
              "                                                                   StandardScaler())]),\n",
              "                                                  ['fixed acidity',\n",
              "                                                   'volatile acidity',\n",
              "                                                   'citric acid',\n",
              "                                                   'residual sugar',\n",
              "                                                   'chlorides',\n",
              "                                                   'free sulfur dioxide',\n",
              "                                                   'total sulfur dioxide',\n",
              "                                                   'density', 'pH', 'sulphates',\n",
              "                                                   'alcohol'])])),\n",
              "                ('classifier', LogisticRegression(random_state=42))])"
            ],
            "text/html": [
              "<style>#sk-container-id-4 {color: black;}#sk-container-id-4 pre{padding: 0;}#sk-container-id-4 div.sk-toggleable {background-color: white;}#sk-container-id-4 label.sk-toggleable__label {cursor: pointer;display: block;width: 100%;margin-bottom: 0;padding: 0.3em;box-sizing: border-box;text-align: center;}#sk-container-id-4 label.sk-toggleable__label-arrow:before {content: \"▸\";float: left;margin-right: 0.25em;color: #696969;}#sk-container-id-4 label.sk-toggleable__label-arrow:hover:before {color: black;}#sk-container-id-4 div.sk-estimator:hover label.sk-toggleable__label-arrow:before {color: black;}#sk-container-id-4 div.sk-toggleable__content {max-height: 0;max-width: 0;overflow: hidden;text-align: left;background-color: #f0f8ff;}#sk-container-id-4 div.sk-toggleable__content pre {margin: 0.2em;color: black;border-radius: 0.25em;background-color: #f0f8ff;}#sk-container-id-4 input.sk-toggleable__control:checked~div.sk-toggleable__content {max-height: 200px;max-width: 100%;overflow: auto;}#sk-container-id-4 input.sk-toggleable__control:checked~label.sk-toggleable__label-arrow:before {content: \"▾\";}#sk-container-id-4 div.sk-estimator input.sk-toggleable__control:checked~label.sk-toggleable__label {background-color: #d4ebff;}#sk-container-id-4 div.sk-label input.sk-toggleable__control:checked~label.sk-toggleable__label {background-color: #d4ebff;}#sk-container-id-4 input.sk-hidden--visually {border: 0;clip: rect(1px 1px 1px 1px);clip: rect(1px, 1px, 1px, 1px);height: 1px;margin: -1px;overflow: hidden;padding: 0;position: absolute;width: 1px;}#sk-container-id-4 div.sk-estimator {font-family: monospace;background-color: #f0f8ff;border: 1px dotted black;border-radius: 0.25em;box-sizing: border-box;margin-bottom: 0.5em;}#sk-container-id-4 div.sk-estimator:hover {background-color: #d4ebff;}#sk-container-id-4 div.sk-parallel-item::after {content: \"\";width: 100%;border-bottom: 1px solid gray;flex-grow: 1;}#sk-container-id-4 div.sk-label:hover label.sk-toggleable__label {background-color: #d4ebff;}#sk-container-id-4 div.sk-serial::before {content: \"\";position: absolute;border-left: 1px solid gray;box-sizing: border-box;top: 0;bottom: 0;left: 50%;z-index: 0;}#sk-container-id-4 div.sk-serial {display: flex;flex-direction: column;align-items: center;background-color: white;padding-right: 0.2em;padding-left: 0.2em;position: relative;}#sk-container-id-4 div.sk-item {position: relative;z-index: 1;}#sk-container-id-4 div.sk-parallel {display: flex;align-items: stretch;justify-content: center;background-color: white;position: relative;}#sk-container-id-4 div.sk-item::before, #sk-container-id-4 div.sk-parallel-item::before {content: \"\";position: absolute;border-left: 1px solid gray;box-sizing: border-box;top: 0;bottom: 0;left: 50%;z-index: -1;}#sk-container-id-4 div.sk-parallel-item {display: flex;flex-direction: column;z-index: 1;position: relative;background-color: white;}#sk-container-id-4 div.sk-parallel-item:first-child::after {align-self: flex-end;width: 50%;}#sk-container-id-4 div.sk-parallel-item:last-child::after {align-self: flex-start;width: 50%;}#sk-container-id-4 div.sk-parallel-item:only-child::after {width: 0;}#sk-container-id-4 div.sk-dashed-wrapped {border: 1px dashed gray;margin: 0 0.4em 0.5em 0.4em;box-sizing: border-box;padding-bottom: 0.4em;background-color: white;}#sk-container-id-4 div.sk-label label {font-family: monospace;font-weight: bold;display: inline-block;line-height: 1.2em;}#sk-container-id-4 div.sk-label-container {text-align: center;}#sk-container-id-4 div.sk-container {/* jupyter's `normalize.less` sets `[hidden] { display: none; }` but bootstrap.min.css set `[hidden] { display: none !important; }` so we also need the `!important` here to be able to override the default hidden behavior on the sphinx rendered scikit-learn.org. See: https://github.com/scikit-learn/scikit-learn/issues/21755 */display: inline-block !important;position: relative;}#sk-container-id-4 div.sk-text-repr-fallback {display: none;}</style><div id=\"sk-container-id-4\" class=\"sk-top-container\"><div class=\"sk-text-repr-fallback\"><pre>Pipeline(steps=[(&#x27;preprocessor&#x27;,\n",
              "                 ColumnTransformer(transformers=[(&#x27;numericas&#x27;,\n",
              "                                                  Pipeline(steps=[(&#x27;imputer&#x27;,\n",
              "                                                                   SimpleImputer()),\n",
              "                                                                  (&#x27;scaler&#x27;,\n",
              "                                                                   StandardScaler())]),\n",
              "                                                  [&#x27;fixed acidity&#x27;,\n",
              "                                                   &#x27;volatile acidity&#x27;,\n",
              "                                                   &#x27;citric acid&#x27;,\n",
              "                                                   &#x27;residual sugar&#x27;,\n",
              "                                                   &#x27;chlorides&#x27;,\n",
              "                                                   &#x27;free sulfur dioxide&#x27;,\n",
              "                                                   &#x27;total sulfur dioxide&#x27;,\n",
              "                                                   &#x27;density&#x27;, &#x27;pH&#x27;, &#x27;sulphates&#x27;,\n",
              "                                                   &#x27;alcohol&#x27;])])),\n",
              "                (&#x27;classifier&#x27;, LogisticRegression(random_state=42))])</pre><b>In a Jupyter environment, please rerun this cell to show the HTML representation or trust the notebook. <br />On GitHub, the HTML representation is unable to render, please try loading this page with nbviewer.org.</b></div><div class=\"sk-container\" hidden><div class=\"sk-item sk-dashed-wrapped\"><div class=\"sk-label-container\"><div class=\"sk-label sk-toggleable\"><input class=\"sk-toggleable__control sk-hidden--visually\" id=\"sk-estimator-id-20\" type=\"checkbox\" ><label for=\"sk-estimator-id-20\" class=\"sk-toggleable__label sk-toggleable__label-arrow\">Pipeline</label><div class=\"sk-toggleable__content\"><pre>Pipeline(steps=[(&#x27;preprocessor&#x27;,\n",
              "                 ColumnTransformer(transformers=[(&#x27;numericas&#x27;,\n",
              "                                                  Pipeline(steps=[(&#x27;imputer&#x27;,\n",
              "                                                                   SimpleImputer()),\n",
              "                                                                  (&#x27;scaler&#x27;,\n",
              "                                                                   StandardScaler())]),\n",
              "                                                  [&#x27;fixed acidity&#x27;,\n",
              "                                                   &#x27;volatile acidity&#x27;,\n",
              "                                                   &#x27;citric acid&#x27;,\n",
              "                                                   &#x27;residual sugar&#x27;,\n",
              "                                                   &#x27;chlorides&#x27;,\n",
              "                                                   &#x27;free sulfur dioxide&#x27;,\n",
              "                                                   &#x27;total sulfur dioxide&#x27;,\n",
              "                                                   &#x27;density&#x27;, &#x27;pH&#x27;, &#x27;sulphates&#x27;,\n",
              "                                                   &#x27;alcohol&#x27;])])),\n",
              "                (&#x27;classifier&#x27;, LogisticRegression(random_state=42))])</pre></div></div></div><div class=\"sk-serial\"><div class=\"sk-item sk-dashed-wrapped\"><div class=\"sk-label-container\"><div class=\"sk-label sk-toggleable\"><input class=\"sk-toggleable__control sk-hidden--visually\" id=\"sk-estimator-id-21\" type=\"checkbox\" ><label for=\"sk-estimator-id-21\" class=\"sk-toggleable__label sk-toggleable__label-arrow\">preprocessor: ColumnTransformer</label><div class=\"sk-toggleable__content\"><pre>ColumnTransformer(transformers=[(&#x27;numericas&#x27;,\n",
              "                                 Pipeline(steps=[(&#x27;imputer&#x27;, SimpleImputer()),\n",
              "                                                 (&#x27;scaler&#x27;, StandardScaler())]),\n",
              "                                 [&#x27;fixed acidity&#x27;, &#x27;volatile acidity&#x27;,\n",
              "                                  &#x27;citric acid&#x27;, &#x27;residual sugar&#x27;, &#x27;chlorides&#x27;,\n",
              "                                  &#x27;free sulfur dioxide&#x27;, &#x27;total sulfur dioxide&#x27;,\n",
              "                                  &#x27;density&#x27;, &#x27;pH&#x27;, &#x27;sulphates&#x27;, &#x27;alcohol&#x27;])])</pre></div></div></div><div class=\"sk-parallel\"><div class=\"sk-parallel-item\"><div class=\"sk-item\"><div class=\"sk-label-container\"><div class=\"sk-label sk-toggleable\"><input class=\"sk-toggleable__control sk-hidden--visually\" id=\"sk-estimator-id-22\" type=\"checkbox\" ><label for=\"sk-estimator-id-22\" class=\"sk-toggleable__label sk-toggleable__label-arrow\">numericas</label><div class=\"sk-toggleable__content\"><pre>[&#x27;fixed acidity&#x27;, &#x27;volatile acidity&#x27;, &#x27;citric acid&#x27;, &#x27;residual sugar&#x27;, &#x27;chlorides&#x27;, &#x27;free sulfur dioxide&#x27;, &#x27;total sulfur dioxide&#x27;, &#x27;density&#x27;, &#x27;pH&#x27;, &#x27;sulphates&#x27;, &#x27;alcohol&#x27;]</pre></div></div></div><div class=\"sk-serial\"><div class=\"sk-item\"><div class=\"sk-serial\"><div class=\"sk-item\"><div class=\"sk-estimator sk-toggleable\"><input class=\"sk-toggleable__control sk-hidden--visually\" id=\"sk-estimator-id-23\" type=\"checkbox\" ><label for=\"sk-estimator-id-23\" class=\"sk-toggleable__label sk-toggleable__label-arrow\">SimpleImputer</label><div class=\"sk-toggleable__content\"><pre>SimpleImputer()</pre></div></div></div><div class=\"sk-item\"><div class=\"sk-estimator sk-toggleable\"><input class=\"sk-toggleable__control sk-hidden--visually\" id=\"sk-estimator-id-24\" type=\"checkbox\" ><label for=\"sk-estimator-id-24\" class=\"sk-toggleable__label sk-toggleable__label-arrow\">StandardScaler</label><div class=\"sk-toggleable__content\"><pre>StandardScaler()</pre></div></div></div></div></div></div></div></div></div></div><div class=\"sk-item\"><div class=\"sk-estimator sk-toggleable\"><input class=\"sk-toggleable__control sk-hidden--visually\" id=\"sk-estimator-id-25\" type=\"checkbox\" ><label for=\"sk-estimator-id-25\" class=\"sk-toggleable__label sk-toggleable__label-arrow\">LogisticRegression</label><div class=\"sk-toggleable__content\"><pre>LogisticRegression(random_state=42)</pre></div></div></div></div></div></div></div>"
            ]
          },
          "metadata": {},
          "execution_count": 44
        }
      ]
    },
    {
      "cell_type": "code",
      "source": [
        "y_predLo = modelo_Lo.predict(X_test)\n",
        "y_predLo"
      ],
      "metadata": {
        "colab": {
          "base_uri": "https://localhost:8080/"
        },
        "id": "uOkNsfH6nyK2",
        "outputId": "424876da-4ca1-4fc1-ae3f-aec8efa31ba7"
      },
      "execution_count": 45,
      "outputs": [
        {
          "output_type": "execute_result",
          "data": {
            "text/plain": [
              "array([5, 6, 5, 6, 6, 7, 6, 6, 7, 5, 5, 6, 5, 5, 5, 7, 6, 7, 6, 5, 6, 6,\n",
              "       5, 5, 6, 5, 6, 5, 6, 5, 7, 5, 6, 5, 5, 6, 5, 6, 7, 5, 6, 5, 6, 6,\n",
              "       5, 5, 5, 5, 6, 5, 6, 6, 5, 5, 5, 6, 5, 6, 6, 6, 5, 6, 6, 7, 7, 6,\n",
              "       6, 6, 6, 5, 5, 5, 6, 6, 8, 6, 6, 5, 6, 6, 5, 5, 5, 5, 5, 5, 5, 5,\n",
              "       6, 7, 5, 5, 5, 6, 5, 6, 6, 5, 5, 5, 5, 6, 6, 5, 6, 6, 5, 5, 6, 5,\n",
              "       5, 5, 6, 6, 6, 5, 6, 6, 7, 6, 6, 5, 6, 5, 5, 7, 6, 6, 5, 6, 6, 6,\n",
              "       5, 6, 6, 6, 5, 6, 6, 5, 6, 5, 6, 6, 6, 6, 6, 6, 6, 6, 5, 5, 6, 5,\n",
              "       5, 6, 7, 6, 5, 5, 5, 6, 5, 5, 6, 5, 6, 5, 6, 6, 6, 5, 5, 5, 5, 5,\n",
              "       5, 6, 5, 5, 5, 6, 5, 6, 5, 7, 6, 6, 6, 5, 5, 5, 6, 6, 5, 5, 5, 5,\n",
              "       6, 7, 6, 6, 6, 6, 6, 5, 5, 5, 7, 6, 5, 6, 5, 6, 7, 5, 7, 7, 6, 7,\n",
              "       6, 7, 5, 7, 6, 6, 5, 6, 6, 5, 6, 5, 6, 6, 6, 5, 7, 6, 5, 6, 5, 6,\n",
              "       5, 5, 5, 6, 7, 6, 6, 6, 6, 5, 5, 5, 6, 5, 6, 6, 5, 5, 6, 6, 6, 5,\n",
              "       6, 5, 6, 5, 6, 6, 7, 5, 6, 5, 6, 5, 5, 5, 6, 7, 5, 7, 5, 6, 5, 5,\n",
              "       6, 5, 5, 5, 7, 5, 5, 5, 5, 5, 6, 6, 6, 6, 5, 5, 6, 6, 5, 5, 7, 6,\n",
              "       5, 6, 6, 5, 6, 5, 6, 5, 5, 7, 6, 6, 6, 6, 5, 6, 5, 5, 6, 6, 5, 6,\n",
              "       6, 5, 6, 6, 6, 5, 5, 5, 6, 6, 7, 5, 6])"
            ]
          },
          "metadata": {},
          "execution_count": 45
        }
      ]
    },
    {
      "cell_type": "markdown",
      "source": [
        "- Evaluar los modelos utilizando métricas como exactitud, precisión, recall, F1-Score y matriz de confusión."
      ],
      "metadata": {
        "id": "qUpu8ab8ycn1"
      }
    },
    {
      "cell_type": "code",
      "source": [
        "exactitud_Lo = accuracy_score(y_test, y_predLo)\n",
        "\n",
        "print(f'Exactitud: {exactitud_Lo}')\n",
        "print('Informe de Clasificación:')\n",
        "print(classification_report(y_test, y_predLo))"
      ],
      "metadata": {
        "colab": {
          "base_uri": "https://localhost:8080/"
        },
        "id": "8O3PokBMoXJH",
        "outputId": "90ebd806-11b4-4f8a-e0a1-1fe85f9ccde5"
      },
      "execution_count": 46,
      "outputs": [
        {
          "output_type": "stream",
          "name": "stdout",
          "text": [
            "Exactitud: 0.577259475218659\n",
            "Informe de Clasificación:\n",
            "              precision    recall  f1-score   support\n",
            "\n",
            "           3       0.00      0.00      0.00         1\n",
            "           4       0.00      0.00      0.00         9\n",
            "           5       0.65      0.72      0.68       138\n",
            "           6       0.53      0.60      0.56       140\n",
            "           7       0.50      0.30      0.37        50\n",
            "           8       0.00      0.00      0.00         5\n",
            "\n",
            "    accuracy                           0.58       343\n",
            "   macro avg       0.28      0.27      0.27       343\n",
            "weighted avg       0.55      0.58      0.56       343\n",
            "\n"
          ]
        },
        {
          "output_type": "stream",
          "name": "stderr",
          "text": [
            "/usr/local/lib/python3.10/dist-packages/sklearn/metrics/_classification.py:1471: UndefinedMetricWarning: Precision and F-score are ill-defined and being set to 0.0 in labels with no predicted samples. Use `zero_division` parameter to control this behavior.\n",
            "  _warn_prf(average, modifier, msg_start, len(result))\n",
            "/usr/local/lib/python3.10/dist-packages/sklearn/metrics/_classification.py:1471: UndefinedMetricWarning: Precision and F-score are ill-defined and being set to 0.0 in labels with no predicted samples. Use `zero_division` parameter to control this behavior.\n",
            "  _warn_prf(average, modifier, msg_start, len(result))\n",
            "/usr/local/lib/python3.10/dist-packages/sklearn/metrics/_classification.py:1471: UndefinedMetricWarning: Precision and F-score are ill-defined and being set to 0.0 in labels with no predicted samples. Use `zero_division` parameter to control this behavior.\n",
            "  _warn_prf(average, modifier, msg_start, len(result))\n"
          ]
        }
      ]
    },
    {
      "cell_type": "markdown",
      "source": [
        "Para la exactitud mide el porcentaje de predicciones correctas en relación con el total de predicciones realizadas es de 57.73% de las predicciones del modelo son correctas pero también se encuentra lejos de estar preciso debido al desbalance de la data.\n",
        "\n",
        "Presenta un rendimiento con mejores métricas para las clases '5' y '6' que son las que estan en mayor proporción en el dataset pero presenta grandes dificultades para clasificar correctamente las clases con menor proporción como las clases '3', '4', '7' y '8' lo que evidencia el desbalance lo cual está afectando el rendimiento del modelo en especial en aquellas clases menos freucentes."
      ],
      "metadata": {
        "id": "jPunaQUdv_-i"
      }
    },
    {
      "cell_type": "markdown",
      "source": [
        "- Evaluar los modelos utilizando métricas como exactitud, precisión, recall, F1-Score y matriz de confusión."
      ],
      "metadata": {
        "id": "DRiMma6uyW__"
      }
    },
    {
      "cell_type": "markdown",
      "source": [
        "Matriz de confusión Regresión Logística"
      ],
      "metadata": {
        "id": "8xt7q_g7oyqF"
      }
    },
    {
      "cell_type": "code",
      "source": [
        "matrix_confusionRL = confusion_matrix(y_test, y_predLo)\n",
        "\n",
        "print('Matriz de Confusión:')\n",
        "print(matrix_confusionRL)"
      ],
      "metadata": {
        "colab": {
          "base_uri": "https://localhost:8080/"
        },
        "id": "YYrbD85jovh3",
        "outputId": "94949617-25ca-45ef-ff4e-c8f5e86f26da"
      },
      "execution_count": 47,
      "outputs": [
        {
          "output_type": "stream",
          "name": "stdout",
          "text": [
            "Matriz de Confusión:\n",
            "[[ 0  0  1  0  0  0]\n",
            " [ 0  0  6  3  0  0]\n",
            " [ 0  0 99 39  0  0]\n",
            " [ 0  0 42 84 13  1]\n",
            " [ 0  0  5 30 15  0]\n",
            " [ 0  0  0  3  2  0]]\n"
          ]
        }
      ]
    },
    {
      "cell_type": "markdown",
      "source": [
        "Gráfico matriz de confusión modelo Regresión Logística"
      ],
      "metadata": {
        "id": "0IHwWWOEQGcd"
      }
    },
    {
      "cell_type": "code",
      "source": [
        "matriz_cReg = ConfusionMatrixDisplay(confusion_matrix= matrix_confusionRL, display_labels=[3, 4, 5, 6, 7, 8])\n",
        "fig, ax=plt.subplots(figsize=(8,6))\n",
        "matriz_cReg.plot(ax=ax)\n",
        "plt.title('Matriz de confusion modelo Regresión Logística')\n",
        "plt.show()"
      ],
      "metadata": {
        "colab": {
          "base_uri": "https://localhost:8080/",
          "height": 565
        },
        "id": "BSORJUuxpAdE",
        "outputId": "90b81b3b-7c0c-47cd-8df9-02673bc2dfcb"
      },
      "execution_count": 48,
      "outputs": [
        {
          "output_type": "display_data",
          "data": {
            "text/plain": [
              "<Figure size 800x600 with 2 Axes>"
            ],
            "image/png": "[encoded data removed]"
          },
          "metadata": {}
        }
      ]
    },
    {
      "cell_type": "markdown",
      "source": [
        "Optimización del modelo Regresión Logística"
      ],
      "metadata": {
        "id": "8C_ufgvryvGA"
      }
    },
    {
      "cell_type": "code",
      "source": [
        "# Crear el pipeline que incluye preprocesamiento y el modelo de Regresión Logística\n",
        "modelo_RL1 = Pipeline(steps=[\n",
        "    ('preprocessor', preprocessor),\n",
        "    ('classifier', LogisticRegression(random_state=42, max_iter=1000))  # Modelo Regresión Logística\n",
        "])\n",
        "\n",
        "# Definir el grid de hiperparámetros\n",
        "param_RL = {\n",
        "    'classifier__C': [0.1, 1, 10],  # Parámetro de regularización\n",
        "    'classifier__penalty': ['l1', 'l2'],  # Tipo de regularización\n",
        "   }"
      ],
      "metadata": {
        "id": "18q2qescyutn"
      },
      "execution_count": 57,
      "outputs": []
    },
    {
      "cell_type": "code",
      "source": [
        "# Definir el GridSearchCV para el modelo de Regresión Lineal\n",
        "grid_RL = GridSearchCV(estimator=modelo_RL1, param_grid=param_RL, cv=5, n_jobs=-1, verbose=2)\n",
        "\n",
        "# Ajustar el grid search a los datos de entrenamiento\n",
        "grid_RL.fit(X_train, y_train)\n",
        "\n",
        "# Para obtener los mejores hiperparámetros\n",
        "print(grid_RL.best_params_)"
      ],
      "metadata": {
        "colab": {
          "base_uri": "https://localhost:8080/"
        },
        "id": "5g9ZGIfc0Vbt",
        "outputId": "ba5630c0-60ea-49af-9c70-503e33a5504a"
      },
      "execution_count": 58,
      "outputs": [
        {
          "output_type": "stream",
          "name": "stdout",
          "text": [
            "Fitting 5 folds for each of 6 candidates, totalling 30 fits\n",
            "{'classifier__C': 10, 'classifier__penalty': 'l2'}\n"
          ]
        },
        {
          "output_type": "stream",
          "name": "stderr",
          "text": [
            "/usr/local/lib/python3.10/dist-packages/sklearn/model_selection/_validation.py:425: FitFailedWarning: \n",
            "15 fits failed out of a total of 30.\n",
            "The score on these train-test partitions for these parameters will be set to nan.\n",
            "If these failures are not expected, you can try to debug them by setting error_score='raise'.\n",
            "\n",
            "Below are more details about the failures:\n",
            "--------------------------------------------------------------------------------\n",
            "15 fits failed with the following error:\n",
            "Traceback (most recent call last):\n",
            "  File \"/usr/local/lib/python3.10/dist-packages/sklearn/model_selection/_validation.py\", line 729, in _fit_and_score\n",
            "    estimator.fit(X_train, y_train, **fit_params)\n",
            "  File \"/usr/local/lib/python3.10/dist-packages/sklearn/base.py\", line 1152, in wrapper\n",
            "    return fit_method(estimator, *args, **kwargs)\n",
            "  File \"/usr/local/lib/python3.10/dist-packages/sklearn/pipeline.py\", line 427, in fit\n",
            "    self._final_estimator.fit(Xt, y, **fit_params_last_step)\n",
            "  File \"/usr/local/lib/python3.10/dist-packages/sklearn/base.py\", line 1152, in wrapper\n",
            "    return fit_method(estimator, *args, **kwargs)\n",
            "  File \"/usr/local/lib/python3.10/dist-packages/sklearn/linear_model/_logistic.py\", line 1169, in fit\n",
            "    solver = _check_solver(self.solver, self.penalty, self.dual)\n",
            "  File \"/usr/local/lib/python3.10/dist-packages/sklearn/linear_model/_logistic.py\", line 56, in _check_solver\n",
            "    raise ValueError(\n",
            "ValueError: Solver lbfgs supports only 'l2' or 'none' penalties, got l1 penalty.\n",
            "\n",
            "  warnings.warn(some_fits_failed_message, FitFailedWarning)\n",
            "/usr/local/lib/python3.10/dist-packages/sklearn/model_selection/_search.py:979: UserWarning: One or more of the test scores are non-finite: [    nan 0.6025      nan 0.6075      nan 0.60875]\n",
            "  warnings.warn(\n"
          ]
        }
      ]
    },
    {
      "cell_type": "code",
      "source": [
        "# Obtener el mejor modelo del GridSearchCV\n",
        "mejor_modelo = grid_RL.best_estimator_\n",
        "\n",
        "# Hacer predicciones en los datos de prueba\n",
        "y_predRLop = mejor_modelo.predict(X_test)\n",
        "\n",
        "# Generar un informe de clasificación completo\n",
        "print(\"\\nInforme de clasificación Modelo Regresión Logística optimizado:\")\n",
        "print(classification_report(y_test, y_predRLop))"
      ],
      "metadata": {
        "colab": {
          "base_uri": "https://localhost:8080/"
        },
        "id": "cYCvnC9A2Bhr",
        "outputId": "6ba4601f-8ebb-4778-e0a6-653b2f3e6a3e"
      },
      "execution_count": 60,
      "outputs": [
        {
          "output_type": "stream",
          "name": "stdout",
          "text": [
            "\n",
            "Informe de clasificación Modelo Regresión Logística optimizado:\n",
            "              precision    recall  f1-score   support\n",
            "\n",
            "           3       0.00      0.00      0.00         1\n",
            "           4       0.00      0.00      0.00         9\n",
            "           5       0.64      0.71      0.68       138\n",
            "           6       0.53      0.60      0.56       140\n",
            "           7       0.50      0.30      0.37        50\n",
            "           8       0.00      0.00      0.00         5\n",
            "\n",
            "    accuracy                           0.57       343\n",
            "   macro avg       0.28      0.27      0.27       343\n",
            "weighted avg       0.55      0.57      0.56       343\n",
            "\n"
          ]
        },
        {
          "output_type": "stream",
          "name": "stderr",
          "text": [
            "/usr/local/lib/python3.10/dist-packages/sklearn/metrics/_classification.py:1471: UndefinedMetricWarning: Precision and F-score are ill-defined and being set to 0.0 in labels with no predicted samples. Use `zero_division` parameter to control this behavior.\n",
            "  _warn_prf(average, modifier, msg_start, len(result))\n",
            "/usr/local/lib/python3.10/dist-packages/sklearn/metrics/_classification.py:1471: UndefinedMetricWarning: Precision and F-score are ill-defined and being set to 0.0 in labels with no predicted samples. Use `zero_division` parameter to control this behavior.\n",
            "  _warn_prf(average, modifier, msg_start, len(result))\n",
            "/usr/local/lib/python3.10/dist-packages/sklearn/metrics/_classification.py:1471: UndefinedMetricWarning: Precision and F-score are ill-defined and being set to 0.0 in labels with no predicted samples. Use `zero_division` parameter to control this behavior.\n",
            "  _warn_prf(average, modifier, msg_start, len(result))\n"
          ]
        }
      ]
    },
    {
      "cell_type": "markdown",
      "source": [
        "Al comparar las métricas con el modelo sin optimizar no se evidencia una mejora, lo que quiere decir que el modelo como estaba anteriormente es la vía mpas adecuada para el proceso."
      ],
      "metadata": {
        "id": "DikV_PVC3-DO"
      }
    },
    {
      "cell_type": "markdown",
      "source": [
        " 5. Análisis y Comparación de Resultados:\n",
        "\n",
        "Comparar el rendimiento de los diferentes modelos.\n",
        "Discutir cuál modelo ofrece el mejor rendimiento y por qué.\n",
        "\n",
        "\n",
        "Identificar las fortalezas y debilidades de cada enfoque en este contexto."
      ],
      "metadata": {
        "id": "PfR5MkXvRVos"
      }
    },
    {
      "cell_type": "code",
      "source": [
        "# Métricas del modelo KNN\n",
        "print('Métricas del modelo KNN')\n",
        "exactitudKNN = accuracy_score(y_test, y_predKNN)\n",
        "\n",
        "print(f'Exactitud: {exactitudKNN}')\n",
        "print('Informe de Clasificación:')\n",
        "print(classification_report(y_test, y_predKNN))\n",
        "\n",
        "# Métricas del modelo Random Forest\n",
        "print('\\nMétricas del modelo Random Forest')\n",
        "exactitudRF = accuracy_score(y_test, y_predRF)\n",
        "\n",
        "print(f'Exactitud: {exactitudRF}')\n",
        "print('Informe de Clasificación:')\n",
        "print(classification_report(y_test, y_predRF))\n",
        "\n",
        "# Métricas del modelo Regresión Logística\n",
        "print('\\nMétricas del modelo Regresión Logística')\n",
        "exactitud_Lo = accuracy_score(y_test, y_predLo)\n",
        "\n",
        "print(f'Exactitud: {exactitud_Lo}')\n",
        "print('Informe de Clasificación:')\n",
        "print(classification_report(y_test, y_predLo))\n"
      ],
      "metadata": {
        "id": "zSzeCLL3RYuY",
        "colab": {
          "base_uri": "https://localhost:8080/"
        },
        "outputId": "1846771f-c9e8-4c9c-94fe-bc270170aae2"
      },
      "execution_count": 56,
      "outputs": [
        {
          "output_type": "stream",
          "name": "stdout",
          "text": [
            "Métricas del modelo KNN\n",
            "Exactitud: 0.5014577259475219\n",
            "Informe de Clasificación:\n",
            "              precision    recall  f1-score   support\n",
            "\n",
            "           3       0.00      0.00      0.00         1\n",
            "           4       0.12      0.22      0.15         9\n",
            "           5       0.52      0.70      0.60       138\n",
            "           6       0.52      0.46      0.49       140\n",
            "           7       0.60      0.18      0.28        50\n",
            "           8       0.00      0.00      0.00         5\n",
            "\n",
            "    accuracy                           0.50       343\n",
            "   macro avg       0.29      0.26      0.25       343\n",
            "weighted avg       0.52      0.50      0.49       343\n",
            "\n",
            "\n",
            "Métricas del modelo Random Forest\n",
            "Exactitud: 0.6180758017492711\n",
            "Informe de Clasificación:\n",
            "              precision    recall  f1-score   support\n",
            "\n",
            "           3       0.00      0.00      0.00         1\n",
            "           4       0.00      0.00      0.00         9\n",
            "           5       0.71      0.70      0.70       138\n",
            "           6       0.55      0.71      0.62       140\n",
            "           7       0.67      0.32      0.43        50\n",
            "           8       0.00      0.00      0.00         5\n",
            "\n",
            "    accuracy                           0.62       343\n",
            "   macro avg       0.32      0.29      0.29       343\n",
            "weighted avg       0.61      0.62      0.60       343\n",
            "\n",
            "\n",
            "Métricas del modelo Regresión Logística\n",
            "Exactitud: 0.577259475218659\n",
            "Informe de Clasificación:\n",
            "              precision    recall  f1-score   support\n",
            "\n",
            "           3       0.00      0.00      0.00         1\n",
            "           4       0.00      0.00      0.00         9\n",
            "           5       0.65      0.72      0.68       138\n",
            "           6       0.53      0.60      0.56       140\n",
            "           7       0.50      0.30      0.37        50\n",
            "           8       0.00      0.00      0.00         5\n",
            "\n",
            "    accuracy                           0.58       343\n",
            "   macro avg       0.28      0.27      0.27       343\n",
            "weighted avg       0.55      0.58      0.56       343\n",
            "\n"
          ]
        },
        {
          "output_type": "stream",
          "name": "stderr",
          "text": [
            "/usr/local/lib/python3.10/dist-packages/sklearn/metrics/_classification.py:1471: UndefinedMetricWarning: Precision and F-score are ill-defined and being set to 0.0 in labels with no predicted samples. Use `zero_division` parameter to control this behavior.\n",
            "  _warn_prf(average, modifier, msg_start, len(result))\n",
            "/usr/local/lib/python3.10/dist-packages/sklearn/metrics/_classification.py:1471: UndefinedMetricWarning: Precision and F-score are ill-defined and being set to 0.0 in labels with no predicted samples. Use `zero_division` parameter to control this behavior.\n",
            "  _warn_prf(average, modifier, msg_start, len(result))\n",
            "/usr/local/lib/python3.10/dist-packages/sklearn/metrics/_classification.py:1471: UndefinedMetricWarning: Precision and F-score are ill-defined and being set to 0.0 in labels with no predicted samples. Use `zero_division` parameter to control this behavior.\n",
            "  _warn_prf(average, modifier, msg_start, len(result))\n",
            "/usr/local/lib/python3.10/dist-packages/sklearn/metrics/_classification.py:1471: UndefinedMetricWarning: Precision and F-score are ill-defined and being set to 0.0 in labels with no predicted samples. Use `zero_division` parameter to control this behavior.\n",
            "  _warn_prf(average, modifier, msg_start, len(result))\n",
            "/usr/local/lib/python3.10/dist-packages/sklearn/metrics/_classification.py:1471: UndefinedMetricWarning: Precision and F-score are ill-defined and being set to 0.0 in labels with no predicted samples. Use `zero_division` parameter to control this behavior.\n",
            "  _warn_prf(average, modifier, msg_start, len(result))\n",
            "/usr/local/lib/python3.10/dist-packages/sklearn/metrics/_classification.py:1471: UndefinedMetricWarning: Precision and F-score are ill-defined and being set to 0.0 in labels with no predicted samples. Use `zero_division` parameter to control this behavior.\n",
            "  _warn_prf(average, modifier, msg_start, len(result))\n"
          ]
        }
      ]
    },
    {
      "cell_type": "markdown",
      "source": [
        "Conclusión.\n",
        "\n",
        "Se puede apreciar que el modelo Random Forest tiene la mejor exactitud, lo que significa que clasifica correctamente más instancias en general.\n",
        "\n",
        "Para la métrica Precision tiene mejor resultado lo que indica que cuando predice una categoría es mucho más probabl de que sea correcta.\n",
        "\n",
        "Recall para Random Forest lo que quiere decir que identifica apropiadamente las instancias de las clases que predice.\n",
        "\n",
        "F1-Score presenta mejor resultado que es indicativo que hay un mejor equlibrio entre la precisión y el recall.\n",
        "\n",
        "Aunque las métricas son buenas para el modelo Random Forest es válido aclarar que la data no presenta una distribución en iguales proporciones lo que se evidencia en los modelos."
      ],
      "metadata": {
        "id": "sZRK0jdh9P8i"
      }
    }
  ]
}